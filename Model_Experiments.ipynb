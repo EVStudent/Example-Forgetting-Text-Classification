{
  "cells": [
    {
      "cell_type": "code",
      "execution_count": null,
      "metadata": {
        "id": "VZyr3xWu15sq"
      },
      "outputs": [],
      "source": [
        "import pandas as pd\n",
        "import numpy as np\n",
        "import csv\n",
        "import torch.optim as optim\n",
        "import torch\n",
        "from sklearn.feature_extraction.text import TfidfVectorizer\n",
        "from sklearn.model_selection import train_test_split\n",
        "from sklearn.feature_extraction.text import CountVectorizer\n",
        "from torch.utils.data import Dataset, DataLoader\n",
        "import torch.nn as nn\n",
        "import torch.nn.functional as F\n",
        "import matplotlib.pyplot as plt\n",
        "import random\n",
        "\n",
        "\n"
      ]
    },
    {
      "cell_type": "markdown",
      "metadata": {
        "id": "Q87kxWs53w4M"
      },
      "source": [
        "# Data Loading"
      ]
    },
    {
      "cell_type": "code",
      "execution_count": null,
      "metadata": {
        "id": "U7X9_hrD25R1"
      },
      "outputs": [],
      "source": [
        "df = pd.read_csv(\"One-Hot_Encoded_Tags_with_Metadata.csv\")"
      ]
    },
    {
      "cell_type": "markdown",
      "metadata": {
        "id": "nOHPANSbzIAy"
      },
      "source": []
    },
    {
      "cell_type": "code",
      "execution_count": null,
      "metadata": {
        "colab": {
          "base_uri": "https://localhost:8080/",
          "height": 568
        },
        "id": "KmwIjwGB3og6",
        "outputId": "cb9d116e-8e9b-472c-cc7c-cd1147d21f31"
      },
      "outputs": [
        {
          "data": {
            "application/vnd.google.colaboratory.intrinsic+json": {
              "type": "dataframe",
              "variable_name": "df"
            },
            "text/html": [
              "\n",
              "  <div id=\"df-36ebf95a-81f0-4cf5-9471-a33faacdc7f2\" class=\"colab-df-container\">\n",
              "    <div>\n",
              "<style scoped>\n",
              "    .dataframe tbody tr th:only-of-type {\n",
              "        vertical-align: middle;\n",
              "    }\n",
              "\n",
              "    .dataframe tbody tr th {\n",
              "        vertical-align: top;\n",
              "    }\n",
              "\n",
              "    .dataframe thead th {\n",
              "        text-align: right;\n",
              "    }\n",
              "</style>\n",
              "<table border=\"1\" class=\"dataframe\">\n",
              "  <thead>\n",
              "    <tr style=\"text-align: right;\">\n",
              "      <th></th>\n",
              "      <th>imdb_id</th>\n",
              "      <th>title</th>\n",
              "      <th>plot_synopsis</th>\n",
              "      <th>split</th>\n",
              "      <th>absurd</th>\n",
              "      <th>action</th>\n",
              "      <th>adult comedy</th>\n",
              "      <th>allegory</th>\n",
              "      <th>alternate history</th>\n",
              "      <th>alternate reality</th>\n",
              "      <th>...</th>\n",
              "      <th>sentimental</th>\n",
              "      <th>storytelling</th>\n",
              "      <th>stupid</th>\n",
              "      <th>suicidal</th>\n",
              "      <th>suspenseful</th>\n",
              "      <th>thought-provoking</th>\n",
              "      <th>tragedy</th>\n",
              "      <th>violence</th>\n",
              "      <th>western</th>\n",
              "      <th>whimsical</th>\n",
              "    </tr>\n",
              "  </thead>\n",
              "  <tbody>\n",
              "    <tr>\n",
              "      <th>0</th>\n",
              "      <td>tt0057603</td>\n",
              "      <td>I tre volti della paura</td>\n",
              "      <td>Note: this synopsis is for the orginal Italian...</td>\n",
              "      <td>train</td>\n",
              "      <td>0</td>\n",
              "      <td>0</td>\n",
              "      <td>0</td>\n",
              "      <td>0</td>\n",
              "      <td>0</td>\n",
              "      <td>0</td>\n",
              "      <td>...</td>\n",
              "      <td>0</td>\n",
              "      <td>0</td>\n",
              "      <td>0</td>\n",
              "      <td>0</td>\n",
              "      <td>0</td>\n",
              "      <td>0</td>\n",
              "      <td>0</td>\n",
              "      <td>0</td>\n",
              "      <td>0</td>\n",
              "      <td>0</td>\n",
              "    </tr>\n",
              "    <tr>\n",
              "      <th>1</th>\n",
              "      <td>tt1733125</td>\n",
              "      <td>Dungeons &amp; Dragons: The Book of Vile Darkness</td>\n",
              "      <td>Two thousand years ago, Nhagruul the Foul, a s...</td>\n",
              "      <td>train</td>\n",
              "      <td>0</td>\n",
              "      <td>0</td>\n",
              "      <td>0</td>\n",
              "      <td>0</td>\n",
              "      <td>0</td>\n",
              "      <td>0</td>\n",
              "      <td>...</td>\n",
              "      <td>0</td>\n",
              "      <td>0</td>\n",
              "      <td>0</td>\n",
              "      <td>0</td>\n",
              "      <td>0</td>\n",
              "      <td>0</td>\n",
              "      <td>0</td>\n",
              "      <td>1</td>\n",
              "      <td>0</td>\n",
              "      <td>0</td>\n",
              "    </tr>\n",
              "    <tr>\n",
              "      <th>2</th>\n",
              "      <td>tt0033045</td>\n",
              "      <td>The Shop Around the Corner</td>\n",
              "      <td>Matuschek's, a gift store in Budapest, is the ...</td>\n",
              "      <td>test</td>\n",
              "      <td>0</td>\n",
              "      <td>0</td>\n",
              "      <td>0</td>\n",
              "      <td>0</td>\n",
              "      <td>0</td>\n",
              "      <td>0</td>\n",
              "      <td>...</td>\n",
              "      <td>0</td>\n",
              "      <td>0</td>\n",
              "      <td>0</td>\n",
              "      <td>0</td>\n",
              "      <td>0</td>\n",
              "      <td>0</td>\n",
              "      <td>0</td>\n",
              "      <td>0</td>\n",
              "      <td>0</td>\n",
              "      <td>0</td>\n",
              "    </tr>\n",
              "    <tr>\n",
              "      <th>3</th>\n",
              "      <td>tt0113862</td>\n",
              "      <td>Mr. Holland's Opus</td>\n",
              "      <td>Glenn Holland, not a morning person by anyone'...</td>\n",
              "      <td>train</td>\n",
              "      <td>0</td>\n",
              "      <td>0</td>\n",
              "      <td>0</td>\n",
              "      <td>0</td>\n",
              "      <td>0</td>\n",
              "      <td>0</td>\n",
              "      <td>...</td>\n",
              "      <td>0</td>\n",
              "      <td>0</td>\n",
              "      <td>1</td>\n",
              "      <td>0</td>\n",
              "      <td>0</td>\n",
              "      <td>0</td>\n",
              "      <td>0</td>\n",
              "      <td>0</td>\n",
              "      <td>0</td>\n",
              "      <td>0</td>\n",
              "    </tr>\n",
              "    <tr>\n",
              "      <th>4</th>\n",
              "      <td>tt0086250</td>\n",
              "      <td>Scarface</td>\n",
              "      <td>In May 1980, a Cuban man named Tony Montana (A...</td>\n",
              "      <td>val</td>\n",
              "      <td>0</td>\n",
              "      <td>1</td>\n",
              "      <td>0</td>\n",
              "      <td>0</td>\n",
              "      <td>0</td>\n",
              "      <td>0</td>\n",
              "      <td>...</td>\n",
              "      <td>0</td>\n",
              "      <td>0</td>\n",
              "      <td>0</td>\n",
              "      <td>0</td>\n",
              "      <td>0</td>\n",
              "      <td>0</td>\n",
              "      <td>0</td>\n",
              "      <td>1</td>\n",
              "      <td>0</td>\n",
              "      <td>0</td>\n",
              "    </tr>\n",
              "  </tbody>\n",
              "</table>\n",
              "<p>5 rows × 75 columns</p>\n",
              "</div>\n",
              "    <div class=\"colab-df-buttons\">\n",
              "\n",
              "  <div class=\"colab-df-container\">\n",
              "    <button class=\"colab-df-convert\" onclick=\"convertToInteractive('df-36ebf95a-81f0-4cf5-9471-a33faacdc7f2')\"\n",
              "            title=\"Convert this dataframe to an interactive table.\"\n",
              "            style=\"display:none;\">\n",
              "\n",
              "  <svg xmlns=\"http://www.w3.org/2000/svg\" height=\"24px\" viewBox=\"0 -960 960 960\">\n",
              "    <path d=\"M120-120v-720h720v720H120Zm60-500h600v-160H180v160Zm220 220h160v-160H400v160Zm0 220h160v-160H400v160ZM180-400h160v-160H180v160Zm440 0h160v-160H620v160ZM180-180h160v-160H180v160Zm440 0h160v-160H620v160Z\"/>\n",
              "  </svg>\n",
              "    </button>\n",
              "\n",
              "  <style>\n",
              "    .colab-df-container {\n",
              "      display:flex;\n",
              "      gap: 12px;\n",
              "    }\n",
              "\n",
              "    .colab-df-convert {\n",
              "      background-color: #E8F0FE;\n",
              "      border: none;\n",
              "      border-radius: 50%;\n",
              "      cursor: pointer;\n",
              "      display: none;\n",
              "      fill: #1967D2;\n",
              "      height: 32px;\n",
              "      padding: 0 0 0 0;\n",
              "      width: 32px;\n",
              "    }\n",
              "\n",
              "    .colab-df-convert:hover {\n",
              "      background-color: #E2EBFA;\n",
              "      box-shadow: 0px 1px 2px rgba(60, 64, 67, 0.3), 0px 1px 3px 1px rgba(60, 64, 67, 0.15);\n",
              "      fill: #174EA6;\n",
              "    }\n",
              "\n",
              "    .colab-df-buttons div {\n",
              "      margin-bottom: 4px;\n",
              "    }\n",
              "\n",
              "    [theme=dark] .colab-df-convert {\n",
              "      background-color: #3B4455;\n",
              "      fill: #D2E3FC;\n",
              "    }\n",
              "\n",
              "    [theme=dark] .colab-df-convert:hover {\n",
              "      background-color: #434B5C;\n",
              "      box-shadow: 0px 1px 3px 1px rgba(0, 0, 0, 0.15);\n",
              "      filter: drop-shadow(0px 1px 2px rgba(0, 0, 0, 0.3));\n",
              "      fill: #FFFFFF;\n",
              "    }\n",
              "  </style>\n",
              "\n",
              "    <script>\n",
              "      const buttonEl =\n",
              "        document.querySelector('#df-36ebf95a-81f0-4cf5-9471-a33faacdc7f2 button.colab-df-convert');\n",
              "      buttonEl.style.display =\n",
              "        google.colab.kernel.accessAllowed ? 'block' : 'none';\n",
              "\n",
              "      async function convertToInteractive(key) {\n",
              "        const element = document.querySelector('#df-36ebf95a-81f0-4cf5-9471-a33faacdc7f2');\n",
              "        const dataTable =\n",
              "          await google.colab.kernel.invokeFunction('convertToInteractive',\n",
              "                                                    [key], {});\n",
              "        if (!dataTable) return;\n",
              "\n",
              "        const docLinkHtml = 'Like what you see? Visit the ' +\n",
              "          '<a target=\"_blank\" href=https://colab.research.google.com/notebooks/data_table.ipynb>data table notebook</a>'\n",
              "          + ' to learn more about interactive tables.';\n",
              "        element.innerHTML = '';\n",
              "        dataTable['output_type'] = 'display_data';\n",
              "        await google.colab.output.renderOutput(dataTable, element);\n",
              "        const docLink = document.createElement('div');\n",
              "        docLink.innerHTML = docLinkHtml;\n",
              "        element.appendChild(docLink);\n",
              "      }\n",
              "    </script>\n",
              "  </div>\n",
              "\n",
              "\n",
              "<div id=\"df-4af3e0aa-1049-41ab-bf2b-b30035bbb06c\">\n",
              "  <button class=\"colab-df-quickchart\" onclick=\"quickchart('df-4af3e0aa-1049-41ab-bf2b-b30035bbb06c')\"\n",
              "            title=\"Suggest charts\"\n",
              "            style=\"display:none;\">\n",
              "\n",
              "<svg xmlns=\"http://www.w3.org/2000/svg\" height=\"24px\"viewBox=\"0 0 24 24\"\n",
              "     width=\"24px\">\n",
              "    <g>\n",
              "        <path d=\"M19 3H5c-1.1 0-2 .9-2 2v14c0 1.1.9 2 2 2h14c1.1 0 2-.9 2-2V5c0-1.1-.9-2-2-2zM9 17H7v-7h2v7zm4 0h-2V7h2v10zm4 0h-2v-4h2v4z\"/>\n",
              "    </g>\n",
              "</svg>\n",
              "  </button>\n",
              "\n",
              "<style>\n",
              "  .colab-df-quickchart {\n",
              "      --bg-color: #E8F0FE;\n",
              "      --fill-color: #1967D2;\n",
              "      --hover-bg-color: #E2EBFA;\n",
              "      --hover-fill-color: #174EA6;\n",
              "      --disabled-fill-color: #AAA;\n",
              "      --disabled-bg-color: #DDD;\n",
              "  }\n",
              "\n",
              "  [theme=dark] .colab-df-quickchart {\n",
              "      --bg-color: #3B4455;\n",
              "      --fill-color: #D2E3FC;\n",
              "      --hover-bg-color: #434B5C;\n",
              "      --hover-fill-color: #FFFFFF;\n",
              "      --disabled-bg-color: #3B4455;\n",
              "      --disabled-fill-color: #666;\n",
              "  }\n",
              "\n",
              "  .colab-df-quickchart {\n",
              "    background-color: var(--bg-color);\n",
              "    border: none;\n",
              "    border-radius: 50%;\n",
              "    cursor: pointer;\n",
              "    display: none;\n",
              "    fill: var(--fill-color);\n",
              "    height: 32px;\n",
              "    padding: 0;\n",
              "    width: 32px;\n",
              "  }\n",
              "\n",
              "  .colab-df-quickchart:hover {\n",
              "    background-color: var(--hover-bg-color);\n",
              "    box-shadow: 0 1px 2px rgba(60, 64, 67, 0.3), 0 1px 3px 1px rgba(60, 64, 67, 0.15);\n",
              "    fill: var(--button-hover-fill-color);\n",
              "  }\n",
              "\n",
              "  .colab-df-quickchart-complete:disabled,\n",
              "  .colab-df-quickchart-complete:disabled:hover {\n",
              "    background-color: var(--disabled-bg-color);\n",
              "    fill: var(--disabled-fill-color);\n",
              "    box-shadow: none;\n",
              "  }\n",
              "\n",
              "  .colab-df-spinner {\n",
              "    border: 2px solid var(--fill-color);\n",
              "    border-color: transparent;\n",
              "    border-bottom-color: var(--fill-color);\n",
              "    animation:\n",
              "      spin 1s steps(1) infinite;\n",
              "  }\n",
              "\n",
              "  @keyframes spin {\n",
              "    0% {\n",
              "      border-color: transparent;\n",
              "      border-bottom-color: var(--fill-color);\n",
              "      border-left-color: var(--fill-color);\n",
              "    }\n",
              "    20% {\n",
              "      border-color: transparent;\n",
              "      border-left-color: var(--fill-color);\n",
              "      border-top-color: var(--fill-color);\n",
              "    }\n",
              "    30% {\n",
              "      border-color: transparent;\n",
              "      border-left-color: var(--fill-color);\n",
              "      border-top-color: var(--fill-color);\n",
              "      border-right-color: var(--fill-color);\n",
              "    }\n",
              "    40% {\n",
              "      border-color: transparent;\n",
              "      border-right-color: var(--fill-color);\n",
              "      border-top-color: var(--fill-color);\n",
              "    }\n",
              "    60% {\n",
              "      border-color: transparent;\n",
              "      border-right-color: var(--fill-color);\n",
              "    }\n",
              "    80% {\n",
              "      border-color: transparent;\n",
              "      border-right-color: var(--fill-color);\n",
              "      border-bottom-color: var(--fill-color);\n",
              "    }\n",
              "    90% {\n",
              "      border-color: transparent;\n",
              "      border-bottom-color: var(--fill-color);\n",
              "    }\n",
              "  }\n",
              "</style>\n",
              "\n",
              "  <script>\n",
              "    async function quickchart(key) {\n",
              "      const quickchartButtonEl =\n",
              "        document.querySelector('#' + key + ' button');\n",
              "      quickchartButtonEl.disabled = true;  // To prevent multiple clicks.\n",
              "      quickchartButtonEl.classList.add('colab-df-spinner');\n",
              "      try {\n",
              "        const charts = await google.colab.kernel.invokeFunction(\n",
              "            'suggestCharts', [key], {});\n",
              "      } catch (error) {\n",
              "        console.error('Error during call to suggestCharts:', error);\n",
              "      }\n",
              "      quickchartButtonEl.classList.remove('colab-df-spinner');\n",
              "      quickchartButtonEl.classList.add('colab-df-quickchart-complete');\n",
              "    }\n",
              "    (() => {\n",
              "      let quickchartButtonEl =\n",
              "        document.querySelector('#df-4af3e0aa-1049-41ab-bf2b-b30035bbb06c button');\n",
              "      quickchartButtonEl.style.display =\n",
              "        google.colab.kernel.accessAllowed ? 'block' : 'none';\n",
              "    })();\n",
              "  </script>\n",
              "</div>\n",
              "\n",
              "    </div>\n",
              "  </div>\n"
            ],
            "text/plain": [
              "     imdb_id                                          title  \\\n",
              "0  tt0057603                        I tre volti della paura   \n",
              "1  tt1733125  Dungeons & Dragons: The Book of Vile Darkness   \n",
              "2  tt0033045                     The Shop Around the Corner   \n",
              "3  tt0113862                             Mr. Holland's Opus   \n",
              "4  tt0086250                                       Scarface   \n",
              "\n",
              "                                       plot_synopsis  split  absurd  action  \\\n",
              "0  Note: this synopsis is for the orginal Italian...  train       0       0   \n",
              "1  Two thousand years ago, Nhagruul the Foul, a s...  train       0       0   \n",
              "2  Matuschek's, a gift store in Budapest, is the ...   test       0       0   \n",
              "3  Glenn Holland, not a morning person by anyone'...  train       0       0   \n",
              "4  In May 1980, a Cuban man named Tony Montana (A...    val       0       1   \n",
              "\n",
              "   adult comedy  allegory  alternate history  alternate reality  ...  \\\n",
              "0             0         0                  0                  0  ...   \n",
              "1             0         0                  0                  0  ...   \n",
              "2             0         0                  0                  0  ...   \n",
              "3             0         0                  0                  0  ...   \n",
              "4             0         0                  0                  0  ...   \n",
              "\n",
              "   sentimental  storytelling  stupid  suicidal  suspenseful  \\\n",
              "0            0             0       0         0            0   \n",
              "1            0             0       0         0            0   \n",
              "2            0             0       0         0            0   \n",
              "3            0             0       1         0            0   \n",
              "4            0             0       0         0            0   \n",
              "\n",
              "   thought-provoking  tragedy  violence  western  whimsical  \n",
              "0                  0        0         0        0          0  \n",
              "1                  0        0         1        0          0  \n",
              "2                  0        0         0        0          0  \n",
              "3                  0        0         0        0          0  \n",
              "4                  0        0         1        0          0  \n",
              "\n",
              "[5 rows x 75 columns]"
            ]
          },
          "execution_count": 17,
          "metadata": {},
          "output_type": "execute_result"
        }
      ],
      "source": [
        "df.head()"
      ]
    },
    {
      "cell_type": "code",
      "execution_count": null,
      "metadata": {
        "colab": {
          "base_uri": "https://localhost:8080/"
        },
        "id": "78RvTE2w4ErW",
        "outputId": "395d6d60-bca6-49f0-9340-02f956bdbd5f"
      },
      "outputs": [
        {
          "data": {
            "text/plain": [
              "Index(['imdb_id', 'title', 'plot_synopsis', 'split', 'absurd', 'action',\n",
              "       'adult comedy', 'allegory', 'alternate history', 'alternate reality',\n",
              "       'anti war', 'atmospheric', 'autobiographical', 'avant garde',\n",
              "       'blaxploitation', 'bleak', 'boring', 'brainwashing', 'christian film',\n",
              "       'claustrophobic', 'clever', 'comedy', 'comic', 'cruelty', 'cult',\n",
              "       'cute', 'dark', 'depressing', 'dramatic', 'entertaining', 'fantasy',\n",
              "       'feel-good', 'flashback', 'good versus evil', 'gothic',\n",
              "       'grindhouse film', 'haunting', 'historical', 'historical fiction',\n",
              "       'home movie', 'horror', 'humor', 'insanity', 'inspiring', 'intrigue',\n",
              "       'magical realism', 'melodrama', 'murder', 'mystery', 'neo noir',\n",
              "       'non fiction', 'paranormal', 'philosophical', 'plot twist',\n",
              "       'pornographic', 'prank', 'psychedelic', 'psychological', 'queer',\n",
              "       'realism', 'revenge', 'romantic', 'sadist', 'satire', 'sci-fi',\n",
              "       'sentimental', 'storytelling', 'stupid', 'suicidal', 'suspenseful',\n",
              "       'thought-provoking', 'tragedy', 'violence', 'western', 'whimsical'],\n",
              "      dtype='object')"
            ]
          },
          "execution_count": 4,
          "metadata": {},
          "output_type": "execute_result"
        }
      ],
      "source": [
        "df.columns"
      ]
    },
    {
      "cell_type": "code",
      "execution_count": null,
      "metadata": {
        "colab": {
          "base_uri": "https://localhost:8080/"
        },
        "id": "vAip8LIV5Xxh",
        "outputId": "b61eb15f-a485-4d9a-e6fb-eb829e69a8b8"
      },
      "outputs": [
        {
          "name": "stdout",
          "output_type": "stream",
          "text": [
            "split\n",
            "train    9489\n",
            "test     2966\n",
            "val      2373\n",
            "Name: count, dtype: int64\n"
          ]
        }
      ],
      "source": [
        "split_counts = df['split'].value_counts()\n",
        "print(split_counts)"
      ]
    },
    {
      "cell_type": "code",
      "execution_count": null,
      "metadata": {
        "colab": {
          "base_uri": "https://localhost:8080/"
        },
        "id": "y3GcbNpv5ZsF",
        "outputId": "276bad94-e669-49a2-8b49-4a5533859756"
      },
      "outputs": [
        {
          "name": "stdout",
          "output_type": "stream",
          "text": [
            "dataset size:  14828\n",
            "train/val split:  0.7999494183105715\n",
            "test split:  0.20002697599136768\n"
          ]
        }
      ],
      "source": [
        "total = 9489 + 2966 + 2373\n",
        "print(\"dataset size: \", total)\n",
        "\n",
        "train_split = 9489 / (9489 + 2373)\n",
        "print(\"train/val split: \", train_split)\n",
        "\n",
        "test_split = 2966/ total\n",
        "print(\"test split: \", test_split)\n",
        "\n",
        "#80% of dataset used for training/validation, 20% for testing\n",
        "#training data is split 80/20 into train/val"
      ]
    },
    {
      "cell_type": "markdown",
      "metadata": {
        "id": "aOzRyKH935AT"
      },
      "source": [
        "# Data processing\n",
        "Create train, val, test datasets\n",
        "Convert the synopsis text data into numberic embeddings\n",
        "\n",
        "https://scikit-learn.org/stable/modules/generated/sklearn.feature_extraction.text.TfidfVectorizer.html"
      ]
    },
    {
      "cell_type": "markdown",
      "metadata": {
        "id": "OHeS_4KmVpKL"
      },
      "source": [
        "Split dataset"
      ]
    },
    {
      "cell_type": "code",
      "execution_count": null,
      "metadata": {
        "id": "-7FPhPKN3px7"
      },
      "outputs": [],
      "source": [
        "texts = df['plot_synopsis'].tolist() #inputs: movie synopsis\n",
        "labels = df.iloc[:, 4:].values  # outputs genre labels\n",
        "\n",
        "# Dataset split: train 0.7, val 0.15, test 0.15\n",
        "labels_tensor = torch.tensor(labels, dtype=torch.float32)\n",
        "train_texts, temp_texts, train_labels, temp_labels = train_test_split(texts, labels_tensor, test_size=0.3, random_state=42)\n",
        "val_texts, test_texts, val_labels, test_labels = train_test_split(temp_texts, temp_labels, test_size=0.5, random_state=42)\n",
        "\n",
        "\n"
      ]
    },
    {
      "cell_type": "markdown",
      "metadata": {
        "id": "QNF1i3MYVmxr"
      },
      "source": [
        "Create embeddings / feature vectors using sklearn TfidfVectorizer:\n",
        "\n",
        "https://scikit-learn.org/stable/modules/generated/sklearn.feature_extraction.text.TfidfVectorizer.html"
      ]
    },
    {
      "cell_type": "code",
      "execution_count": null,
      "metadata": {
        "id": "Zx4Tn0KGVmJm"
      },
      "outputs": [],
      "source": [
        "# Convert movie synopsis to TF-IDF feature vectors\n",
        "vectorizer = TfidfVectorizer(max_features=2000)\n",
        "train_features = vectorizer.fit_transform(train_texts).toarray()\n",
        "val_features = vectorizer.transform(val_texts).toarray()\n",
        "test_features = vectorizer.transform(test_texts).toarray()\n",
        "\n",
        "# Convert to tensors\n",
        "train_features_tensor = torch.tensor(train_features, dtype=torch.float32)\n",
        "val_features_tensor = torch.tensor(val_features, dtype=torch.float32)\n",
        "test_features_tensor = torch.tensor(test_features, dtype=torch.float32)"
      ]
    },
    {
      "cell_type": "markdown",
      "source": [
        "Create data loaders"
      ],
      "metadata": {
        "id": "UV3FKUQoK54R"
      }
    },
    {
      "cell_type": "code",
      "execution_count": null,
      "metadata": {
        "id": "c_-1CiBi7CoX"
      },
      "outputs": [],
      "source": [
        "class IMDBDataset(Dataset):\n",
        "    def __init__(self, features, labels):\n",
        "        self.features = features\n",
        "        self.labels = labels\n",
        "\n",
        "    def __len__(self):\n",
        "        return len(self.features)\n",
        "\n",
        "    def __getitem__(self, idx):\n",
        "        return self.features[idx], self.labels[idx]\n",
        "\n",
        "# Create datasets\n",
        "train_dataset = IMDBDataset(train_features_tensor, train_labels)\n",
        "val_dataset = IMDBDataset(val_features_tensor, val_labels)\n",
        "test_dataset = IMDBDataset(test_features_tensor, test_labels)\n",
        "\n",
        "# Create dataloaders\n",
        "train_loader = DataLoader(train_dataset, batch_size=32, shuffle=False)\n",
        "val_loader = DataLoader(val_dataset, batch_size=32)\n",
        "test_loader = DataLoader(test_dataset, batch_size=32)\n"
      ]
    },
    {
      "cell_type": "markdown",
      "metadata": {
        "id": "EZH0vhkylNM2"
      },
      "source": [
        "# Model"
      ]
    },
    {
      "cell_type": "code",
      "execution_count": null,
      "metadata": {
        "colab": {
          "base_uri": "https://localhost:8080/"
        },
        "id": "xz2bg_bBLJDO",
        "outputId": "fd2b1b42-b74a-42ba-be2b-8bbdbc1373ac"
      },
      "outputs": [
        {
          "output_type": "stream",
          "name": "stdout",
          "text": [
            "True\n"
          ]
        }
      ],
      "source": [
        "# Check if CUDA is available\n",
        "print(torch.cuda.is_available())  # Should print True if GPU is available\n"
      ]
    },
    {
      "cell_type": "code",
      "execution_count": null,
      "metadata": {
        "id": "aHC4vJhWDdZs"
      },
      "outputs": [],
      "source": [
        "class Classifier(nn.Module):\n",
        "    def __init__(self, input_dim, hidden_dim, output_dim):\n",
        "        super(Classifier, self).__init__()\n",
        "        self.fc1 = nn.Linear(input_dim, hidden_dim)\n",
        "        self.fc2 = nn.Linear(hidden_dim, output_dim)\n",
        "        self.dropout = nn.Dropout(0.3)\n",
        "\n",
        "    def forward(self, x):\n",
        "        x = F.relu(self.fc1(x))\n",
        "        x = self.dropout(x)\n",
        "        x = self.fc2(x)\n",
        "        return x\n"
      ]
    },
    {
      "cell_type": "code",
      "execution_count": null,
      "metadata": {
        "id": "rclCGBgPV8r9"
      },
      "outputs": [],
      "source": [
        "input_dim = 2000  # TF-IDF feature size\n",
        "hidden_dim = 5000\n",
        "output_dim = labels.shape[1]  # Number of genres\n",
        "\n",
        "device = torch.device(\"cuda\" if torch.cuda.is_available() else \"cpu\")\n",
        "\n",
        "\n",
        "# Initialize model, loss function, optimizer\n",
        "model = Classifier(input_dim, hidden_dim, output_dim).to(device)\n",
        "criterion = nn.BCEWithLogitsLoss()\n",
        "optimizer = optim.Adam(model.parameters(), lr=0.01)"
      ]
    },
    {
      "cell_type": "code",
      "execution_count": null,
      "metadata": {
        "colab": {
          "base_uri": "https://localhost:8080/"
        },
        "id": "WFda6qVVk4oO",
        "outputId": "f4db1e96-a880-4137-de84-e9c8cf314827"
      },
      "outputs": [
        {
          "data": {
            "text/plain": [
              "71"
            ]
          },
          "execution_count": 20,
          "metadata": {},
          "output_type": "execute_result"
        }
      ],
      "source": [
        "output_dim"
      ]
    },
    {
      "cell_type": "code",
      "execution_count": null,
      "metadata": {
        "colab": {
          "base_uri": "https://localhost:8080/"
        },
        "collapsed": true,
        "id": "x1oXYoEqbDVo",
        "outputId": "9b40e0f5-784b-4dfd-8e9e-0c8f8ed5c794"
      },
      "outputs": [
        {
          "name": "stdout",
          "output_type": "stream",
          "text": [
            "Collecting torchviz\n",
            "  Downloading torchviz-0.0.3-py3-none-any.whl.metadata (2.1 kB)\n",
            "Requirement already satisfied: torch in /usr/local/lib/python3.11/dist-packages (from torchviz) (2.6.0+cu124)\n",
            "Requirement already satisfied: graphviz in /usr/local/lib/python3.11/dist-packages (from torchviz) (0.20.3)\n",
            "Requirement already satisfied: filelock in /usr/local/lib/python3.11/dist-packages (from torch->torchviz) (3.18.0)\n",
            "Requirement already satisfied: typing-extensions>=4.10.0 in /usr/local/lib/python3.11/dist-packages (from torch->torchviz) (4.13.0)\n",
            "Requirement already satisfied: networkx in /usr/local/lib/python3.11/dist-packages (from torch->torchviz) (3.4.2)\n",
            "Requirement already satisfied: jinja2 in /usr/local/lib/python3.11/dist-packages (from torch->torchviz) (3.1.6)\n",
            "Requirement already satisfied: fsspec in /usr/local/lib/python3.11/dist-packages (from torch->torchviz) (2025.3.2)\n",
            "Collecting nvidia-cuda-nvrtc-cu12==12.4.127 (from torch->torchviz)\n",
            "  Downloading nvidia_cuda_nvrtc_cu12-12.4.127-py3-none-manylinux2014_x86_64.whl.metadata (1.5 kB)\n",
            "Collecting nvidia-cuda-runtime-cu12==12.4.127 (from torch->torchviz)\n",
            "  Downloading nvidia_cuda_runtime_cu12-12.4.127-py3-none-manylinux2014_x86_64.whl.metadata (1.5 kB)\n",
            "Collecting nvidia-cuda-cupti-cu12==12.4.127 (from torch->torchviz)\n",
            "  Downloading nvidia_cuda_cupti_cu12-12.4.127-py3-none-manylinux2014_x86_64.whl.metadata (1.6 kB)\n",
            "Collecting nvidia-cudnn-cu12==9.1.0.70 (from torch->torchviz)\n",
            "  Downloading nvidia_cudnn_cu12-9.1.0.70-py3-none-manylinux2014_x86_64.whl.metadata (1.6 kB)\n",
            "Collecting nvidia-cublas-cu12==12.4.5.8 (from torch->torchviz)\n",
            "  Downloading nvidia_cublas_cu12-12.4.5.8-py3-none-manylinux2014_x86_64.whl.metadata (1.5 kB)\n",
            "Collecting nvidia-cufft-cu12==11.2.1.3 (from torch->torchviz)\n",
            "  Downloading nvidia_cufft_cu12-11.2.1.3-py3-none-manylinux2014_x86_64.whl.metadata (1.5 kB)\n",
            "Collecting nvidia-curand-cu12==10.3.5.147 (from torch->torchviz)\n",
            "  Downloading nvidia_curand_cu12-10.3.5.147-py3-none-manylinux2014_x86_64.whl.metadata (1.5 kB)\n",
            "Collecting nvidia-cusolver-cu12==11.6.1.9 (from torch->torchviz)\n",
            "  Downloading nvidia_cusolver_cu12-11.6.1.9-py3-none-manylinux2014_x86_64.whl.metadata (1.6 kB)\n",
            "Collecting nvidia-cusparse-cu12==12.3.1.170 (from torch->torchviz)\n",
            "  Downloading nvidia_cusparse_cu12-12.3.1.170-py3-none-manylinux2014_x86_64.whl.metadata (1.6 kB)\n",
            "Requirement already satisfied: nvidia-cusparselt-cu12==0.6.2 in /usr/local/lib/python3.11/dist-packages (from torch->torchviz) (0.6.2)\n",
            "Requirement already satisfied: nvidia-nccl-cu12==2.21.5 in /usr/local/lib/python3.11/dist-packages (from torch->torchviz) (2.21.5)\n",
            "Requirement already satisfied: nvidia-nvtx-cu12==12.4.127 in /usr/local/lib/python3.11/dist-packages (from torch->torchviz) (12.4.127)\n",
            "Collecting nvidia-nvjitlink-cu12==12.4.127 (from torch->torchviz)\n",
            "  Downloading nvidia_nvjitlink_cu12-12.4.127-py3-none-manylinux2014_x86_64.whl.metadata (1.5 kB)\n",
            "Requirement already satisfied: triton==3.2.0 in /usr/local/lib/python3.11/dist-packages (from torch->torchviz) (3.2.0)\n",
            "Requirement already satisfied: sympy==1.13.1 in /usr/local/lib/python3.11/dist-packages (from torch->torchviz) (1.13.1)\n",
            "Requirement already satisfied: mpmath<1.4,>=1.1.0 in /usr/local/lib/python3.11/dist-packages (from sympy==1.13.1->torch->torchviz) (1.3.0)\n",
            "Requirement already satisfied: MarkupSafe>=2.0 in /usr/local/lib/python3.11/dist-packages (from jinja2->torch->torchviz) (3.0.2)\n",
            "Downloading torchviz-0.0.3-py3-none-any.whl (5.7 kB)\n",
            "Downloading nvidia_cublas_cu12-12.4.5.8-py3-none-manylinux2014_x86_64.whl (363.4 MB)\n",
            "\u001b[2K   \u001b[90m━━━━━━━━━━━━━━━━━━━━━━━━━━━━━━━━━━━━━━━━\u001b[0m \u001b[32m363.4/363.4 MB\u001b[0m \u001b[31m4.5 MB/s\u001b[0m eta \u001b[36m0:00:00\u001b[0m\n",
            "\u001b[?25hDownloading nvidia_cuda_cupti_cu12-12.4.127-py3-none-manylinux2014_x86_64.whl (13.8 MB)\n",
            "\u001b[2K   \u001b[90m━━━━━━━━━━━━━━━━━━━━━━━━━━━━━━━━━━━━━━━━\u001b[0m \u001b[32m13.8/13.8 MB\u001b[0m \u001b[31m85.0 MB/s\u001b[0m eta \u001b[36m0:00:00\u001b[0m\n",
            "\u001b[?25hDownloading nvidia_cuda_nvrtc_cu12-12.4.127-py3-none-manylinux2014_x86_64.whl (24.6 MB)\n",
            "\u001b[2K   \u001b[90m━━━━━━━━━━━━━━━━━━━━━━━━━━━━━━━━━━━━━━━━\u001b[0m \u001b[32m24.6/24.6 MB\u001b[0m \u001b[31m66.9 MB/s\u001b[0m eta \u001b[36m0:00:00\u001b[0m\n",
            "\u001b[?25hDownloading nvidia_cuda_runtime_cu12-12.4.127-py3-none-manylinux2014_x86_64.whl (883 kB)\n",
            "\u001b[2K   \u001b[90m━━━━━━━━━━━━━━━━━━━━━━━━━━━━━━━━━━━━━━━━\u001b[0m \u001b[32m883.7/883.7 kB\u001b[0m \u001b[31m51.3 MB/s\u001b[0m eta \u001b[36m0:00:00\u001b[0m\n",
            "\u001b[?25hDownloading nvidia_cudnn_cu12-9.1.0.70-py3-none-manylinux2014_x86_64.whl (664.8 MB)\n",
            "\u001b[2K   \u001b[90m━━━━━━━━━━━━━━━━━━━━━━━━━━━━━━━━━━━━━━━━\u001b[0m \u001b[32m664.8/664.8 MB\u001b[0m \u001b[31m1.3 MB/s\u001b[0m eta \u001b[36m0:00:00\u001b[0m\n",
            "\u001b[?25hDownloading nvidia_cufft_cu12-11.2.1.3-py3-none-manylinux2014_x86_64.whl (211.5 MB)\n",
            "\u001b[2K   \u001b[90m━━━━━━━━━━━━━━━━━━━━━━━━━━━━━━━━━━━━━━━━\u001b[0m \u001b[32m211.5/211.5 MB\u001b[0m \u001b[31m6.0 MB/s\u001b[0m eta \u001b[36m0:00:00\u001b[0m\n",
            "\u001b[?25hDownloading nvidia_curand_cu12-10.3.5.147-py3-none-manylinux2014_x86_64.whl (56.3 MB)\n",
            "\u001b[2K   \u001b[90m━━━━━━━━━━━━━━━━━━━━━━━━━━━━━━━━━━━━━━━━\u001b[0m \u001b[32m56.3/56.3 MB\u001b[0m \u001b[31m12.3 MB/s\u001b[0m eta \u001b[36m0:00:00\u001b[0m\n",
            "\u001b[?25hDownloading nvidia_cusolver_cu12-11.6.1.9-py3-none-manylinux2014_x86_64.whl (127.9 MB)\n",
            "\u001b[2K   \u001b[90m━━━━━━━━━━━━━━━━━━━━━━━━━━━━━━━━━━━━━━━━\u001b[0m \u001b[32m127.9/127.9 MB\u001b[0m \u001b[31m8.7 MB/s\u001b[0m eta \u001b[36m0:00:00\u001b[0m\n",
            "\u001b[?25hDownloading nvidia_cusparse_cu12-12.3.1.170-py3-none-manylinux2014_x86_64.whl (207.5 MB)\n",
            "\u001b[2K   \u001b[90m━━━━━━━━━━━━━━━━━━━━━━━━━━━━━━━━━━━━━━━━\u001b[0m \u001b[32m207.5/207.5 MB\u001b[0m \u001b[31m6.7 MB/s\u001b[0m eta \u001b[36m0:00:00\u001b[0m\n",
            "\u001b[?25hDownloading nvidia_nvjitlink_cu12-12.4.127-py3-none-manylinux2014_x86_64.whl (21.1 MB)\n",
            "\u001b[2K   \u001b[90m━━━━━━━━━━━━━━━━━━━━━━━━━━━━━━━━━━━━━━━━\u001b[0m \u001b[32m21.1/21.1 MB\u001b[0m \u001b[31m92.9 MB/s\u001b[0m eta \u001b[36m0:00:00\u001b[0m\n",
            "\u001b[?25hInstalling collected packages: nvidia-nvjitlink-cu12, nvidia-curand-cu12, nvidia-cufft-cu12, nvidia-cuda-runtime-cu12, nvidia-cuda-nvrtc-cu12, nvidia-cuda-cupti-cu12, nvidia-cublas-cu12, nvidia-cusparse-cu12, nvidia-cudnn-cu12, nvidia-cusolver-cu12, torchviz\n",
            "  Attempting uninstall: nvidia-nvjitlink-cu12\n",
            "    Found existing installation: nvidia-nvjitlink-cu12 12.5.82\n",
            "    Uninstalling nvidia-nvjitlink-cu12-12.5.82:\n",
            "      Successfully uninstalled nvidia-nvjitlink-cu12-12.5.82\n",
            "  Attempting uninstall: nvidia-curand-cu12\n",
            "    Found existing installation: nvidia-curand-cu12 10.3.6.82\n",
            "    Uninstalling nvidia-curand-cu12-10.3.6.82:\n",
            "      Successfully uninstalled nvidia-curand-cu12-10.3.6.82\n",
            "  Attempting uninstall: nvidia-cufft-cu12\n",
            "    Found existing installation: nvidia-cufft-cu12 11.2.3.61\n",
            "    Uninstalling nvidia-cufft-cu12-11.2.3.61:\n",
            "      Successfully uninstalled nvidia-cufft-cu12-11.2.3.61\n",
            "  Attempting uninstall: nvidia-cuda-runtime-cu12\n",
            "    Found existing installation: nvidia-cuda-runtime-cu12 12.5.82\n",
            "    Uninstalling nvidia-cuda-runtime-cu12-12.5.82:\n",
            "      Successfully uninstalled nvidia-cuda-runtime-cu12-12.5.82\n",
            "  Attempting uninstall: nvidia-cuda-nvrtc-cu12\n",
            "    Found existing installation: nvidia-cuda-nvrtc-cu12 12.5.82\n",
            "    Uninstalling nvidia-cuda-nvrtc-cu12-12.5.82:\n",
            "      Successfully uninstalled nvidia-cuda-nvrtc-cu12-12.5.82\n",
            "  Attempting uninstall: nvidia-cuda-cupti-cu12\n",
            "    Found existing installation: nvidia-cuda-cupti-cu12 12.5.82\n",
            "    Uninstalling nvidia-cuda-cupti-cu12-12.5.82:\n",
            "      Successfully uninstalled nvidia-cuda-cupti-cu12-12.5.82\n",
            "  Attempting uninstall: nvidia-cublas-cu12\n",
            "    Found existing installation: nvidia-cublas-cu12 12.5.3.2\n",
            "    Uninstalling nvidia-cublas-cu12-12.5.3.2:\n",
            "      Successfully uninstalled nvidia-cublas-cu12-12.5.3.2\n",
            "  Attempting uninstall: nvidia-cusparse-cu12\n",
            "    Found existing installation: nvidia-cusparse-cu12 12.5.1.3\n",
            "    Uninstalling nvidia-cusparse-cu12-12.5.1.3:\n",
            "      Successfully uninstalled nvidia-cusparse-cu12-12.5.1.3\n",
            "  Attempting uninstall: nvidia-cudnn-cu12\n",
            "    Found existing installation: nvidia-cudnn-cu12 9.3.0.75\n",
            "    Uninstalling nvidia-cudnn-cu12-9.3.0.75:\n",
            "      Successfully uninstalled nvidia-cudnn-cu12-9.3.0.75\n",
            "  Attempting uninstall: nvidia-cusolver-cu12\n",
            "    Found existing installation: nvidia-cusolver-cu12 11.6.3.83\n",
            "    Uninstalling nvidia-cusolver-cu12-11.6.3.83:\n",
            "      Successfully uninstalled nvidia-cusolver-cu12-11.6.3.83\n",
            "Successfully installed nvidia-cublas-cu12-12.4.5.8 nvidia-cuda-cupti-cu12-12.4.127 nvidia-cuda-nvrtc-cu12-12.4.127 nvidia-cuda-runtime-cu12-12.4.127 nvidia-cudnn-cu12-9.1.0.70 nvidia-cufft-cu12-11.2.1.3 nvidia-curand-cu12-10.3.5.147 nvidia-cusolver-cu12-11.6.1.9 nvidia-cusparse-cu12-12.3.1.170 nvidia-nvjitlink-cu12-12.4.127 torchviz-0.0.3\n"
          ]
        }
      ],
      "source": [
        "!pip install torchviz\n"
      ]
    },
    {
      "cell_type": "code",
      "source": [
        "#this is the updated model:\n",
        "class ClassifierD3(nn.Module):\n",
        "    def __init__(self, input_dim, hidden_dim, output_dim):\n",
        "        super(ClassifierD3, self).__init__()\n",
        "        self.fc1 = nn.Linear(input_dim, hidden_dim)\n",
        "        self.fc2 = nn.Linear(hidden_dim, output_dim)\n",
        "        self.dropout = nn.Dropout(0.4)\n",
        "\n",
        "    def forward(self, x):\n",
        "        x = F.relu(self.fc1(x))\n",
        "        x = self.dropout(x)\n",
        "        x = self.fc2(x)\n",
        "        return x\n",
        "\n",
        "model = ClassifierD3(2000, 5000, 71).to(device)\n",
        "criterion = nn.BCEWithLogitsLoss()\n",
        "optimizer = optim.Adam(model.parameters(), lr=0.005)"
      ],
      "metadata": {
        "id": "qMH9Bf6oy4-M"
      },
      "execution_count": null,
      "outputs": []
    },
    {
      "cell_type": "code",
      "execution_count": null,
      "metadata": {
        "colab": {
          "base_uri": "https://localhost:8080/",
          "height": 35
        },
        "id": "eAXl7fm1adKL",
        "outputId": "1a471e72-ed7e-488f-ef97-4bd2237f458d"
      },
      "outputs": [
        {
          "data": {
            "application/vnd.google.colaboratory.intrinsic+json": {
              "type": "string"
            },
            "text/plain": [
              "'model_diagram.png'"
            ]
          },
          "execution_count": 22,
          "metadata": {},
          "output_type": "execute_result"
        }
      ],
      "source": [
        "import torch\n",
        "from torchviz import make_dot\n",
        "\n",
        "x = torch.randn(1, input_dim).to(device)\n",
        "y = model(x)\n",
        "\n",
        "make_dot(y, params=dict(model.named_parameters())).render('model_diagram', format='png')\n"
      ]
    },
    {
      "cell_type": "markdown",
      "metadata": {
        "id": "avJAdbfy3fN6"
      },
      "source": [
        "# Regular training & Hyperparameter Tuning"
      ]
    },
    {
      "cell_type": "markdown",
      "source": [
        "This training loop trains the model but does not track forgetting events\n",
        "\n",
        "It is used for hyperparameter tuning"
      ],
      "metadata": {
        "id": "HqsyjMpwLEKE"
      }
    },
    {
      "cell_type": "code",
      "execution_count": null,
      "metadata": {
        "id": "pjnFGRHI84yj"
      },
      "outputs": [],
      "source": [
        "# Training loop\n",
        "def regular_train(model, num_epochs,learning_rate):\n",
        "\n",
        "  train_losses = []\n",
        "  train_accuracies = []\n",
        "  criterion = nn.BCEWithLogitsLoss()\n",
        "  optimizer = optim.Adam(model.parameters(), lr = learning_rate)\n",
        "\n",
        "  for epoch in range(num_epochs):\n",
        "      model.train()\n",
        "      total_loss = 0\n",
        "      correct_preds = 0\n",
        "      total_samples = 0\n",
        "\n",
        "      for features, labels in train_loader:\n",
        "          features, labels = features.to(device), labels.to(device)  # No GPU\n",
        "\n",
        "          optimizer.zero_grad()\n",
        "          outputs = model(features)\n",
        "\n",
        "          # Calculate loss\n",
        "          loss = criterion(outputs, labels)\n",
        "          loss.backward()\n",
        "          optimizer.step()\n",
        "\n",
        "          total_loss += loss.item()\n",
        "\n",
        "          # Genre predicted if output > 0.5\n",
        "          predicted = torch.sigmoid(outputs) > 0.5\n",
        "\n",
        "          # Count how many genres are correctly predicted for each sample\n",
        "          correct_preds_batch = (predicted == labels).sum(dim=1)  # For each sample in the batch\n",
        "\n",
        "          # Check if all genres are correctly classified\n",
        "          # Accuracy threshold can be relaxed to below 100% (change * 1 to * 0.95)\n",
        "          correct_preds += (correct_preds_batch >= (labels.size(1) * 1)).sum().item()\n",
        "\n",
        "          total_samples += labels.size(0)  # Total number of samples in batch (not total genres)\n",
        "\n",
        "      avg_loss = total_loss / len(train_loader)\n",
        "      accuracy = correct_preds / total_samples * 100\n",
        "\n",
        "      # Append the metrics to lists\n",
        "      train_losses.append(avg_loss)\n",
        "      train_accuracies.append(accuracy)\n",
        "\n",
        "      print(f\"Epoch {epoch+1}/{num_epochs}, Loss: {avg_loss:.4f}, Accuracy: {accuracy:.2f}%\")\n",
        "\n",
        "  print(\"Training finished\\nn\")\n"
      ]
    },
    {
      "cell_type": "markdown",
      "source": [
        "**Note that there is an error: the accuracy printed as 75% test accuracy prediction is actually 50% test accuracy**"
      ],
      "metadata": {
        "id": "lDipDjr8pq4t"
      }
    },
    {
      "cell_type": "code",
      "execution_count": null,
      "metadata": {
        "id": "nG_hukTjtZxi"
      },
      "outputs": [],
      "source": [
        "def test_accuracy(model):\n",
        "  model.eval()\n",
        "\n",
        "  # Test accuracy for 100% of labels correctly predicted\n",
        "  total_test_loss = 0\n",
        "  correct_test_preds = 0\n",
        "  total_test_samples = 0\n",
        "\n",
        "  with torch.no_grad():\n",
        "      for features, labels in test_loader:\n",
        "          features, labels = features.to(device), labels.to(device)\n",
        "\n",
        "          outputs = model(features)\n",
        "\n",
        "          predicted = torch.sigmoid(outputs) > 0.5\n",
        "\n",
        "          correct_preds_batch = (predicted == labels).sum(dim=1)\n",
        "\n",
        "          #test accuracy can be relaxed for mult-label classification to 0.95% of labels accruately predicted\n",
        "          correct_test_preds += (correct_preds_batch >= (labels.size(1) * 1)).sum().item()\n",
        "\n",
        "          total_test_samples += labels.size(0)\n",
        "\n",
        "  test_accuracy = correct_test_preds / total_test_samples * 100\n",
        "  print(f\"100% Test Accuracy: {test_accuracy:.2f}%\")\n",
        "\n",
        "  # Test accuracy for 95% of labels correctly predicted\n",
        "  total_test_loss = 0\n",
        "  correct_test_preds = 0\n",
        "  total_test_samples = 0\n",
        "\n",
        "  with torch.no_grad():\n",
        "      for features, labels in test_loader:\n",
        "          features, labels = features.to(device), labels.to(device)\n",
        "\n",
        "          outputs = model(features)\n",
        "\n",
        "          predicted = torch.sigmoid(outputs) > 0.5\n",
        "\n",
        "          correct_preds_batch = (predicted == labels).sum(dim=1)\n",
        "\n",
        "          #test accuracy can be relaxed for mult-label classification to 0.95% of labels accruately predicted\n",
        "          correct_test_preds += (correct_preds_batch >= (labels.size(1) * 0.95)).sum().item()\n",
        "\n",
        "          total_test_samples += labels.size(0)\n",
        "\n",
        "  test_accuracy = correct_test_preds / total_test_samples * 100\n",
        "  print(f\"95% Test Accuracy: {test_accuracy:.2f}%\")\n",
        "\n",
        "  # Test accuracy for 90% of labels correctly predicted\n",
        "  total_test_loss = 0\n",
        "  correct_test_preds = 0\n",
        "  total_test_samples = 0\n",
        "\n",
        "  with torch.no_grad():\n",
        "      for features, labels in test_loader:\n",
        "          features, labels = features.to(device), labels.to(device)\n",
        "\n",
        "          outputs = model(features)\n",
        "\n",
        "          predicted = torch.sigmoid(outputs) > 0.5\n",
        "\n",
        "          correct_preds_batch = (predicted == labels).sum(dim=1)\n",
        "\n",
        "          #test accuracy can be relaxed for mult-label classification to 0.95% of labels accruately predicted\n",
        "          correct_test_preds += (correct_preds_batch >= (labels.size(1) * 0.9)).sum().item()\n",
        "\n",
        "          total_test_samples += labels.size(0)\n",
        "\n",
        "  test_accuracy = correct_test_preds / total_test_samples * 100\n",
        "  print(f\"90% Test Accuracy: {test_accuracy:.2f}%\")\n",
        "\n",
        "  # Test accuracy for 75% of labels correctly predicted\n",
        "  total_test_loss = 0\n",
        "  correct_test_preds = 0\n",
        "  total_test_samples = 0\n",
        "\n",
        "  with torch.no_grad():\n",
        "      for features, labels in test_loader:\n",
        "          features, labels = features.to(device), labels.to(device)\n",
        "\n",
        "          outputs = model(features)\n",
        "\n",
        "          predicted = torch.sigmoid(outputs) > 0.5\n",
        "\n",
        "          correct_preds_batch = (predicted == labels).sum(dim=1)\n",
        "\n",
        "          #test accuracy can be relaxed for mult-label classification to 0.95% of labels accruately predicted\n",
        "          correct_test_preds += (correct_preds_batch >= (labels.size(1) * 0.5)).sum().item()\n",
        "\n",
        "          total_test_samples += labels.size(0)\n",
        "\n",
        "  test_accuracy = correct_test_preds / total_test_samples * 100\n",
        "  print(f\"75% Test Accuracy: {test_accuracy:.2f}%\")\n"
      ]
    },
    {
      "cell_type": "code",
      "execution_count": null,
      "metadata": {
        "colab": {
          "base_uri": "https://localhost:8080/"
        },
        "id": "ytSbWTY84y32",
        "outputId": "e05ac4c0-f01b-45e3-b626-39c3ec4f8d80"
      },
      "outputs": [
        {
          "name": "stdout",
          "output_type": "stream",
          "text": [
            "Epoch 1/30, Loss: 0.1371, Accuracy: 5.13%\n",
            "Epoch 2/30, Loss: 0.1163, Accuracy: 8.66%\n",
            "Epoch 3/30, Loss: 0.1007, Accuracy: 12.20%\n",
            "Epoch 4/30, Loss: 0.0842, Accuracy: 17.09%\n",
            "Epoch 5/30, Loss: 0.0699, Accuracy: 24.04%\n",
            "Epoch 6/30, Loss: 0.0587, Accuracy: 31.23%\n",
            "Epoch 7/30, Loss: 0.0495, Accuracy: 36.92%\n",
            "Epoch 8/30, Loss: 0.0435, Accuracy: 42.47%\n",
            "Epoch 9/30, Loss: 0.0391, Accuracy: 46.33%\n",
            "Epoch 10/30, Loss: 0.0355, Accuracy: 49.76%\n",
            "Epoch 11/30, Loss: 0.0331, Accuracy: 52.80%\n",
            "Epoch 12/30, Loss: 0.0311, Accuracy: 55.28%\n",
            "Epoch 13/30, Loss: 0.0293, Accuracy: 57.54%\n",
            "Epoch 14/30, Loss: 0.0282, Accuracy: 58.88%\n",
            "Epoch 15/30, Loss: 0.0272, Accuracy: 60.97%\n",
            "Epoch 16/30, Loss: 0.0264, Accuracy: 61.88%\n",
            "Epoch 17/30, Loss: 0.0255, Accuracy: 63.30%\n",
            "Epoch 18/30, Loss: 0.0245, Accuracy: 64.95%\n",
            "Epoch 19/30, Loss: 0.0240, Accuracy: 65.43%\n",
            "Epoch 20/30, Loss: 0.0240, Accuracy: 65.85%\n",
            "Epoch 21/30, Loss: 0.0229, Accuracy: 67.10%\n",
            "Epoch 22/30, Loss: 0.0227, Accuracy: 68.14%\n",
            "Epoch 23/30, Loss: 0.0220, Accuracy: 67.50%\n",
            "Epoch 24/30, Loss: 0.0214, Accuracy: 69.79%\n",
            "Epoch 25/30, Loss: 0.0216, Accuracy: 69.18%\n",
            "Epoch 26/30, Loss: 0.0207, Accuracy: 70.32%\n",
            "Epoch 27/30, Loss: 0.0201, Accuracy: 70.82%\n",
            "Epoch 28/30, Loss: 0.0208, Accuracy: 70.57%\n",
            "Epoch 29/30, Loss: 0.0202, Accuracy: 71.26%\n",
            "Epoch 30/30, Loss: 0.0201, Accuracy: 72.00%\n",
            "Training finished\n",
            "n\n",
            "100% Test Accuracy: 5.89%\n",
            "95% Test Accuracy: 62.97%\n",
            "90% Test Accuracy: 93.57%\n",
            "75% Test Accuracy: 100.00%\n"
          ]
        }
      ],
      "source": [
        "model = Classifier(2000, 5000, 71).to(device)\n",
        "regular_train(model, 30,0.01)\n",
        "test_accuracy(model)"
      ]
    },
    {
      "cell_type": "markdown",
      "metadata": {
        "id": "ivOcnw2braGy"
      },
      "source": [
        "Tuning hidden layer width"
      ]
    },
    {
      "cell_type": "code",
      "execution_count": null,
      "metadata": {
        "colab": {
          "base_uri": "https://localhost:8080/"
        },
        "id": "_Q6xed9us-j7",
        "outputId": "b0827ae3-41fb-4e7c-dfe5-b99cc9bd1d46"
      },
      "outputs": [
        {
          "name": "stdout",
          "output_type": "stream",
          "text": [
            "Epoch 1/30, Loss: 0.1358, Accuracy: 5.31%\n",
            "Epoch 2/30, Loss: 0.1155, Accuracy: 9.25%\n",
            "Epoch 3/30, Loss: 0.0990, Accuracy: 12.69%\n",
            "Epoch 4/30, Loss: 0.0813, Accuracy: 19.21%\n",
            "Epoch 5/30, Loss: 0.0665, Accuracy: 26.47%\n",
            "Epoch 6/30, Loss: 0.0546, Accuracy: 33.35%\n",
            "Epoch 7/30, Loss: 0.0468, Accuracy: 39.57%\n",
            "Epoch 8/30, Loss: 0.0413, Accuracy: 45.24%\n",
            "Epoch 9/30, Loss: 0.0368, Accuracy: 49.17%\n",
            "Epoch 10/30, Loss: 0.0344, Accuracy: 52.23%\n",
            "Epoch 11/30, Loss: 0.0320, Accuracy: 56.00%\n",
            "Epoch 12/30, Loss: 0.0303, Accuracy: 57.02%\n",
            "Epoch 13/30, Loss: 0.0284, Accuracy: 59.70%\n",
            "Epoch 14/30, Loss: 0.0276, Accuracy: 61.21%\n",
            "Epoch 15/30, Loss: 0.0267, Accuracy: 62.56%\n",
            "Epoch 16/30, Loss: 0.0257, Accuracy: 63.40%\n",
            "Epoch 17/30, Loss: 0.0252, Accuracy: 64.88%\n",
            "Epoch 18/30, Loss: 0.0245, Accuracy: 65.23%\n",
            "Epoch 19/30, Loss: 0.0243, Accuracy: 66.40%\n",
            "Epoch 20/30, Loss: 0.0236, Accuracy: 67.14%\n",
            "Epoch 21/30, Loss: 0.0232, Accuracy: 67.46%\n",
            "Epoch 22/30, Loss: 0.0221, Accuracy: 70.13%\n",
            "Epoch 23/30, Loss: 0.0227, Accuracy: 70.02%\n",
            "Epoch 24/30, Loss: 0.0218, Accuracy: 70.04%\n",
            "Epoch 25/30, Loss: 0.0218, Accuracy: 70.42%\n",
            "Epoch 26/30, Loss: 0.0213, Accuracy: 70.79%\n",
            "Epoch 27/30, Loss: 0.0214, Accuracy: 71.94%\n",
            "Epoch 28/30, Loss: 0.0213, Accuracy: 71.11%\n",
            "Epoch 29/30, Loss: 0.0203, Accuracy: 72.14%\n",
            "Epoch 30/30, Loss: 0.0193, Accuracy: 73.69%\n",
            "Training finished\n",
            "n\n",
            "100% Test Accuracy: 6.61%\n",
            "95% Test Accuracy: 62.97%\n",
            "90% Test Accuracy: 93.30%\n",
            "75% Test Accuracy: 100.00%\n"
          ]
        }
      ],
      "source": [
        "model = Classifier(2000, 10000, 71).to(device)\n",
        "regular_train(model, 30,0.01)\n",
        "test_accuracy(model)"
      ]
    },
    {
      "cell_type": "markdown",
      "metadata": {
        "id": "tIMWiA5GIjRE"
      },
      "source": []
    },
    {
      "cell_type": "markdown",
      "metadata": {
        "id": "-6Hm_B414LhK"
      },
      "source": [
        "## Learning rate (0.05, 0.1, 0.03, 0.005, 0.0025, 0.001)"
      ]
    },
    {
      "cell_type": "code",
      "execution_count": null,
      "metadata": {
        "colab": {
          "base_uri": "https://localhost:8080/"
        },
        "id": "jDOc5oDt5aZI",
        "outputId": "13335c19-26bf-4c1e-d003-dc8e33d02ab6"
      },
      "outputs": [
        {
          "name": "stdout",
          "output_type": "stream",
          "text": [
            "Epoch 1/30, Loss: 0.1523, Accuracy: 3.88%\n",
            "Epoch 2/30, Loss: 0.1308, Accuracy: 6.11%\n",
            "Epoch 3/30, Loss: 0.1245, Accuracy: 6.99%\n",
            "Epoch 4/30, Loss: 0.1224, Accuracy: 7.56%\n",
            "Epoch 5/30, Loss: 0.1203, Accuracy: 8.50%\n",
            "Epoch 6/30, Loss: 0.1194, Accuracy: 9.14%\n",
            "Epoch 7/30, Loss: 0.1182, Accuracy: 9.34%\n",
            "Epoch 8/30, Loss: 0.1170, Accuracy: 9.76%\n",
            "Epoch 9/30, Loss: 0.1164, Accuracy: 10.30%\n",
            "Epoch 10/30, Loss: 0.1169, Accuracy: 10.36%\n",
            "Epoch 11/30, Loss: 0.1160, Accuracy: 10.67%\n",
            "Epoch 12/30, Loss: 0.1156, Accuracy: 10.62%\n",
            "Epoch 13/30, Loss: 0.1154, Accuracy: 10.66%\n",
            "Epoch 14/30, Loss: 0.1148, Accuracy: 10.91%\n",
            "Epoch 15/30, Loss: 0.1140, Accuracy: 11.07%\n",
            "Epoch 16/30, Loss: 0.1136, Accuracy: 11.64%\n",
            "Epoch 17/30, Loss: 0.1136, Accuracy: 11.80%\n",
            "Epoch 18/30, Loss: 0.1135, Accuracy: 11.57%\n",
            "Epoch 19/30, Loss: 0.1130, Accuracy: 11.96%\n",
            "Epoch 20/30, Loss: 0.1130, Accuracy: 12.45%\n",
            "Epoch 21/30, Loss: 0.1132, Accuracy: 11.78%\n",
            "Epoch 22/30, Loss: 0.1127, Accuracy: 12.82%\n",
            "Epoch 23/30, Loss: 0.1124, Accuracy: 12.34%\n",
            "Epoch 24/30, Loss: 0.1128, Accuracy: 12.25%\n",
            "Epoch 25/30, Loss: 0.1121, Accuracy: 12.54%\n",
            "Epoch 26/30, Loss: 0.1124, Accuracy: 12.43%\n",
            "Epoch 27/30, Loss: 0.1120, Accuracy: 12.72%\n",
            "Epoch 28/30, Loss: 0.1116, Accuracy: 12.84%\n",
            "Epoch 29/30, Loss: 0.1121, Accuracy: 12.55%\n",
            "Epoch 30/30, Loss: 0.1124, Accuracy: 12.79%\n",
            "Training finished\n",
            "n\n",
            "100% Test Accuracy: 6.83%\n",
            "95% Test Accuracy: 69.26%\n",
            "90% Test Accuracy: 93.62%\n",
            "75% Test Accuracy: 100.00%\n"
          ]
        }
      ],
      "source": [
        "model = Classifier(2000, 5000, 71).to(device)\n",
        "regular_train(model, 30,0.05)\n",
        "test_accuracy(model)"
      ]
    },
    {
      "cell_type": "code",
      "execution_count": null,
      "metadata": {
        "colab": {
          "base_uri": "https://localhost:8080/"
        },
        "id": "5qoT-uWl5cbn",
        "outputId": "6b044674-6366-43d8-8145-f83cccbea9b3"
      },
      "outputs": [
        {
          "name": "stdout",
          "output_type": "stream",
          "text": [
            "Epoch 1/30, Loss: 0.1757, Accuracy: 2.27%\n",
            "Epoch 2/30, Loss: 0.1363, Accuracy: 3.43%\n",
            "Epoch 3/30, Loss: 0.1348, Accuracy: 3.55%\n",
            "Epoch 4/30, Loss: 0.1350, Accuracy: 3.56%\n",
            "Epoch 5/30, Loss: 0.1344, Accuracy: 3.97%\n",
            "Epoch 6/30, Loss: 0.1336, Accuracy: 3.87%\n",
            "Epoch 7/30, Loss: 0.1336, Accuracy: 3.58%\n",
            "Epoch 8/30, Loss: 0.1337, Accuracy: 3.83%\n",
            "Epoch 9/30, Loss: 0.1336, Accuracy: 4.02%\n",
            "Epoch 10/30, Loss: 0.1336, Accuracy: 3.83%\n",
            "Epoch 11/30, Loss: 0.1335, Accuracy: 3.88%\n",
            "Epoch 12/30, Loss: 0.1337, Accuracy: 3.59%\n",
            "Epoch 13/30, Loss: 0.1335, Accuracy: 3.96%\n",
            "Epoch 14/30, Loss: 0.1339, Accuracy: 3.84%\n",
            "Epoch 15/30, Loss: 0.1338, Accuracy: 3.96%\n",
            "Epoch 16/30, Loss: 0.1339, Accuracy: 3.80%\n",
            "Epoch 17/30, Loss: 0.1345, Accuracy: 3.40%\n",
            "Epoch 18/30, Loss: 0.1339, Accuracy: 3.90%\n",
            "Epoch 19/30, Loss: 0.1347, Accuracy: 3.72%\n",
            "Epoch 20/30, Loss: 0.1344, Accuracy: 4.10%\n",
            "Epoch 21/30, Loss: 0.1344, Accuracy: 3.70%\n",
            "Epoch 22/30, Loss: 0.1345, Accuracy: 3.69%\n",
            "Epoch 23/30, Loss: 0.1352, Accuracy: 3.47%\n",
            "Epoch 24/30, Loss: 0.1345, Accuracy: 3.83%\n",
            "Epoch 25/30, Loss: 0.1346, Accuracy: 4.02%\n",
            "Epoch 26/30, Loss: 0.1347, Accuracy: 3.89%\n",
            "Epoch 27/30, Loss: 0.1354, Accuracy: 3.49%\n",
            "Epoch 28/30, Loss: 0.1353, Accuracy: 3.73%\n",
            "Epoch 29/30, Loss: 0.1354, Accuracy: 3.82%\n",
            "Epoch 30/30, Loss: 0.1349, Accuracy: 3.81%\n",
            "Training finished\n",
            "n\n",
            "100% Test Accuracy: 1.21%\n",
            "95% Test Accuracy: 70.25%\n",
            "90% Test Accuracy: 92.36%\n",
            "75% Test Accuracy: 100.00%\n"
          ]
        }
      ],
      "source": [
        "model = Classifier(2000, 5000, 71).to(device)\n",
        "regular_train(model, 30,0.1)\n",
        "test_accuracy(model)"
      ]
    },
    {
      "cell_type": "code",
      "execution_count": null,
      "metadata": {
        "colab": {
          "base_uri": "https://localhost:8080/"
        },
        "id": "3ouGrAHJ3eRl",
        "outputId": "9cc5adec-f68b-40a5-df24-69a428b0a9c4"
      },
      "outputs": [
        {
          "name": "stdout",
          "output_type": "stream",
          "text": [
            "Epoch 1/30, Loss: 0.1443, Accuracy: 4.52%\n",
            "Epoch 2/30, Loss: 0.1262, Accuracy: 6.97%\n",
            "Epoch 3/30, Loss: 0.1182, Accuracy: 8.41%\n",
            "Epoch 4/30, Loss: 0.1118, Accuracy: 9.44%\n",
            "Epoch 5/30, Loss: 0.1071, Accuracy: 11.10%\n",
            "Epoch 6/30, Loss: 0.1033, Accuracy: 12.18%\n",
            "Epoch 7/30, Loss: 0.1003, Accuracy: 13.65%\n",
            "Epoch 8/30, Loss: 0.0985, Accuracy: 13.74%\n",
            "Epoch 9/30, Loss: 0.0963, Accuracy: 15.05%\n",
            "Epoch 10/30, Loss: 0.0949, Accuracy: 16.05%\n",
            "Epoch 11/30, Loss: 0.0929, Accuracy: 16.41%\n",
            "Epoch 12/30, Loss: 0.0928, Accuracy: 17.01%\n",
            "Epoch 13/30, Loss: 0.0910, Accuracy: 17.88%\n",
            "Epoch 14/30, Loss: 0.0899, Accuracy: 18.72%\n",
            "Epoch 15/30, Loss: 0.0883, Accuracy: 19.11%\n",
            "Epoch 16/30, Loss: 0.0873, Accuracy: 19.75%\n",
            "Epoch 17/30, Loss: 0.0876, Accuracy: 19.94%\n",
            "Epoch 18/30, Loss: 0.0877, Accuracy: 19.86%\n",
            "Epoch 19/30, Loss: 0.0867, Accuracy: 20.76%\n",
            "Epoch 20/30, Loss: 0.0863, Accuracy: 20.99%\n",
            "Epoch 21/30, Loss: 0.0852, Accuracy: 20.41%\n",
            "Epoch 22/30, Loss: 0.0847, Accuracy: 21.48%\n",
            "Epoch 23/30, Loss: 0.0836, Accuracy: 22.29%\n",
            "Epoch 24/30, Loss: 0.0843, Accuracy: 22.66%\n",
            "Epoch 25/30, Loss: 0.0842, Accuracy: 22.52%\n",
            "Epoch 26/30, Loss: 0.0830, Accuracy: 23.09%\n",
            "Epoch 27/30, Loss: 0.0828, Accuracy: 23.26%\n",
            "Epoch 28/30, Loss: 0.0824, Accuracy: 22.93%\n",
            "Epoch 29/30, Loss: 0.0821, Accuracy: 24.14%\n",
            "Epoch 30/30, Loss: 0.0824, Accuracy: 24.07%\n",
            "Training finished\n",
            "n\n",
            "100% Test Accuracy: 5.93%\n",
            "95% Test Accuracy: 67.69%\n",
            "90% Test Accuracy: 93.57%\n",
            "75% Test Accuracy: 100.00%\n"
          ]
        }
      ],
      "source": [
        "model = Classifier(2000, 5000, 71).to(device)\n",
        "regular_train(model, 30,0.03)\n",
        "test_accuracy(model)"
      ]
    },
    {
      "cell_type": "code",
      "execution_count": null,
      "metadata": {
        "colab": {
          "base_uri": "https://localhost:8080/"
        },
        "id": "EhsYHK-dwUhv",
        "outputId": "73d9295a-4b19-4e37-8ab1-09b201a5806a"
      },
      "outputs": [
        {
          "name": "stdout",
          "output_type": "stream",
          "text": [
            "Epoch 1/30, Loss: 0.1391, Accuracy: 4.64%\n",
            "Epoch 2/30, Loss: 0.1152, Accuracy: 8.93%\n",
            "Epoch 3/30, Loss: 0.0983, Accuracy: 12.91%\n",
            "Epoch 4/30, Loss: 0.0781, Accuracy: 20.18%\n",
            "Epoch 5/30, Loss: 0.0589, Accuracy: 30.74%\n",
            "Epoch 6/30, Loss: 0.0448, Accuracy: 41.70%\n",
            "Epoch 7/30, Loss: 0.0361, Accuracy: 48.28%\n",
            "Epoch 8/30, Loss: 0.0303, Accuracy: 54.18%\n",
            "Epoch 9/30, Loss: 0.0261, Accuracy: 59.72%\n",
            "Epoch 10/30, Loss: 0.0226, Accuracy: 65.90%\n",
            "Epoch 11/30, Loss: 0.0205, Accuracy: 69.24%\n",
            "Epoch 12/30, Loss: 0.0186, Accuracy: 72.87%\n",
            "Epoch 13/30, Loss: 0.0178, Accuracy: 74.67%\n",
            "Epoch 14/30, Loss: 0.0170, Accuracy: 76.55%\n",
            "Epoch 15/30, Loss: 0.0164, Accuracy: 77.68%\n",
            "Epoch 16/30, Loss: 0.0159, Accuracy: 79.13%\n",
            "Epoch 17/30, Loss: 0.0157, Accuracy: 79.53%\n",
            "Epoch 18/30, Loss: 0.0155, Accuracy: 80.26%\n",
            "Epoch 19/30, Loss: 0.0153, Accuracy: 81.00%\n",
            "Epoch 20/30, Loss: 0.0152, Accuracy: 81.18%\n",
            "Epoch 21/30, Loss: 0.0148, Accuracy: 81.75%\n",
            "Epoch 22/30, Loss: 0.0146, Accuracy: 82.47%\n",
            "Epoch 23/30, Loss: 0.0153, Accuracy: 81.83%\n",
            "Epoch 24/30, Loss: 0.0145, Accuracy: 82.79%\n",
            "Epoch 25/30, Loss: 0.0142, Accuracy: 83.19%\n",
            "Epoch 26/30, Loss: 0.0147, Accuracy: 83.33%\n",
            "Epoch 27/30, Loss: 0.0147, Accuracy: 83.80%\n",
            "Epoch 28/30, Loss: 0.0146, Accuracy: 83.73%\n",
            "Epoch 29/30, Loss: 0.0142, Accuracy: 84.21%\n",
            "Epoch 30/30, Loss: 0.0144, Accuracy: 84.76%\n",
            "Training finished\n",
            "n\n",
            "100% Test Accuracy: 6.11%\n",
            "95% Test Accuracy: 62.43%\n",
            "90% Test Accuracy: 93.44%\n",
            "75% Test Accuracy: 100.00%\n"
          ]
        }
      ],
      "source": [
        "model = Classifier(2000, 5000, 71).to(device)\n",
        "regular_train(model, 30,0.005)\n",
        "test_accuracy(model)"
      ]
    },
    {
      "cell_type": "code",
      "execution_count": null,
      "metadata": {
        "colab": {
          "base_uri": "https://localhost:8080/"
        },
        "id": "6ns5ABmVwo6h",
        "outputId": "6c77ca89-2a3b-484e-ec42-cd0d5b60ec2f"
      },
      "outputs": [
        {
          "name": "stdout",
          "output_type": "stream",
          "text": [
            "Epoch 1/30, Loss: 0.1413, Accuracy: 4.25%\n",
            "Epoch 2/30, Loss: 0.1165, Accuracy: 8.75%\n",
            "Epoch 3/30, Loss: 0.1022, Accuracy: 11.48%\n",
            "Epoch 4/30, Loss: 0.0855, Accuracy: 16.10%\n",
            "Epoch 5/30, Loss: 0.0679, Accuracy: 23.81%\n",
            "Epoch 6/30, Loss: 0.0511, Accuracy: 35.61%\n",
            "Epoch 7/30, Loss: 0.0387, Accuracy: 48.69%\n",
            "Epoch 8/30, Loss: 0.0302, Accuracy: 58.53%\n",
            "Epoch 9/30, Loss: 0.0259, Accuracy: 63.15%\n",
            "Epoch 10/30, Loss: 0.0239, Accuracy: 64.30%\n",
            "Epoch 11/30, Loss: 0.0213, Accuracy: 69.00%\n",
            "Epoch 12/30, Loss: 0.0177, Accuracy: 74.87%\n",
            "Epoch 13/30, Loss: 0.0156, Accuracy: 80.12%\n",
            "Epoch 14/30, Loss: 0.0146, Accuracy: 82.64%\n",
            "Epoch 15/30, Loss: 0.0141, Accuracy: 83.34%\n",
            "Epoch 16/30, Loss: 0.0139, Accuracy: 83.99%\n",
            "Epoch 17/30, Loss: 0.0133, Accuracy: 85.00%\n",
            "Epoch 18/30, Loss: 0.0127, Accuracy: 86.05%\n",
            "Epoch 19/30, Loss: 0.0127, Accuracy: 86.77%\n",
            "Epoch 20/30, Loss: 0.0124, Accuracy: 87.06%\n",
            "Epoch 21/30, Loss: 0.0127, Accuracy: 87.39%\n",
            "Epoch 22/30, Loss: 0.0127, Accuracy: 87.23%\n",
            "Epoch 23/30, Loss: 0.0125, Accuracy: 87.91%\n",
            "Epoch 24/30, Loss: 0.0123, Accuracy: 88.47%\n",
            "Epoch 25/30, Loss: 0.0125, Accuracy: 88.94%\n",
            "Epoch 26/30, Loss: 0.0125, Accuracy: 88.81%\n",
            "Epoch 27/30, Loss: 0.0123, Accuracy: 89.05%\n",
            "Epoch 28/30, Loss: 0.0125, Accuracy: 89.15%\n",
            "Epoch 29/30, Loss: 0.0128, Accuracy: 89.27%\n",
            "Epoch 30/30, Loss: 0.0128, Accuracy: 89.45%\n",
            "Training finished\n",
            "n\n",
            "100% Test Accuracy: 5.80%\n",
            "95% Test Accuracy: 57.08%\n",
            "90% Test Accuracy: 92.49%\n",
            "75% Test Accuracy: 100.00%\n"
          ]
        }
      ],
      "source": [
        "model = Classifier(2000, 5000, 71).to(device)\n",
        "regular_train(model, 30,0.0025)\n",
        "test_accuracy(model)"
      ]
    },
    {
      "cell_type": "code",
      "execution_count": null,
      "metadata": {
        "colab": {
          "base_uri": "https://localhost:8080/"
        },
        "id": "g205JLaCxE78",
        "outputId": "f5429e49-2d24-495c-8494-d8bdcd935e26"
      },
      "outputs": [
        {
          "name": "stdout",
          "output_type": "stream",
          "text": [
            "Epoch 1/30, Loss: 0.1479, Accuracy: 2.71%\n",
            "Epoch 2/30, Loss: 0.1198, Accuracy: 7.54%\n",
            "Epoch 3/30, Loss: 0.1096, Accuracy: 9.61%\n",
            "Epoch 4/30, Loss: 0.1003, Accuracy: 11.72%\n",
            "Epoch 5/30, Loss: 0.0909, Accuracy: 14.07%\n",
            "Epoch 6/30, Loss: 0.0811, Accuracy: 16.46%\n",
            "Epoch 7/30, Loss: 0.0714, Accuracy: 20.44%\n",
            "Epoch 8/30, Loss: 0.0622, Accuracy: 25.45%\n",
            "Epoch 9/30, Loss: 0.0537, Accuracy: 31.30%\n",
            "Epoch 10/30, Loss: 0.0457, Accuracy: 39.28%\n",
            "Epoch 11/30, Loss: 0.0391, Accuracy: 47.20%\n",
            "Epoch 12/30, Loss: 0.0333, Accuracy: 55.70%\n",
            "Epoch 13/30, Loss: 0.0284, Accuracy: 63.56%\n",
            "Epoch 14/30, Loss: 0.0245, Accuracy: 70.75%\n",
            "Epoch 15/30, Loss: 0.0213, Accuracy: 75.70%\n",
            "Epoch 16/30, Loss: 0.0189, Accuracy: 79.81%\n",
            "Epoch 17/30, Loss: 0.0170, Accuracy: 82.62%\n",
            "Epoch 18/30, Loss: 0.0158, Accuracy: 83.69%\n",
            "Epoch 19/30, Loss: 0.0151, Accuracy: 84.56%\n",
            "Epoch 20/30, Loss: 0.0147, Accuracy: 83.88%\n",
            "Epoch 21/30, Loss: 0.0141, Accuracy: 84.36%\n",
            "Epoch 22/30, Loss: 0.0137, Accuracy: 85.07%\n",
            "Epoch 23/30, Loss: 0.0130, Accuracy: 86.20%\n",
            "Epoch 24/30, Loss: 0.0124, Accuracy: 87.81%\n",
            "Epoch 25/30, Loss: 0.0119, Accuracy: 88.31%\n",
            "Epoch 26/30, Loss: 0.0116, Accuracy: 89.24%\n",
            "Epoch 27/30, Loss: 0.0112, Accuracy: 89.80%\n",
            "Epoch 28/30, Loss: 0.0112, Accuracy: 90.13%\n",
            "Epoch 29/30, Loss: 0.0112, Accuracy: 90.28%\n",
            "Epoch 30/30, Loss: 0.0110, Accuracy: 90.45%\n",
            "Training finished\n",
            "n\n",
            "100% Test Accuracy: 5.39%\n",
            "95% Test Accuracy: 57.39%\n",
            "90% Test Accuracy: 92.00%\n",
            "75% Test Accuracy: 100.00%\n"
          ]
        }
      ],
      "source": [
        "model = Classifier(2000, 5000, 71).to(device)\n",
        "regular_train(model, 30,0.001)\n",
        "test_accuracy(model)"
      ]
    },
    {
      "cell_type": "markdown",
      "metadata": {
        "id": "VKFByyN4BkWX"
      },
      "source": [
        "## Dropout rate (0.1, 0.3, 0.4, 0.5)"
      ]
    },
    {
      "cell_type": "markdown",
      "source": [
        "Training the model on 3 different drop out rates, the previouse code used a drop out rate of 0.3.\n",
        "\n",
        "The learning rate is set to 0.05 as it had the optimal test accuracy in the previous section."
      ],
      "metadata": {
        "id": "yZlULtQ-MQMw"
      }
    },
    {
      "cell_type": "code",
      "execution_count": null,
      "metadata": {
        "id": "kKtRQ7rMB6ps"
      },
      "outputs": [],
      "source": [
        "class ClassifierD1(nn.Module):\n",
        "    def __init__(self, input_dim, hidden_dim, output_dim):\n",
        "        super(ClassifierD1, self).__init__()\n",
        "        self.fc1 = nn.Linear(input_dim, hidden_dim)\n",
        "        self.fc2 = nn.Linear(hidden_dim, output_dim)\n",
        "        self.dropout = nn.Dropout(0.1)\n",
        "\n",
        "    def forward(self, x):\n",
        "        x = F.relu(self.fc1(x))\n",
        "        x = self.dropout(x)\n",
        "        x = self.fc2(x)\n",
        "        return x\n"
      ]
    },
    {
      "cell_type": "code",
      "execution_count": null,
      "metadata": {
        "colab": {
          "base_uri": "https://localhost:8080/"
        },
        "id": "Zkmv1SdWC-5I",
        "outputId": "deb48f14-0968-4ca6-a7ce-f17fe8361e15"
      },
      "outputs": [
        {
          "name": "stdout",
          "output_type": "stream",
          "text": [
            "Epoch 1/30, Loss: 0.1394, Accuracy: 4.77%\n",
            "Epoch 2/30, Loss: 0.1144, Accuracy: 9.10%\n",
            "Epoch 3/30, Loss: 0.0948, Accuracy: 13.71%\n",
            "Epoch 4/30, Loss: 0.0706, Accuracy: 23.87%\n",
            "Epoch 5/30, Loss: 0.0487, Accuracy: 40.15%\n",
            "Epoch 6/30, Loss: 0.0360, Accuracy: 50.78%\n",
            "Epoch 7/30, Loss: 0.0316, Accuracy: 52.26%\n",
            "Epoch 8/30, Loss: 0.0258, Accuracy: 60.20%\n",
            "Epoch 9/30, Loss: 0.0211, Accuracy: 68.48%\n",
            "Epoch 10/30, Loss: 0.0180, Accuracy: 73.83%\n",
            "Epoch 11/30, Loss: 0.0163, Accuracy: 77.58%\n",
            "Epoch 12/30, Loss: 0.0148, Accuracy: 81.20%\n",
            "Epoch 13/30, Loss: 0.0139, Accuracy: 83.86%\n",
            "Epoch 14/30, Loss: 0.0133, Accuracy: 84.35%\n",
            "Epoch 15/30, Loss: 0.0134, Accuracy: 85.16%\n",
            "Epoch 16/30, Loss: 0.0130, Accuracy: 85.27%\n",
            "Epoch 17/30, Loss: 0.0128, Accuracy: 85.68%\n",
            "Epoch 18/30, Loss: 0.0123, Accuracy: 86.59%\n",
            "Epoch 19/30, Loss: 0.0122, Accuracy: 87.71%\n",
            "Epoch 20/30, Loss: 0.0119, Accuracy: 87.77%\n",
            "Epoch 21/30, Loss: 0.0118, Accuracy: 88.45%\n",
            "Epoch 22/30, Loss: 0.0122, Accuracy: 87.67%\n",
            "Epoch 23/30, Loss: 0.0117, Accuracy: 88.23%\n",
            "Epoch 24/30, Loss: 0.0114, Accuracy: 88.83%\n",
            "Epoch 25/30, Loss: 0.0113, Accuracy: 88.89%\n",
            "Epoch 26/30, Loss: 0.0113, Accuracy: 89.37%\n",
            "Epoch 27/30, Loss: 0.0110, Accuracy: 89.30%\n",
            "Epoch 28/30, Loss: 0.0114, Accuracy: 89.01%\n",
            "Epoch 29/30, Loss: 0.0111, Accuracy: 89.07%\n",
            "Epoch 30/30, Loss: 0.0112, Accuracy: 89.67%\n",
            "Training finished\n",
            "n\n",
            "100% Test Accuracy: 5.80%\n",
            "95% Test Accuracy: 59.69%\n",
            "90% Test Accuracy: 92.31%\n",
            "75% Test Accuracy: 100.00%\n"
          ]
        }
      ],
      "source": [
        "model = ClassifierD1(2000, 5000, 71).to(device)\n",
        "regular_train(model, 30,0.005)\n",
        "test_accuracy(model)"
      ]
    },
    {
      "cell_type": "code",
      "execution_count": null,
      "metadata": {
        "id": "zWPtMufhC-v2"
      },
      "outputs": [],
      "source": [
        "class ClassifierD3(nn.Module):\n",
        "    def __init__(self, input_dim, hidden_dim, output_dim):\n",
        "        super(ClassifierD3, self).__init__()\n",
        "        self.fc1 = nn.Linear(input_dim, hidden_dim)\n",
        "        self.fc2 = nn.Linear(hidden_dim, output_dim)\n",
        "        self.dropout = nn.Dropout(0.4)\n",
        "\n",
        "    def forward(self, x):\n",
        "        x = F.relu(self.fc1(x))\n",
        "        x = self.dropout(x)\n",
        "        x = self.fc2(x)\n",
        "        return x\n"
      ]
    },
    {
      "cell_type": "code",
      "execution_count": null,
      "metadata": {
        "colab": {
          "base_uri": "https://localhost:8080/"
        },
        "id": "WwqN5N_hDA1u",
        "outputId": "be877a35-59fa-4c68-82e7-437211fb7deb"
      },
      "outputs": [
        {
          "name": "stdout",
          "output_type": "stream",
          "text": [
            "Epoch 1/30, Loss: 0.1391, Accuracy: 4.61%\n",
            "Epoch 2/30, Loss: 0.1164, Accuracy: 8.62%\n",
            "Epoch 3/30, Loss: 0.1011, Accuracy: 11.76%\n",
            "Epoch 4/30, Loss: 0.0835, Accuracy: 17.68%\n",
            "Epoch 5/30, Loss: 0.0660, Accuracy: 25.72%\n",
            "Epoch 6/30, Loss: 0.0517, Accuracy: 35.63%\n",
            "Epoch 7/30, Loss: 0.0416, Accuracy: 43.83%\n",
            "Epoch 8/30, Loss: 0.0353, Accuracy: 49.47%\n",
            "Epoch 9/30, Loss: 0.0308, Accuracy: 54.63%\n",
            "Epoch 10/30, Loss: 0.0267, Accuracy: 59.76%\n",
            "Epoch 11/30, Loss: 0.0243, Accuracy: 63.13%\n",
            "Epoch 12/30, Loss: 0.0221, Accuracy: 66.84%\n",
            "Epoch 13/30, Loss: 0.0209, Accuracy: 69.21%\n",
            "Epoch 14/30, Loss: 0.0201, Accuracy: 71.41%\n",
            "Epoch 15/30, Loss: 0.0195, Accuracy: 72.22%\n",
            "Epoch 16/30, Loss: 0.0189, Accuracy: 73.35%\n",
            "Epoch 17/30, Loss: 0.0186, Accuracy: 74.00%\n",
            "Epoch 18/30, Loss: 0.0187, Accuracy: 74.37%\n",
            "Epoch 19/30, Loss: 0.0181, Accuracy: 75.93%\n",
            "Epoch 20/30, Loss: 0.0178, Accuracy: 76.43%\n",
            "Epoch 21/30, Loss: 0.0177, Accuracy: 76.65%\n",
            "Epoch 22/30, Loss: 0.0175, Accuracy: 77.65%\n",
            "Epoch 23/30, Loss: 0.0171, Accuracy: 78.42%\n",
            "Epoch 24/30, Loss: 0.0171, Accuracy: 78.90%\n",
            "Epoch 25/30, Loss: 0.0167, Accuracy: 79.51%\n",
            "Epoch 26/30, Loss: 0.0171, Accuracy: 79.71%\n",
            "Epoch 27/30, Loss: 0.0165, Accuracy: 79.89%\n",
            "Epoch 28/30, Loss: 0.0168, Accuracy: 79.99%\n",
            "Epoch 29/30, Loss: 0.0163, Accuracy: 81.04%\n",
            "Epoch 30/30, Loss: 0.0164, Accuracy: 80.52%\n",
            "Training finished\n",
            "n\n",
            "100% Test Accuracy: 6.56%\n",
            "95% Test Accuracy: 62.16%\n",
            "90% Test Accuracy: 93.66%\n",
            "75% Test Accuracy: 100.00%\n"
          ]
        }
      ],
      "source": [
        "model = ClassifierD3(2000, 5000, 71).to(device)\n",
        "regular_train(model, 30,0.005)\n",
        "test_accuracy(model)"
      ]
    },
    {
      "cell_type": "code",
      "execution_count": null,
      "metadata": {
        "id": "6WO5fsAEDBKK"
      },
      "outputs": [],
      "source": [
        "class ClassifierD5(nn.Module):\n",
        "    def __init__(self, input_dim, hidden_dim, output_dim):\n",
        "        super(ClassifierD4, self).__init__()\n",
        "        self.fc1 = nn.Linear(input_dim, hidden_dim)\n",
        "        self.fc2 = nn.Linear(hidden_dim, output_dim)\n",
        "        self.dropout = nn.Dropout(0.5)\n",
        "\n",
        "    def forward(self, x):\n",
        "        x = F.relu(self.fc1(x))\n",
        "        x = self.dropout(x)\n",
        "        x = self.fc2(x)\n",
        "        return x\n"
      ]
    },
    {
      "cell_type": "code",
      "execution_count": null,
      "metadata": {
        "colab": {
          "base_uri": "https://localhost:8080/"
        },
        "id": "-tjJkk09DAqg",
        "outputId": "57634d0d-7fe1-4e98-8bd0-5b5255ff4ae9"
      },
      "outputs": [
        {
          "name": "stdout",
          "output_type": "stream",
          "text": [
            "Epoch 1/30, Loss: 0.1391, Accuracy: 4.67%\n",
            "Epoch 2/30, Loss: 0.1154, Accuracy: 9.07%\n",
            "Epoch 3/30, Loss: 0.0982, Accuracy: 12.73%\n",
            "Epoch 4/30, Loss: 0.0780, Accuracy: 19.81%\n",
            "Epoch 5/30, Loss: 0.0587, Accuracy: 30.54%\n",
            "Epoch 6/30, Loss: 0.0440, Accuracy: 42.07%\n",
            "Epoch 7/30, Loss: 0.0358, Accuracy: 49.02%\n",
            "Epoch 8/30, Loss: 0.0303, Accuracy: 55.13%\n",
            "Epoch 9/30, Loss: 0.0263, Accuracy: 60.39%\n",
            "Epoch 10/30, Loss: 0.0224, Accuracy: 66.02%\n",
            "Epoch 11/30, Loss: 0.0202, Accuracy: 70.09%\n",
            "Epoch 12/30, Loss: 0.0191, Accuracy: 72.01%\n",
            "Epoch 13/30, Loss: 0.0176, Accuracy: 75.15%\n",
            "Epoch 14/30, Loss: 0.0168, Accuracy: 76.64%\n",
            "Epoch 15/30, Loss: 0.0165, Accuracy: 77.82%\n",
            "Epoch 16/30, Loss: 0.0160, Accuracy: 78.64%\n",
            "Epoch 17/30, Loss: 0.0156, Accuracy: 80.08%\n",
            "Epoch 18/30, Loss: 0.0157, Accuracy: 80.11%\n",
            "Epoch 19/30, Loss: 0.0153, Accuracy: 81.13%\n",
            "Epoch 20/30, Loss: 0.0155, Accuracy: 81.10%\n",
            "Epoch 21/30, Loss: 0.0151, Accuracy: 81.45%\n",
            "Epoch 22/30, Loss: 0.0151, Accuracy: 82.02%\n",
            "Epoch 23/30, Loss: 0.0152, Accuracy: 82.17%\n",
            "Epoch 24/30, Loss: 0.0149, Accuracy: 81.95%\n",
            "Epoch 25/30, Loss: 0.0151, Accuracy: 82.54%\n",
            "Epoch 26/30, Loss: 0.0149, Accuracy: 82.92%\n",
            "Epoch 27/30, Loss: 0.0146, Accuracy: 83.74%\n",
            "Epoch 28/30, Loss: 0.0148, Accuracy: 83.84%\n",
            "Epoch 29/30, Loss: 0.0143, Accuracy: 84.45%\n",
            "Epoch 30/30, Loss: 0.0146, Accuracy: 84.46%\n",
            "Training finished\n",
            "n\n",
            "100% Test Accuracy: 6.34%\n",
            "95% Test Accuracy: 60.22%\n",
            "90% Test Accuracy: 93.71%\n",
            "75% Test Accuracy: 100.00%\n"
          ]
        }
      ],
      "source": [
        "model = ClassifierD3(2000, 5000, 71).to(device)\n",
        "regular_train(model, 30,0.005)\n",
        "test_accuracy(model)"
      ]
    },
    {
      "cell_type": "markdown",
      "metadata": {
        "id": "AQfjtt1w0Bh9"
      },
      "source": [
        "## Selected model\n",
        "\n",
        "- input = 2000\n",
        "- hiden = 5000\n",
        "- learning rate = 0.005\n",
        "- dropout rate = 0.4"
      ]
    },
    {
      "cell_type": "code",
      "execution_count": null,
      "metadata": {
        "id": "1zJDC6Hp0Et_"
      },
      "outputs": [],
      "source": [
        "class ClassifierD3(nn.Module):\n",
        "    def __init__(self, input_dim, hidden_dim, output_dim):\n",
        "        super(ClassifierD3, self).__init__()\n",
        "        self.fc1 = nn.Linear(input_dim, hidden_dim)\n",
        "        self.fc2 = nn.Linear(hidden_dim, output_dim)\n",
        "        self.dropout = nn.Dropout(0.4)\n",
        "\n",
        "    def forward(self, x):\n",
        "        x = F.relu(self.fc1(x))\n",
        "        x = self.dropout(x)\n",
        "        x = self.fc2(x)\n",
        "        return x\n"
      ]
    },
    {
      "cell_type": "code",
      "source": [
        "model = ClassifierD3(2000, 5000, 71).to(device)\n",
        "regular_train(model, 30,0.005)\n",
        "test_accuracy(model)"
      ],
      "metadata": {
        "id": "zpYmenWw-aUA"
      },
      "execution_count": null,
      "outputs": []
    },
    {
      "cell_type": "markdown",
      "metadata": {
        "id": "S1UPwfKRunj4"
      },
      "source": [
        "# Experiment: Count forgetting events (Training while tracking forgetting events)"
      ]
    },
    {
      "cell_type": "code",
      "execution_count": null,
      "metadata": {
        "id": "ICPwIRuZurlv",
        "collapsed": true
      },
      "outputs": [],
      "source": [
        "def train_and_count_forgetting_events(epochs):\n",
        "\n",
        "  model = ClassifierD3(2000, 5000, 71).to(device)\n",
        "  criterion = nn.BCEWithLogitsLoss()\n",
        "  optimizer = optim.Adam(model.parameters(), lr=0.005)\n",
        "\n",
        "  train_losses = []\n",
        "  train_accuracies = []\n",
        "\n",
        "  n = len(train_dataset)\n",
        "\n",
        "  # Initialize acc and T arrays\n",
        "  acc = np.zeros(n)  # # binary array, 1 = correctly classified\n",
        "  T = np.zeros(n)     # count of forgetting events for each data point by index\n",
        "\n",
        "  # Training loop\n",
        "  num_epochs = epochs\n",
        "  for epoch in range(num_epochs):\n",
        "      model.train()\n",
        "      total_loss = 0\n",
        "      correct_preds = 0\n",
        "      total_samples = 0\n",
        "\n",
        "      for batch_idx, (features, labels) in enumerate(train_loader):\n",
        "          features, labels = features.to(device), labels.to(device)  # Move to GPU or CPU\n",
        "          batch_size = features.size(0)\n",
        "          batch_start = batch_idx * batch_size\n",
        "          batch_indices = np.arange(batch_start, batch_start + batch_size)\n",
        "\n",
        "          optimizer.zero_grad()\n",
        "          outputs = model(features)\n",
        "\n",
        "          # Calculate loss\n",
        "          loss = criterion(outputs, labels)\n",
        "          total_loss += loss.item()\n",
        "\n",
        "          # Predictions and forgetting count\n",
        "          predicted = (torch.sigmoid(outputs) > 0.5).int()  # Multi-label classification, prediction if sigmoid(output) > 0.5\n",
        "          correct = (predicted == labels).int()\n",
        "\n",
        "          for i, idx in enumerate(batch_indices): # idx correspond to full dataset as data loader is not shuffled\n",
        "              if acc[idx] == 1 and correct[i].sum().item() < labels.size(1):  # If went from correct -> incorrect\n",
        "                  T[idx] += 1\n",
        "              acc[idx] = int(correct[i].sum().item() == labels.size(1))  # 1 if all labels correct, else 0\n",
        "\n",
        "          correct_preds_batch = (predicted == labels).sum(dim=1)  # For each sample in the batch\n",
        "\n",
        "          # Check if at least 100% of genres are predicted correctly for each sample\n",
        "          correct_preds += (correct_preds_batch >= (labels.size(1) * 1)).sum().item()  # Change *1 to *0.9 for at least 90% of genres predicted correctly\n",
        "\n",
        "          total_samples += labels.size(0)  # Total number of samples in batch (not total genres)\n",
        "\n",
        "          # Backward pass to update model\n",
        "          loss.backward()\n",
        "          optimizer.step()\n",
        "\n",
        "\n",
        "      avg_loss = total_loss / len(train_loader)\n",
        "      accuracy = correct_preds / total_samples * 100\n",
        "\n",
        "      # Append the metrics to lists\n",
        "      train_losses.append(avg_loss)\n",
        "      train_accuracies.append(accuracy)\n",
        "\n",
        "      print(f\"Epoch {epoch+1}/{num_epochs}, Loss: {avg_loss:.4f}, Accuracy: {accuracy:.2f}%\")\n",
        "\n",
        "  return T, acc, train_accuracies, train_losses\n",
        "  print(\"Forgetting counts T:\", T)\n",
        "  print(\"Final classification status acc:\", acc)\n"
      ]
    },
    {
      "cell_type": "code",
      "execution_count": null,
      "metadata": {
        "colab": {
          "base_uri": "https://localhost:8080/"
        },
        "id": "r7xe4X0H5603",
        "outputId": "96526feb-1fd8-4d97-9b80-995772bbea70"
      },
      "outputs": [
        {
          "output_type": "stream",
          "name": "stdout",
          "text": [
            "Epoch 1/30, Loss: 0.1391, Accuracy: 4.69%\n",
            "Epoch 2/30, Loss: 0.1162, Accuracy: 8.65%\n",
            "Epoch 3/30, Loss: 0.1007, Accuracy: 12.38%\n",
            "Epoch 4/30, Loss: 0.0830, Accuracy: 18.24%\n",
            "Epoch 5/30, Loss: 0.0656, Accuracy: 26.13%\n",
            "Epoch 6/30, Loss: 0.0511, Accuracy: 35.29%\n",
            "Epoch 7/30, Loss: 0.0412, Accuracy: 43.34%\n",
            "Epoch 8/30, Loss: 0.0347, Accuracy: 50.73%\n",
            "Epoch 9/30, Loss: 0.0300, Accuracy: 55.20%\n",
            "Epoch 10/30, Loss: 0.0264, Accuracy: 60.46%\n",
            "Epoch 11/30, Loss: 0.0234, Accuracy: 64.81%\n",
            "Epoch 12/30, Loss: 0.0218, Accuracy: 68.36%\n",
            "Epoch 13/30, Loss: 0.0205, Accuracy: 69.82%\n",
            "Epoch 14/30, Loss: 0.0202, Accuracy: 71.94%\n",
            "Epoch 15/30, Loss: 0.0199, Accuracy: 72.54%\n",
            "Epoch 16/30, Loss: 0.0192, Accuracy: 73.38%\n",
            "Epoch 17/30, Loss: 0.0188, Accuracy: 73.89%\n",
            "Epoch 18/30, Loss: 0.0180, Accuracy: 75.15%\n",
            "Epoch 19/30, Loss: 0.0176, Accuracy: 75.74%\n",
            "Epoch 20/30, Loss: 0.0177, Accuracy: 76.72%\n",
            "Epoch 21/30, Loss: 0.0175, Accuracy: 77.22%\n",
            "Epoch 22/30, Loss: 0.0172, Accuracy: 78.30%\n",
            "Epoch 23/30, Loss: 0.0170, Accuracy: 78.69%\n",
            "Epoch 24/30, Loss: 0.0173, Accuracy: 78.72%\n",
            "Epoch 25/30, Loss: 0.0169, Accuracy: 79.63%\n",
            "Epoch 26/30, Loss: 0.0164, Accuracy: 79.75%\n",
            "Epoch 27/30, Loss: 0.0167, Accuracy: 79.31%\n",
            "Epoch 28/30, Loss: 0.0164, Accuracy: 80.46%\n",
            "Epoch 29/30, Loss: 0.0162, Accuracy: 80.74%\n",
            "Epoch 30/30, Loss: 0.0165, Accuracy: 81.17%\n"
          ]
        }
      ],
      "source": [
        "T, acc, train_accuracies, train_losses = train_and_count_forgetting_events(30)"
      ]
    },
    {
      "cell_type": "code",
      "execution_count": null,
      "metadata": {
        "colab": {
          "base_uri": "https://localhost:8080/"
        },
        "id": "JJ0c-02P3c0g",
        "outputId": "d9b0f2f1-a608-46fb-8570-f5aa4ade0ce2"
      },
      "outputs": [
        {
          "output_type": "stream",
          "name": "stdout",
          "text": [
            "100% Test Accuracy: 7.37%\n",
            "95% Test Accuracy: 71.96%\n",
            "90% Test Accuracy: 94.29%\n",
            "75% Test Accuracy: 100.00%\n"
          ]
        }
      ],
      "source": [
        "test_accuracy(model)"
      ]
    },
    {
      "cell_type": "code",
      "execution_count": null,
      "metadata": {
        "colab": {
          "base_uri": "https://localhost:8080/",
          "height": 451
        },
        "id": "bcm_WhFXuMZ6",
        "outputId": "998eb5a0-0f50-410c-cd36-15f797ddebe1"
      },
      "outputs": [
        {
          "output_type": "display_data",
          "data": {
            "text/plain": [
              "<Figure size 1200x500 with 2 Axes>"
            ],
            "image/png": "[encoded data removed]"
          },
          "metadata": {}
        }
      ],
      "source": [
        "# Plotting the training losses and accuracies\n",
        "plt.figure(figsize=(12, 5))\n",
        "\n",
        "# Plot Loss\n",
        "plt.subplot(1, 2, 1)\n",
        "plt.plot(train_losses, label='Loss')\n",
        "plt.title('Training Loss')\n",
        "plt.xlabel('Epochs')\n",
        "plt.ylabel('Loss')\n",
        "\n",
        "# Plot Accuracy\n",
        "plt.subplot(1, 2, 2)\n",
        "plt.plot(train_accuracies, label='Accuracy')\n",
        "plt.title('Training Accuracy')\n",
        "plt.xlabel('Epochs')\n",
        "plt.ylabel('Accuracy (%)')\n",
        "\n",
        "plt.tight_layout()\n",
        "plt.show()"
      ]
    },
    {
      "cell_type": "markdown",
      "metadata": {
        "id": "sHxYs7oJonOU"
      },
      "source": [
        "Training Accuracy"
      ]
    },
    {
      "cell_type": "code",
      "execution_count": null,
      "metadata": {
        "colab": {
          "base_uri": "https://localhost:8080/",
          "height": 472
        },
        "id": "J7U_LLgmood3",
        "outputId": "b0de00fe-c93d-4467-c8e2-d10e294d95d5"
      },
      "outputs": [
        {
          "output_type": "display_data",
          "data": {
            "text/plain": [
              "<Figure size 640x480 with 1 Axes>"
            ],
            "image/png": "[encoded data removed]"
          },
          "metadata": {}
        }
      ],
      "source": [
        "# Plot Accuracy\n",
        "plt.plot(train_accuracies)\n",
        "plt.title('Training Accuracy for 100 Epochs')\n",
        "plt.xlabel('Epoch')\n",
        "plt.ylabel('Accuracy (%)')\n",
        "\n",
        "plt.show()"
      ]
    },
    {
      "cell_type": "code",
      "execution_count": null,
      "metadata": {
        "colab": {
          "base_uri": "https://localhost:8080/",
          "height": 472
        },
        "id": "ahnN_PCOJe3s",
        "outputId": "aabf2823-0a80-4d8d-db6c-3c58c24e8df2"
      },
      "outputs": [
        {
          "output_type": "display_data",
          "data": {
            "text/plain": [
              "<Figure size 640x480 with 1 Axes>"
            ],
            "image/png": "[encoded data removed]"
          },
          "metadata": {}
        }
      ],
      "source": [
        "# Plot Loss\n",
        "plt.plot(train_losses)\n",
        "plt.title('Training Loss for 100 Epochs')\n",
        "plt.xlabel('Epoch')\n",
        "plt.ylabel('Loss')\n",
        "\n",
        "plt.show()"
      ]
    },
    {
      "cell_type": "markdown",
      "metadata": {
        "id": "3dAjqCNTyfUi"
      },
      "source": [
        "## Visualize forgetting count"
      ]
    },
    {
      "cell_type": "markdown",
      "source": [
        "Each data point had a forgetting count in the range of 0 to 26"
      ],
      "metadata": {
        "id": "JT5jJ4A6NFgj"
      }
    },
    {
      "cell_type": "code",
      "execution_count": null,
      "metadata": {
        "colab": {
          "base_uri": "https://localhost:8080/"
        },
        "id": "S2tth9bnyoLk",
        "outputId": "b1c84572-05db-402b-d815-7da46c709bf4"
      },
      "outputs": [
        {
          "output_type": "execute_result",
          "data": {
            "text/plain": [
              "array([ 0.,  1.,  2.,  3.,  4.,  5.,  6.,  7.,  8.,  9., 10., 17., 19.,\n",
              "       26.])"
            ]
          },
          "metadata": {},
          "execution_count": 40
        }
      ],
      "source": [
        "#forgetting events: unique count\n",
        "np.unique(T)"
      ]
    },
    {
      "cell_type": "markdown",
      "source": [
        "Plot the number of data points for each unique forgetting count\n",
        "\n",
        "The histogram shows how many data points were forgotten 0,1,2... times"
      ],
      "metadata": {
        "id": "esj0RbJyNTvi"
      }
    },
    {
      "cell_type": "code",
      "execution_count": null,
      "metadata": {
        "colab": {
          "base_uri": "https://localhost:8080/",
          "height": 500
        },
        "id": "DtC8DUfKyiSv",
        "outputId": "56300f63-8f5a-4217-a4fa-63a05171da21"
      },
      "outputs": [
        {
          "output_type": "display_data",
          "data": {
            "text/plain": [
              "<Figure size 640x480 with 1 Axes>"
            ],
            "image/png": "[encoded data removed]"
          },
          "metadata": {}
        }
      ],
      "source": [
        "# Count how many points were forgotten 0, 1, 2, ... times\n",
        "unique_T, counts = np.unique(T, return_counts=True)\n",
        "\n",
        "# Plot histogram of how many points were forgotten 1, 2, ... times\n",
        "#plt.figure(figsize=(8, 5))\n",
        "plt.bar(unique_T, counts, color='skyblue', edgecolor='black')\n",
        "plt.title('Histogram of Number Forgetting Events for 10,379 Examples Over 30 Training Epochs',fontsize=16, wrap=True)\n",
        "plt.xlabel('Number Forgetting Events',fontsize=16)\n",
        "plt.ylabel('Number of Data Points',fontsize=16)\n",
        "#plt.xticks(unique_T)  # Ensure all unique counts are labeled\n",
        "plt.grid(True)\n",
        "plt.show()\n"
      ]
    },
    {
      "cell_type": "markdown",
      "source": [
        "Plot same histogram but for the fraction of the training dataset"
      ],
      "metadata": {
        "id": "0b6GpkzjNdyj"
      }
    },
    {
      "cell_type": "code",
      "execution_count": null,
      "metadata": {
        "id": "fnw_M-J4LdTR",
        "colab": {
          "base_uri": "https://localhost:8080/",
          "height": 500
        },
        "outputId": "9fe31639-e20a-4f05-c2a0-3432fa6b40ec"
      },
      "outputs": [
        {
          "output_type": "display_data",
          "data": {
            "text/plain": [
              "<Figure size 640x480 with 1 Axes>"
            ],
            "image/png": "[encoded data removed]"
          },
          "metadata": {}
        }
      ],
      "source": [
        "# Proportion of dataset that were forgotten 0, 1, 2, ... times\n",
        "unique_T, counts = np.unique(T, return_counts=True)\n",
        "\n",
        "counts = counts / counts.sum()\n",
        "\n",
        "# Plot histogram of how many points were forgotten 1, 2, ... times\n",
        "plt.bar(unique_T, counts, color='skyblue', edgecolor='black')\n",
        "plt.title('Histogram of Fraction of Dataset Forgotten Over 30 Training Epochs',fontsize=16, wrap=True)\n",
        "plt.xlabel('Number Forgetting Events',fontsize=16)\n",
        "plt.ylabel('Fraction of Data Points',fontsize=16)\n",
        "#plt.xticks(unique_T)  # Ensure all unique counts are labeled\n",
        "plt.grid(True)\n",
        "plt.show()\n"
      ]
    },
    {
      "cell_type": "markdown",
      "metadata": {
        "id": "fBvYPe-MNAyF"
      },
      "source": [
        "## Forgetting counts for 100 training iterations"
      ]
    },
    {
      "cell_type": "code",
      "source": [
        "T, acc, train_accuracies, train_losses = train_and_count_forgetting_events(100)"
      ],
      "metadata": {
        "colab": {
          "base_uri": "https://localhost:8080/"
        },
        "id": "Vu4hzgAc2acU",
        "outputId": "f5b44805-8ec6-4c60-efa6-a88f5bd76e4c"
      },
      "execution_count": null,
      "outputs": [
        {
          "output_type": "stream",
          "name": "stdout",
          "text": [
            "Epoch 1/100, Loss: 0.1391, Accuracy: 4.68%\n",
            "Epoch 2/100, Loss: 0.1164, Accuracy: 8.77%\n",
            "Epoch 3/100, Loss: 0.1010, Accuracy: 12.44%\n",
            "Epoch 4/100, Loss: 0.0837, Accuracy: 17.57%\n",
            "Epoch 5/100, Loss: 0.0666, Accuracy: 25.68%\n",
            "Epoch 6/100, Loss: 0.0521, Accuracy: 34.80%\n",
            "Epoch 7/100, Loss: 0.0415, Accuracy: 43.95%\n",
            "Epoch 8/100, Loss: 0.0356, Accuracy: 48.94%\n",
            "Epoch 9/100, Loss: 0.0310, Accuracy: 53.54%\n",
            "Epoch 10/100, Loss: 0.0269, Accuracy: 60.12%\n",
            "Epoch 11/100, Loss: 0.0239, Accuracy: 64.15%\n",
            "Epoch 12/100, Loss: 0.0220, Accuracy: 67.23%\n",
            "Epoch 13/100, Loss: 0.0209, Accuracy: 69.06%\n",
            "Epoch 14/100, Loss: 0.0201, Accuracy: 71.42%\n",
            "Epoch 15/100, Loss: 0.0197, Accuracy: 71.76%\n",
            "Epoch 16/100, Loss: 0.0192, Accuracy: 73.09%\n",
            "Epoch 17/100, Loss: 0.0189, Accuracy: 73.79%\n",
            "Epoch 18/100, Loss: 0.0183, Accuracy: 74.54%\n",
            "Epoch 19/100, Loss: 0.0184, Accuracy: 75.40%\n",
            "Epoch 20/100, Loss: 0.0180, Accuracy: 76.02%\n",
            "Epoch 21/100, Loss: 0.0174, Accuracy: 77.14%\n",
            "Epoch 22/100, Loss: 0.0174, Accuracy: 77.50%\n",
            "Epoch 23/100, Loss: 0.0172, Accuracy: 78.77%\n",
            "Epoch 24/100, Loss: 0.0173, Accuracy: 78.80%\n",
            "Epoch 25/100, Loss: 0.0173, Accuracy: 79.10%\n",
            "Epoch 26/100, Loss: 0.0167, Accuracy: 79.45%\n",
            "Epoch 27/100, Loss: 0.0165, Accuracy: 79.69%\n",
            "Epoch 28/100, Loss: 0.0165, Accuracy: 80.01%\n",
            "Epoch 29/100, Loss: 0.0170, Accuracy: 80.42%\n",
            "Epoch 30/100, Loss: 0.0159, Accuracy: 80.97%\n",
            "Epoch 31/100, Loss: 0.0162, Accuracy: 80.85%\n",
            "Epoch 32/100, Loss: 0.0164, Accuracy: 81.25%\n",
            "Epoch 33/100, Loss: 0.0161, Accuracy: 82.09%\n",
            "Epoch 34/100, Loss: 0.0166, Accuracy: 81.95%\n",
            "Epoch 35/100, Loss: 0.0157, Accuracy: 82.48%\n",
            "Epoch 36/100, Loss: 0.0152, Accuracy: 83.31%\n",
            "Epoch 37/100, Loss: 0.0161, Accuracy: 82.86%\n",
            "Epoch 38/100, Loss: 0.0162, Accuracy: 83.18%\n",
            "Epoch 39/100, Loss: 0.0156, Accuracy: 83.29%\n",
            "Epoch 40/100, Loss: 0.0150, Accuracy: 83.98%\n",
            "Epoch 41/100, Loss: 0.0155, Accuracy: 84.16%\n",
            "Epoch 42/100, Loss: 0.0152, Accuracy: 84.13%\n",
            "Epoch 43/100, Loss: 0.0153, Accuracy: 84.34%\n",
            "Epoch 44/100, Loss: 0.0144, Accuracy: 84.68%\n",
            "Epoch 45/100, Loss: 0.0154, Accuracy: 84.53%\n",
            "Epoch 46/100, Loss: 0.0144, Accuracy: 85.20%\n",
            "Epoch 47/100, Loss: 0.0141, Accuracy: 85.27%\n",
            "Epoch 48/100, Loss: 0.0142, Accuracy: 85.24%\n",
            "Epoch 49/100, Loss: 0.0139, Accuracy: 86.02%\n",
            "Epoch 50/100, Loss: 0.0143, Accuracy: 85.57%\n",
            "Epoch 51/100, Loss: 0.0140, Accuracy: 85.72%\n",
            "Epoch 52/100, Loss: 0.0140, Accuracy: 85.76%\n",
            "Epoch 53/100, Loss: 0.0133, Accuracy: 85.56%\n",
            "Epoch 54/100, Loss: 0.0135, Accuracy: 86.25%\n",
            "Epoch 55/100, Loss: 0.0134, Accuracy: 86.44%\n",
            "Epoch 56/100, Loss: 0.0134, Accuracy: 86.08%\n",
            "Epoch 57/100, Loss: 0.0136, Accuracy: 86.40%\n",
            "Epoch 58/100, Loss: 0.0133, Accuracy: 86.04%\n",
            "Epoch 59/100, Loss: 0.0135, Accuracy: 86.50%\n",
            "Epoch 60/100, Loss: 0.0127, Accuracy: 86.90%\n",
            "Epoch 61/100, Loss: 0.0127, Accuracy: 86.95%\n",
            "Epoch 62/100, Loss: 0.0133, Accuracy: 86.68%\n",
            "Epoch 63/100, Loss: 0.0127, Accuracy: 87.31%\n",
            "Epoch 64/100, Loss: 0.0127, Accuracy: 86.67%\n",
            "Epoch 65/100, Loss: 0.0119, Accuracy: 87.63%\n",
            "Epoch 66/100, Loss: 0.0120, Accuracy: 87.48%\n",
            "Epoch 67/100, Loss: 0.0121, Accuracy: 87.35%\n",
            "Epoch 68/100, Loss: 0.0117, Accuracy: 87.42%\n",
            "Epoch 69/100, Loss: 0.0122, Accuracy: 87.73%\n",
            "Epoch 70/100, Loss: 0.0118, Accuracy: 87.73%\n",
            "Epoch 71/100, Loss: 0.0119, Accuracy: 87.47%\n",
            "Epoch 72/100, Loss: 0.0113, Accuracy: 87.95%\n",
            "Epoch 73/100, Loss: 0.0119, Accuracy: 87.33%\n",
            "Epoch 74/100, Loss: 0.0113, Accuracy: 87.87%\n",
            "Epoch 75/100, Loss: 0.0111, Accuracy: 87.64%\n",
            "Epoch 76/100, Loss: 0.0114, Accuracy: 87.88%\n",
            "Epoch 77/100, Loss: 0.0111, Accuracy: 87.98%\n",
            "Epoch 78/100, Loss: 0.0113, Accuracy: 87.50%\n",
            "Epoch 79/100, Loss: 0.0109, Accuracy: 87.95%\n",
            "Epoch 80/100, Loss: 0.0108, Accuracy: 87.95%\n",
            "Epoch 81/100, Loss: 0.0110, Accuracy: 88.05%\n",
            "Epoch 82/100, Loss: 0.0107, Accuracy: 88.20%\n",
            "Epoch 83/100, Loss: 0.0108, Accuracy: 88.12%\n",
            "Epoch 84/100, Loss: 0.0103, Accuracy: 88.18%\n",
            "Epoch 85/100, Loss: 0.0105, Accuracy: 88.33%\n",
            "Epoch 86/100, Loss: 0.0107, Accuracy: 88.31%\n",
            "Epoch 87/100, Loss: 0.0102, Accuracy: 88.23%\n",
            "Epoch 88/100, Loss: 0.0101, Accuracy: 88.20%\n",
            "Epoch 89/100, Loss: 0.0106, Accuracy: 88.18%\n",
            "Epoch 90/100, Loss: 0.0102, Accuracy: 88.52%\n",
            "Epoch 91/100, Loss: 0.0100, Accuracy: 88.72%\n",
            "Epoch 92/100, Loss: 0.0101, Accuracy: 88.34%\n",
            "Epoch 93/100, Loss: 0.0103, Accuracy: 88.15%\n",
            "Epoch 94/100, Loss: 0.0100, Accuracy: 88.82%\n",
            "Epoch 95/100, Loss: 0.0097, Accuracy: 88.71%\n",
            "Epoch 96/100, Loss: 0.0099, Accuracy: 88.27%\n",
            "Epoch 97/100, Loss: 0.0098, Accuracy: 88.78%\n",
            "Epoch 98/100, Loss: 0.0100, Accuracy: 88.38%\n",
            "Epoch 99/100, Loss: 0.0097, Accuracy: 88.41%\n",
            "Epoch 100/100, Loss: 0.0096, Accuracy: 88.68%\n"
          ]
        }
      ]
    },
    {
      "cell_type": "code",
      "source": [
        "test_accuracy(model)"
      ],
      "metadata": {
        "colab": {
          "base_uri": "https://localhost:8080/"
        },
        "id": "ZxssYpx_A-p2",
        "outputId": "04309aa3-c52a-4a62-de54-43c9fbff521a"
      },
      "execution_count": null,
      "outputs": [
        {
          "output_type": "stream",
          "name": "stdout",
          "text": [
            "100% Test Accuracy: 7.37%\n",
            "95% Test Accuracy: 71.96%\n",
            "90% Test Accuracy: 94.29%\n",
            "75% Test Accuracy: 100.00%\n"
          ]
        }
      ]
    },
    {
      "cell_type": "markdown",
      "source": [
        "Histogram for number of data points for each forgetting count"
      ],
      "metadata": {
        "id": "4AF6yv_SN0pv"
      }
    },
    {
      "cell_type": "code",
      "source": [
        "# Count how many points were forgotten 0, 1, 2, ... times\n",
        "unique_T, counts = np.unique(T, return_counts=True)\n",
        "\n",
        "# Plot histogram of how many points were forgotten 1, 2, ... times\n",
        "plt.bar(unique_T, counts, color='skyblue', edgecolor='black')\n",
        "plt.title('Histogram of Number Forgetting Events for 10,379 Examples Over 30 Training Epochs',fontsize=16, wrap=True)\n",
        "plt.xlabel('Number Forgetting Events',fontsize=16)\n",
        "plt.ylabel('Number of Data Points',fontsize=16)\n",
        "plt.grid(True)\n",
        "plt.show()\n"
      ],
      "metadata": {
        "colab": {
          "base_uri": "https://localhost:8080/",
          "height": 500
        },
        "id": "GhV_3sIX_-2E",
        "outputId": "69b34126-eb72-49b8-a81f-dd53c1a748d4"
      },
      "execution_count": null,
      "outputs": [
        {
          "output_type": "display_data",
          "data": {
            "text/plain": [
              "<Figure size 640x480 with 1 Axes>"
            ],
            "image/png": "[encoded data removed]"
          },
          "metadata": {}
        }
      ]
    },
    {
      "cell_type": "markdown",
      "source": [
        "Histogram for fraction of dataset instead of number of data points"
      ],
      "metadata": {
        "id": "KX1Jp_ZgNx2k"
      }
    },
    {
      "cell_type": "code",
      "source": [
        "# Proportion of dataset that were forgotten 0, 1, 2, ... times\n",
        "unique_T, counts = np.unique(T, return_counts=True)\n",
        "\n",
        "counts = counts / counts.sum()\n",
        "\n",
        "# Plot histogram of how many points were forgotten 1, 2, ... times\n",
        "plt.bar(unique_T, counts, color='skyblue', edgecolor='black')\n",
        "plt.title('Histogram of Fraction of Dataset Forgotten Over 100 Training Epochs',fontsize=16, wrap=True)\n",
        "plt.xlabel('Number Forgetting Events',fontsize=16)\n",
        "plt.ylabel('Fraction of Data Points',fontsize=16)\n",
        "plt.grid(True)\n",
        "plt.show()\n"
      ],
      "metadata": {
        "colab": {
          "base_uri": "https://localhost:8080/",
          "height": 500
        },
        "id": "n1etN7CG2d_5",
        "outputId": "85def4d7-cd78-4245-9b6c-a68770f4938d"
      },
      "execution_count": null,
      "outputs": [
        {
          "output_type": "display_data",
          "data": {
            "text/plain": [
              "<Figure size 640x480 with 1 Axes>"
            ],
            "image/png": "[encoded data removed]"
          },
          "metadata": {}
        }
      ]
    },
    {
      "cell_type": "markdown",
      "metadata": {
        "id": "zKmNKptMze6X"
      },
      "source": [
        "# Experiment: Random seeds"
      ]
    },
    {
      "cell_type": "markdown",
      "source": [
        "The function runs the experiment to count forgetting events for a random seed parameter\n",
        "\n",
        "The model is reset each time, and run for 30 epochs"
      ],
      "metadata": {
        "id": "jflzgwzqOAKu"
      }
    },
    {
      "cell_type": "code",
      "execution_count": null,
      "metadata": {
        "id": "1rRyD87Jzu8f"
      },
      "outputs": [],
      "source": [
        "def train_random_seed(seed):\n",
        "\n",
        "  model = ClassifierD3(2000, 5000, 71).to(device)\n",
        "  criterion = nn.BCEWithLogitsLoss()\n",
        "  optimizer = optim.Adam(model.parameters(), lr=0.005)\n",
        "\n",
        "\n",
        "  # Set random seed for reproducibility\n",
        "  random.seed(seed)  # Python's built-in random module\n",
        "  np.random.seed(seed)  # NumPy random generator\n",
        "  torch.manual_seed(seed)  # PyTorch random generator for CPU\n",
        "  torch.cuda.manual_seed_all(seed)  # PyTorch random generator for all GPUs (if applicable)\n",
        "\n",
        "  # Initialize lists to store metrics\n",
        "  train_losses = []\n",
        "  train_accuracies = []\n",
        "\n",
        "  # Number of training samples\n",
        "  n = len(train_dataset)\n",
        "\n",
        "  # Initialize acc and T arrays\n",
        "  acc = np.zeros(n, dtype=int)  # 0 = misclassified, 1 = correctly classified\n",
        "  T = np.zeros(n, dtype=int)     # count forgetting events\n",
        "\n",
        "  # Training loop\n",
        "  num_epochs = 30\n",
        "  for epoch in range(num_epochs):\n",
        "      model.train()\n",
        "      total_loss = 0\n",
        "      correct_preds = 0\n",
        "      total_samples = 0\n",
        "\n",
        "      for batch_idx, (features, labels) in enumerate(train_loader):\n",
        "          features, labels = features.to(device), labels.to(device)  # Move to GPU or CPU\n",
        "          batch_size = features.size(0)\n",
        "          batch_start = batch_idx * batch_size\n",
        "          batch_indices = np.arange(batch_start, batch_start + batch_size)\n",
        "\n",
        "          optimizer.zero_grad()\n",
        "          outputs = model(features)\n",
        "\n",
        "          # Calculate loss\n",
        "          loss = criterion(outputs, labels)\n",
        "          loss.backward()\n",
        "          optimizer.step()\n",
        "\n",
        "          total_loss += loss.item()\n",
        "\n",
        "          # Predictions and misclassification tracking\n",
        "          predicted = (torch.sigmoid(outputs) > 0.5).int()  # Multi-label classification\n",
        "          correct = (predicted == labels).int()\n",
        "\n",
        "          for i, idx in enumerate(batch_indices):\n",
        "              if acc[idx] == 1 and correct[i].sum().item() < labels.size(1):  # If went from correct -> incorrect\n",
        "                  T[idx] += 1\n",
        "              acc[idx] = int(correct[i].sum().item() == labels.size(1))  # 1 if all labels correct, else 0\n",
        "\n",
        "          # Calculate accuracy for multi-label classification with a 90% threshold\n",
        "          correct_preds_batch = (correct.sum(dim=1) >= (labels.size(1) * 1)).sum().item()  # At least 90% of labels correct\n",
        "          correct_preds += correct_preds_batch\n",
        "          total_samples += labels.size(0)\n",
        "\n",
        "      avg_loss = total_loss / len(train_loader)\n",
        "      accuracy = correct_preds / total_samples * 100\n",
        "\n",
        "      # Append the metrics to lists\n",
        "      train_losses.append(avg_loss)\n",
        "      train_accuracies.append(accuracy)\n",
        "\n",
        "      print(f\"Epoch {epoch+1}/{num_epochs}, Loss: {avg_loss:.4f}, Accuracy: {accuracy:.2f}%\")\n",
        "\n",
        "  #print(\"Training complete!\")\n",
        "  #print(\"Forgetting counts (T):\", T)\n",
        "  #print(\"Final classification status (acc):\", acc)\n",
        "  return T, acc\n",
        "\n"
      ]
    },
    {
      "cell_type": "markdown",
      "source": [
        "Run the experiment 10 times for random seeds between (1,20)"
      ],
      "metadata": {
        "id": "sI3sozMHOXUN"
      }
    },
    {
      "cell_type": "code",
      "execution_count": null,
      "metadata": {
        "colab": {
          "base_uri": "https://localhost:8080/"
        },
        "id": "6G3XTI0p0pbt",
        "outputId": "441ee943-9b65-4a39-878f-3f67dcce677c"
      },
      "outputs": [
        {
          "output_type": "stream",
          "name": "stdout",
          "text": [
            "Seed:  1 \n",
            "\n",
            "\n",
            "Epoch 1/30, Loss: 0.1392, Accuracy: 4.56%\n",
            "Epoch 2/30, Loss: 0.1163, Accuracy: 8.81%\n",
            "Epoch 3/30, Loss: 0.1011, Accuracy: 12.42%\n",
            "Epoch 4/30, Loss: 0.0840, Accuracy: 17.89%\n",
            "Epoch 5/30, Loss: 0.0663, Accuracy: 25.94%\n",
            "Epoch 6/30, Loss: 0.0519, Accuracy: 35.43%\n",
            "Epoch 7/30, Loss: 0.0416, Accuracy: 43.31%\n",
            "Epoch 8/30, Loss: 0.0352, Accuracy: 50.41%\n",
            "Epoch 9/30, Loss: 0.0309, Accuracy: 54.29%\n",
            "Epoch 10/30, Loss: 0.0268, Accuracy: 59.11%\n",
            "Epoch 11/30, Loss: 0.0239, Accuracy: 63.84%\n",
            "Epoch 12/30, Loss: 0.0218, Accuracy: 67.68%\n",
            "Epoch 13/30, Loss: 0.0208, Accuracy: 69.71%\n",
            "Epoch 14/30, Loss: 0.0199, Accuracy: 71.02%\n",
            "Epoch 15/30, Loss: 0.0191, Accuracy: 73.09%\n",
            "Epoch 16/30, Loss: 0.0188, Accuracy: 73.59%\n",
            "Epoch 17/30, Loss: 0.0181, Accuracy: 74.37%\n",
            "Epoch 18/30, Loss: 0.0179, Accuracy: 75.46%\n",
            "Epoch 19/30, Loss: 0.0182, Accuracy: 75.25%\n",
            "Epoch 20/30, Loss: 0.0177, Accuracy: 76.48%\n",
            "Epoch 21/30, Loss: 0.0178, Accuracy: 77.05%\n",
            "Epoch 22/30, Loss: 0.0172, Accuracy: 78.09%\n",
            "Epoch 23/30, Loss: 0.0174, Accuracy: 78.45%\n",
            "Epoch 24/30, Loss: 0.0173, Accuracy: 78.12%\n",
            "Epoch 25/30, Loss: 0.0172, Accuracy: 78.54%\n",
            "Epoch 26/30, Loss: 0.0167, Accuracy: 79.96%\n",
            "Epoch 27/30, Loss: 0.0168, Accuracy: 80.29%\n",
            "Epoch 28/30, Loss: 0.0163, Accuracy: 80.20%\n",
            "Epoch 29/30, Loss: 0.0168, Accuracy: 80.54%\n",
            "Epoch 30/30, Loss: 0.0162, Accuracy: 81.06%\n",
            "Seed:  3 \n",
            "\n",
            "\n",
            "Epoch 1/30, Loss: 0.1390, Accuracy: 4.72%\n",
            "Epoch 2/30, Loss: 0.1162, Accuracy: 9.00%\n",
            "Epoch 3/30, Loss: 0.1011, Accuracy: 12.12%\n",
            "Epoch 4/30, Loss: 0.0835, Accuracy: 17.93%\n",
            "Epoch 5/30, Loss: 0.0660, Accuracy: 26.40%\n",
            "Epoch 6/30, Loss: 0.0514, Accuracy: 35.09%\n",
            "Epoch 7/30, Loss: 0.0415, Accuracy: 43.46%\n",
            "Epoch 8/30, Loss: 0.0349, Accuracy: 49.21%\n",
            "Epoch 9/30, Loss: 0.0305, Accuracy: 55.11%\n",
            "Epoch 10/30, Loss: 0.0268, Accuracy: 59.82%\n",
            "Epoch 11/30, Loss: 0.0244, Accuracy: 63.82%\n",
            "Epoch 12/30, Loss: 0.0225, Accuracy: 66.57%\n",
            "Epoch 13/30, Loss: 0.0206, Accuracy: 69.37%\n",
            "Epoch 14/30, Loss: 0.0200, Accuracy: 71.38%\n",
            "Epoch 15/30, Loss: 0.0199, Accuracy: 71.67%\n",
            "Epoch 16/30, Loss: 0.0185, Accuracy: 74.22%\n",
            "Epoch 17/30, Loss: 0.0183, Accuracy: 74.55%\n",
            "Epoch 18/30, Loss: 0.0178, Accuracy: 75.66%\n",
            "Epoch 19/30, Loss: 0.0180, Accuracy: 75.99%\n",
            "Epoch 20/30, Loss: 0.0180, Accuracy: 75.74%\n",
            "Epoch 21/30, Loss: 0.0176, Accuracy: 77.33%\n",
            "Epoch 22/30, Loss: 0.0178, Accuracy: 76.70%\n",
            "Epoch 23/30, Loss: 0.0175, Accuracy: 78.21%\n",
            "Epoch 24/30, Loss: 0.0173, Accuracy: 78.64%\n",
            "Epoch 25/30, Loss: 0.0165, Accuracy: 79.20%\n",
            "Epoch 26/30, Loss: 0.0168, Accuracy: 80.18%\n",
            "Epoch 27/30, Loss: 0.0175, Accuracy: 79.04%\n",
            "Epoch 28/30, Loss: 0.0169, Accuracy: 80.40%\n",
            "Epoch 29/30, Loss: 0.0169, Accuracy: 80.80%\n",
            "Epoch 30/30, Loss: 0.0163, Accuracy: 81.03%\n",
            "Seed:  5 \n",
            "\n",
            "\n",
            "Epoch 1/30, Loss: 0.1392, Accuracy: 5.03%\n",
            "Epoch 2/30, Loss: 0.1161, Accuracy: 9.10%\n",
            "Epoch 3/30, Loss: 0.1007, Accuracy: 12.09%\n",
            "Epoch 4/30, Loss: 0.0829, Accuracy: 17.43%\n",
            "Epoch 5/30, Loss: 0.0657, Accuracy: 25.95%\n",
            "Epoch 6/30, Loss: 0.0513, Accuracy: 35.58%\n",
            "Epoch 7/30, Loss: 0.0418, Accuracy: 43.11%\n",
            "Epoch 8/30, Loss: 0.0348, Accuracy: 49.73%\n",
            "Epoch 9/30, Loss: 0.0301, Accuracy: 54.76%\n",
            "Epoch 10/30, Loss: 0.0269, Accuracy: 59.90%\n",
            "Epoch 11/30, Loss: 0.0243, Accuracy: 63.67%\n",
            "Epoch 12/30, Loss: 0.0224, Accuracy: 66.66%\n",
            "Epoch 13/30, Loss: 0.0208, Accuracy: 69.44%\n",
            "Epoch 14/30, Loss: 0.0207, Accuracy: 70.35%\n",
            "Epoch 15/30, Loss: 0.0197, Accuracy: 71.87%\n",
            "Epoch 16/30, Loss: 0.0190, Accuracy: 73.53%\n",
            "Epoch 17/30, Loss: 0.0185, Accuracy: 73.96%\n",
            "Epoch 18/30, Loss: 0.0181, Accuracy: 75.26%\n",
            "Epoch 19/30, Loss: 0.0181, Accuracy: 75.55%\n",
            "Epoch 20/30, Loss: 0.0177, Accuracy: 76.72%\n",
            "Epoch 21/30, Loss: 0.0171, Accuracy: 77.99%\n",
            "Epoch 22/30, Loss: 0.0170, Accuracy: 78.33%\n",
            "Epoch 23/30, Loss: 0.0174, Accuracy: 78.09%\n",
            "Epoch 24/30, Loss: 0.0169, Accuracy: 78.82%\n",
            "Epoch 25/30, Loss: 0.0170, Accuracy: 79.52%\n",
            "Epoch 26/30, Loss: 0.0172, Accuracy: 79.70%\n",
            "Epoch 27/30, Loss: 0.0168, Accuracy: 79.96%\n",
            "Epoch 28/30, Loss: 0.0159, Accuracy: 80.47%\n",
            "Epoch 29/30, Loss: 0.0163, Accuracy: 80.75%\n",
            "Epoch 30/30, Loss: 0.0158, Accuracy: 81.27%\n",
            "Seed:  7 \n",
            "\n",
            "\n",
            "Epoch 1/30, Loss: 0.1390, Accuracy: 4.78%\n",
            "Epoch 2/30, Loss: 0.1164, Accuracy: 8.76%\n",
            "Epoch 3/30, Loss: 0.1013, Accuracy: 12.40%\n",
            "Epoch 4/30, Loss: 0.0833, Accuracy: 17.83%\n",
            "Epoch 5/30, Loss: 0.0662, Accuracy: 25.76%\n",
            "Epoch 6/30, Loss: 0.0518, Accuracy: 35.17%\n",
            "Epoch 7/30, Loss: 0.0421, Accuracy: 42.78%\n",
            "Epoch 8/30, Loss: 0.0355, Accuracy: 49.10%\n",
            "Epoch 9/30, Loss: 0.0308, Accuracy: 54.62%\n",
            "Epoch 10/30, Loss: 0.0265, Accuracy: 60.25%\n",
            "Epoch 11/30, Loss: 0.0240, Accuracy: 64.72%\n",
            "Epoch 12/30, Loss: 0.0222, Accuracy: 67.24%\n",
            "Epoch 13/30, Loss: 0.0211, Accuracy: 68.74%\n",
            "Epoch 14/30, Loss: 0.0203, Accuracy: 71.11%\n",
            "Epoch 15/30, Loss: 0.0195, Accuracy: 72.64%\n",
            "Epoch 16/30, Loss: 0.0190, Accuracy: 73.65%\n",
            "Epoch 17/30, Loss: 0.0184, Accuracy: 74.77%\n",
            "Epoch 18/30, Loss: 0.0185, Accuracy: 75.32%\n",
            "Epoch 19/30, Loss: 0.0175, Accuracy: 76.65%\n",
            "Epoch 20/30, Loss: 0.0179, Accuracy: 76.79%\n",
            "Epoch 21/30, Loss: 0.0174, Accuracy: 77.36%\n",
            "Epoch 22/30, Loss: 0.0173, Accuracy: 78.05%\n",
            "Epoch 23/30, Loss: 0.0173, Accuracy: 77.95%\n",
            "Epoch 24/30, Loss: 0.0168, Accuracy: 78.71%\n",
            "Epoch 25/30, Loss: 0.0171, Accuracy: 78.44%\n",
            "Epoch 26/30, Loss: 0.0170, Accuracy: 79.48%\n",
            "Epoch 27/30, Loss: 0.0165, Accuracy: 80.22%\n",
            "Epoch 28/30, Loss: 0.0164, Accuracy: 80.17%\n",
            "Epoch 29/30, Loss: 0.0164, Accuracy: 80.69%\n",
            "Epoch 30/30, Loss: 0.0165, Accuracy: 80.88%\n",
            "Seed:  9 \n",
            "\n",
            "\n",
            "Epoch 1/30, Loss: 0.1392, Accuracy: 4.61%\n",
            "Epoch 2/30, Loss: 0.1165, Accuracy: 8.65%\n",
            "Epoch 3/30, Loss: 0.1013, Accuracy: 11.73%\n",
            "Epoch 4/30, Loss: 0.0840, Accuracy: 17.26%\n",
            "Epoch 5/30, Loss: 0.0662, Accuracy: 25.90%\n",
            "Epoch 6/30, Loss: 0.0520, Accuracy: 34.57%\n",
            "Epoch 7/30, Loss: 0.0418, Accuracy: 43.25%\n",
            "Epoch 8/30, Loss: 0.0352, Accuracy: 49.46%\n",
            "Epoch 9/30, Loss: 0.0305, Accuracy: 55.19%\n",
            "Epoch 10/30, Loss: 0.0275, Accuracy: 58.64%\n",
            "Epoch 11/30, Loss: 0.0244, Accuracy: 63.80%\n",
            "Epoch 12/30, Loss: 0.0223, Accuracy: 67.00%\n",
            "Epoch 13/30, Loss: 0.0210, Accuracy: 69.77%\n",
            "Epoch 14/30, Loss: 0.0196, Accuracy: 70.80%\n",
            "Epoch 15/30, Loss: 0.0193, Accuracy: 72.26%\n",
            "Epoch 16/30, Loss: 0.0185, Accuracy: 73.70%\n",
            "Epoch 17/30, Loss: 0.0187, Accuracy: 74.47%\n",
            "Epoch 18/30, Loss: 0.0180, Accuracy: 75.58%\n",
            "Epoch 19/30, Loss: 0.0175, Accuracy: 76.35%\n",
            "Epoch 20/30, Loss: 0.0176, Accuracy: 76.88%\n",
            "Epoch 21/30, Loss: 0.0180, Accuracy: 76.80%\n",
            "Epoch 22/30, Loss: 0.0173, Accuracy: 76.86%\n",
            "Epoch 23/30, Loss: 0.0172, Accuracy: 78.76%\n",
            "Epoch 24/30, Loss: 0.0168, Accuracy: 77.92%\n",
            "Epoch 25/30, Loss: 0.0174, Accuracy: 79.32%\n",
            "Epoch 26/30, Loss: 0.0167, Accuracy: 79.06%\n",
            "Epoch 27/30, Loss: 0.0170, Accuracy: 79.85%\n",
            "Epoch 28/30, Loss: 0.0170, Accuracy: 80.11%\n",
            "Epoch 29/30, Loss: 0.0163, Accuracy: 80.79%\n",
            "Epoch 30/30, Loss: 0.0165, Accuracy: 81.24%\n",
            "Seed:  11 \n",
            "\n",
            "\n",
            "Epoch 1/30, Loss: 0.1392, Accuracy: 4.76%\n",
            "Epoch 2/30, Loss: 0.1162, Accuracy: 8.95%\n",
            "Epoch 3/30, Loss: 0.1016, Accuracy: 12.25%\n",
            "Epoch 4/30, Loss: 0.0839, Accuracy: 18.00%\n",
            "Epoch 5/30, Loss: 0.0665, Accuracy: 25.76%\n",
            "Epoch 6/30, Loss: 0.0524, Accuracy: 35.24%\n",
            "Epoch 7/30, Loss: 0.0424, Accuracy: 42.58%\n",
            "Epoch 8/30, Loss: 0.0357, Accuracy: 48.86%\n",
            "Epoch 9/30, Loss: 0.0310, Accuracy: 54.74%\n",
            "Epoch 10/30, Loss: 0.0272, Accuracy: 58.57%\n",
            "Epoch 11/30, Loss: 0.0243, Accuracy: 63.65%\n",
            "Epoch 12/30, Loss: 0.0227, Accuracy: 66.11%\n",
            "Epoch 13/30, Loss: 0.0208, Accuracy: 68.91%\n",
            "Epoch 14/30, Loss: 0.0196, Accuracy: 71.28%\n",
            "Epoch 15/30, Loss: 0.0196, Accuracy: 71.70%\n",
            "Epoch 16/30, Loss: 0.0189, Accuracy: 73.13%\n",
            "Epoch 17/30, Loss: 0.0187, Accuracy: 74.51%\n",
            "Epoch 18/30, Loss: 0.0180, Accuracy: 75.77%\n",
            "Epoch 19/30, Loss: 0.0177, Accuracy: 76.07%\n",
            "Epoch 20/30, Loss: 0.0183, Accuracy: 76.15%\n",
            "Epoch 21/30, Loss: 0.0176, Accuracy: 77.00%\n",
            "Epoch 22/30, Loss: 0.0172, Accuracy: 77.59%\n",
            "Epoch 23/30, Loss: 0.0170, Accuracy: 78.72%\n",
            "Epoch 24/30, Loss: 0.0169, Accuracy: 78.91%\n",
            "Epoch 25/30, Loss: 0.0166, Accuracy: 79.59%\n",
            "Epoch 26/30, Loss: 0.0165, Accuracy: 80.28%\n",
            "Epoch 27/30, Loss: 0.0163, Accuracy: 79.84%\n",
            "Epoch 28/30, Loss: 0.0166, Accuracy: 80.30%\n",
            "Epoch 29/30, Loss: 0.0163, Accuracy: 80.68%\n",
            "Epoch 30/30, Loss: 0.0161, Accuracy: 81.60%\n",
            "Seed:  13 \n",
            "\n",
            "\n",
            "Epoch 1/30, Loss: 0.1392, Accuracy: 4.76%\n",
            "Epoch 2/30, Loss: 0.1164, Accuracy: 8.67%\n",
            "Epoch 3/30, Loss: 0.1010, Accuracy: 12.18%\n",
            "Epoch 4/30, Loss: 0.0835, Accuracy: 17.55%\n",
            "Epoch 5/30, Loss: 0.0661, Accuracy: 26.38%\n",
            "Epoch 6/30, Loss: 0.0519, Accuracy: 35.03%\n",
            "Epoch 7/30, Loss: 0.0418, Accuracy: 43.37%\n",
            "Epoch 8/30, Loss: 0.0354, Accuracy: 49.27%\n",
            "Epoch 9/30, Loss: 0.0308, Accuracy: 54.40%\n",
            "Epoch 10/30, Loss: 0.0265, Accuracy: 59.45%\n",
            "Epoch 11/30, Loss: 0.0238, Accuracy: 64.32%\n",
            "Epoch 12/30, Loss: 0.0221, Accuracy: 66.64%\n",
            "Epoch 13/30, Loss: 0.0211, Accuracy: 69.05%\n",
            "Epoch 14/30, Loss: 0.0201, Accuracy: 71.08%\n",
            "Epoch 15/30, Loss: 0.0192, Accuracy: 72.75%\n",
            "Epoch 16/30, Loss: 0.0191, Accuracy: 73.29%\n",
            "Epoch 17/30, Loss: 0.0184, Accuracy: 74.48%\n",
            "Epoch 18/30, Loss: 0.0180, Accuracy: 75.92%\n",
            "Epoch 19/30, Loss: 0.0178, Accuracy: 76.25%\n",
            "Epoch 20/30, Loss: 0.0179, Accuracy: 76.63%\n",
            "Epoch 21/30, Loss: 0.0175, Accuracy: 77.07%\n",
            "Epoch 22/30, Loss: 0.0172, Accuracy: 77.79%\n",
            "Epoch 23/30, Loss: 0.0165, Accuracy: 78.11%\n",
            "Epoch 24/30, Loss: 0.0172, Accuracy: 78.30%\n",
            "Epoch 25/30, Loss: 0.0169, Accuracy: 79.76%\n",
            "Epoch 26/30, Loss: 0.0165, Accuracy: 79.60%\n",
            "Epoch 27/30, Loss: 0.0164, Accuracy: 79.85%\n",
            "Epoch 28/30, Loss: 0.0167, Accuracy: 79.82%\n",
            "Epoch 29/30, Loss: 0.0166, Accuracy: 80.75%\n",
            "Epoch 30/30, Loss: 0.0158, Accuracy: 81.73%\n",
            "Seed:  15 \n",
            "\n",
            "\n",
            "Epoch 1/30, Loss: 0.1390, Accuracy: 4.77%\n",
            "Epoch 2/30, Loss: 0.1162, Accuracy: 8.74%\n",
            "Epoch 3/30, Loss: 0.1012, Accuracy: 12.05%\n",
            "Epoch 4/30, Loss: 0.0835, Accuracy: 17.74%\n",
            "Epoch 5/30, Loss: 0.0663, Accuracy: 25.59%\n",
            "Epoch 6/30, Loss: 0.0520, Accuracy: 34.82%\n",
            "Epoch 7/30, Loss: 0.0418, Accuracy: 43.31%\n",
            "Epoch 8/30, Loss: 0.0351, Accuracy: 49.09%\n",
            "Epoch 9/30, Loss: 0.0302, Accuracy: 55.03%\n",
            "Epoch 10/30, Loss: 0.0266, Accuracy: 59.55%\n",
            "Epoch 11/30, Loss: 0.0236, Accuracy: 64.78%\n",
            "Epoch 12/30, Loss: 0.0220, Accuracy: 67.80%\n",
            "Epoch 13/30, Loss: 0.0208, Accuracy: 69.13%\n",
            "Epoch 14/30, Loss: 0.0200, Accuracy: 71.18%\n",
            "Epoch 15/30, Loss: 0.0195, Accuracy: 72.15%\n",
            "Epoch 16/30, Loss: 0.0188, Accuracy: 73.68%\n",
            "Epoch 17/30, Loss: 0.0186, Accuracy: 74.27%\n",
            "Epoch 18/30, Loss: 0.0186, Accuracy: 74.48%\n",
            "Epoch 19/30, Loss: 0.0177, Accuracy: 75.59%\n",
            "Epoch 20/30, Loss: 0.0178, Accuracy: 76.91%\n",
            "Epoch 21/30, Loss: 0.0173, Accuracy: 77.35%\n",
            "Epoch 22/30, Loss: 0.0177, Accuracy: 77.90%\n",
            "Epoch 23/30, Loss: 0.0168, Accuracy: 78.73%\n",
            "Epoch 24/30, Loss: 0.0165, Accuracy: 78.57%\n",
            "Epoch 25/30, Loss: 0.0172, Accuracy: 78.89%\n",
            "Epoch 26/30, Loss: 0.0166, Accuracy: 79.52%\n",
            "Epoch 27/30, Loss: 0.0167, Accuracy: 80.27%\n",
            "Epoch 28/30, Loss: 0.0165, Accuracy: 80.20%\n",
            "Epoch 29/30, Loss: 0.0167, Accuracy: 80.04%\n",
            "Epoch 30/30, Loss: 0.0166, Accuracy: 80.43%\n",
            "Seed:  17 \n",
            "\n",
            "\n",
            "Epoch 1/30, Loss: 0.1393, Accuracy: 4.79%\n",
            "Epoch 2/30, Loss: 0.1165, Accuracy: 8.59%\n",
            "Epoch 3/30, Loss: 0.1014, Accuracy: 12.00%\n",
            "Epoch 4/30, Loss: 0.0838, Accuracy: 17.50%\n",
            "Epoch 5/30, Loss: 0.0664, Accuracy: 25.46%\n",
            "Epoch 6/30, Loss: 0.0522, Accuracy: 34.56%\n",
            "Epoch 7/30, Loss: 0.0421, Accuracy: 43.13%\n",
            "Epoch 8/30, Loss: 0.0355, Accuracy: 49.37%\n",
            "Epoch 9/30, Loss: 0.0301, Accuracy: 55.12%\n",
            "Epoch 10/30, Loss: 0.0268, Accuracy: 59.50%\n",
            "Epoch 11/30, Loss: 0.0243, Accuracy: 64.30%\n",
            "Epoch 12/30, Loss: 0.0223, Accuracy: 66.76%\n",
            "Epoch 13/30, Loss: 0.0209, Accuracy: 69.63%\n",
            "Epoch 14/30, Loss: 0.0199, Accuracy: 70.79%\n",
            "Epoch 15/30, Loss: 0.0197, Accuracy: 71.26%\n",
            "Epoch 16/30, Loss: 0.0186, Accuracy: 73.02%\n",
            "Epoch 17/30, Loss: 0.0182, Accuracy: 73.83%\n",
            "Epoch 18/30, Loss: 0.0186, Accuracy: 74.29%\n",
            "Epoch 19/30, Loss: 0.0176, Accuracy: 76.42%\n",
            "Epoch 20/30, Loss: 0.0183, Accuracy: 75.56%\n",
            "Epoch 21/30, Loss: 0.0173, Accuracy: 77.11%\n",
            "Epoch 22/30, Loss: 0.0173, Accuracy: 78.05%\n",
            "Epoch 23/30, Loss: 0.0169, Accuracy: 78.24%\n",
            "Epoch 24/30, Loss: 0.0172, Accuracy: 79.15%\n",
            "Epoch 25/30, Loss: 0.0168, Accuracy: 79.43%\n",
            "Epoch 26/30, Loss: 0.0166, Accuracy: 79.68%\n",
            "Epoch 27/30, Loss: 0.0168, Accuracy: 79.87%\n",
            "Epoch 28/30, Loss: 0.0167, Accuracy: 80.08%\n",
            "Epoch 29/30, Loss: 0.0165, Accuracy: 81.34%\n",
            "Epoch 30/30, Loss: 0.0159, Accuracy: 81.13%\n",
            "Seed:  19 \n",
            "\n",
            "\n",
            "Epoch 1/30, Loss: 0.1392, Accuracy: 4.60%\n",
            "Epoch 2/30, Loss: 0.1160, Accuracy: 8.71%\n",
            "Epoch 3/30, Loss: 0.1012, Accuracy: 12.06%\n",
            "Epoch 4/30, Loss: 0.0831, Accuracy: 17.51%\n",
            "Epoch 5/30, Loss: 0.0661, Accuracy: 26.02%\n",
            "Epoch 6/30, Loss: 0.0516, Accuracy: 34.83%\n",
            "Epoch 7/30, Loss: 0.0421, Accuracy: 42.61%\n",
            "Epoch 8/30, Loss: 0.0353, Accuracy: 49.35%\n",
            "Epoch 9/30, Loss: 0.0307, Accuracy: 54.37%\n",
            "Epoch 10/30, Loss: 0.0266, Accuracy: 59.68%\n",
            "Epoch 11/30, Loss: 0.0246, Accuracy: 63.54%\n",
            "Epoch 12/30, Loss: 0.0220, Accuracy: 67.62%\n",
            "Epoch 13/30, Loss: 0.0206, Accuracy: 69.01%\n",
            "Epoch 14/30, Loss: 0.0203, Accuracy: 71.41%\n",
            "Epoch 15/30, Loss: 0.0192, Accuracy: 72.77%\n",
            "Epoch 16/30, Loss: 0.0191, Accuracy: 73.42%\n",
            "Epoch 17/30, Loss: 0.0184, Accuracy: 74.56%\n",
            "Epoch 18/30, Loss: 0.0180, Accuracy: 75.43%\n",
            "Epoch 19/30, Loss: 0.0174, Accuracy: 76.53%\n",
            "Epoch 20/30, Loss: 0.0176, Accuracy: 77.21%\n",
            "Epoch 21/30, Loss: 0.0176, Accuracy: 77.62%\n",
            "Epoch 22/30, Loss: 0.0177, Accuracy: 77.94%\n",
            "Epoch 23/30, Loss: 0.0173, Accuracy: 78.20%\n",
            "Epoch 24/30, Loss: 0.0172, Accuracy: 78.55%\n",
            "Epoch 25/30, Loss: 0.0167, Accuracy: 79.59%\n",
            "Epoch 26/30, Loss: 0.0172, Accuracy: 79.02%\n",
            "Epoch 27/30, Loss: 0.0169, Accuracy: 79.71%\n",
            "Epoch 28/30, Loss: 0.0165, Accuracy: 79.94%\n",
            "Epoch 29/30, Loss: 0.0166, Accuracy: 80.60%\n",
            "Epoch 30/30, Loss: 0.0160, Accuracy: 81.59%\n"
          ]
        }
      ],
      "source": [
        "T_aggregate = []\n",
        "acc_aggregate = []\n",
        "for seed in range (1,20,2):\n",
        "  print(\"Seed: \", seed,\"\\n\\n\")\n",
        "  T, acc = train_random_seed(seed)\n",
        "  T_aggregate.append(T)\n",
        "  #print(seed)\n"
      ]
    },
    {
      "cell_type": "markdown",
      "source": [
        "Calculate the average Pearson correlation:\n",
        "\n",
        "Calculate Pearson correlation between number of forgetting events for each data point across each model run\n",
        "\n",
        "There are 10 arrays that store the forgetting counts from 10 model runs\n",
        "\n",
        "The Pearson correlation is calculated between each array, and the average is calculated of all correlation values"
      ],
      "metadata": {
        "id": "-vHCA2nmPLD1"
      }
    },
    {
      "cell_type": "code",
      "execution_count": null,
      "metadata": {
        "colab": {
          "base_uri": "https://localhost:8080/"
        },
        "id": "O4dC1EqS2pYI",
        "outputId": "34de0fa4-6973-4593-97df-3d82d204881d"
      },
      "outputs": [
        {
          "output_type": "stream",
          "name": "stdout",
          "text": [
            "Average Pearson correlation coefficient: 0.5250\n"
          ]
        }
      ],
      "source": [
        "pearson_correlation_aggregate = [] # store the correlation for forgetting counts for data points between each model run\n",
        "for i in range(len(T_aggregate)):\n",
        "  for j in range(len(T_aggregate)):\n",
        "    if i < j: # Don't compare the same two arrays\n",
        "      forgetting_events_seed1 = np.array(T_aggregate[i])\n",
        "      forgetting_events_seed2 = np.array(T_aggregate[j])\n",
        "\n",
        "      mean1 = np.mean(forgetting_events_seed1)\n",
        "      mean2 = np.mean(forgetting_events_seed2)\n",
        "\n",
        "      cov = np.mean((forgetting_events_seed1 - mean1) * (forgetting_events_seed2 - mean2))\n",
        "\n",
        "      std1 = np.std(forgetting_events_seed1)\n",
        "      std2 = np.std(forgetting_events_seed2)\n",
        "\n",
        "      # Compute Pearson correlation\n",
        "      corr = cov / (std1 * std2)\n",
        "\n",
        "      #print(f\"Pearson correlation coefficient: {corr:.4f}\")\n",
        "\n",
        "      pearson_correlation_aggregate.append(corr)\n",
        "average_corr = np.mean(pearson_correlation_aggregate)\n",
        "\n",
        "print(f\"Average Pearson correlation coefficient: {average_corr:.4f}\")\n",
        "\n"
      ]
    },
    {
      "cell_type": "markdown",
      "source": [
        "Plot the histogram of forgetting counts for the first 5 seeds"
      ],
      "metadata": {
        "id": "DnlkMHnzP8et"
      }
    },
    {
      "cell_type": "code",
      "execution_count": null,
      "metadata": {
        "colab": {
          "base_uri": "https://localhost:8080/",
          "height": 491
        },
        "id": "UVyqh5hKB1Yj",
        "outputId": "7c131abc-6ff2-4c30-81d8-1486073206c5"
      },
      "outputs": [
        {
          "output_type": "display_data",
          "data": {
            "text/plain": [
              "<Figure size 800x500 with 1 Axes>"
            ],
            "image/png": "[encoded data removed]"
          },
          "metadata": {}
        }
      ],
      "source": [
        "unique_T, counts = np.unique(T_aggregate[0], return_counts=True)\n",
        "\n",
        "unique_T2, counts2 = np.unique(T_aggregate[1], return_counts=True)\n",
        "\n",
        "unique_T3, counts3 = np.unique(T_aggregate[2], return_counts=True)\n",
        "\n",
        "unique_T4, counts4 = np.unique(T_aggregate[3], return_counts=True)\n",
        "\n",
        "unique_T5, counts5 = np.unique(T_aggregate[4], return_counts=True)\n",
        "\n",
        "\n",
        "plt.figure(figsize=(8, 5))\n",
        "\n",
        "plt.bar(unique_T, counts, color='skyblue', edgecolor='black', label='Seed 1', alpha=0.6)\n",
        "\n",
        "plt.bar(unique_T2, counts2, color='orange', edgecolor='black', label='Seed 2', alpha=0.6)\n",
        "\n",
        "plt.bar(unique_T3, counts3, color='green', edgecolor='black', label='Seed 3', alpha=0.6)\n",
        "\n",
        "plt.bar(unique_T4, counts4, color='red', edgecolor='black', label='Seed 4', alpha=0.6)\n",
        "\n",
        "plt.bar(unique_T5, counts5, color='purple', edgecolor='black', label='Seed 5', alpha=0.6)\n",
        "\n",
        "plt.xticks(np.union1d(np.union1d(np.union1d(np.union1d(unique_T, unique_T2), unique_T3), unique_T4), unique_T5))\n",
        "plt.title('Histogram of Number Forgetting Events for 5 Random Seeds',fontsize=12, wrap=True)\n",
        "plt.xlabel('Number Forgetting Events',fontsize=12)\n",
        "plt.ylabel('Number of Data Points',fontsize=12)\n",
        "plt.grid(True)\n",
        "\n",
        "plt.legend()\n",
        "\n",
        "plt.show()\n"
      ]
    },
    {
      "cell_type": "markdown",
      "source": [
        "Print tabular data used in histograms to compare the values\n",
        "\n",
        "The data shows that each model run had very similar number of data points\n",
        "(y-axis) forgetton for each forgetting count (x-axis)"
      ],
      "metadata": {
        "id": "P7mQLjogQQDi"
      }
    },
    {
      "cell_type": "code",
      "source": [
        "# print tabular data\n",
        "for i in T_aggregate:\n",
        "  unique_T, counts = np.unique(T, return_counts=True)\n",
        " # print(\"\\n\\n\")\n",
        "  for i in range(len(counts)):\n",
        "    print( \"Forgetting event: \", unique_T[i], \" count: \", counts[i])\n"
      ],
      "metadata": {
        "colab": {
          "base_uri": "https://localhost:8080/"
        },
        "id": "2pyt2SkGEv5Z",
        "outputId": "04adcc7d-7abe-45d8-f05f-9cd6e3055c6e"
      },
      "execution_count": null,
      "outputs": [
        {
          "output_type": "stream",
          "name": "stdout",
          "text": [
            "Forgetting event:  0  count:  638\n",
            "Forgetting event:  1  count:  1126\n",
            "Forgetting event:  2  count:  1869\n",
            "Forgetting event:  3  count:  2231\n",
            "Forgetting event:  4  count:  2123\n",
            "Forgetting event:  5  count:  1404\n",
            "Forgetting event:  6  count:  712\n",
            "Forgetting event:  7  count:  209\n",
            "Forgetting event:  8  count:  52\n",
            "Forgetting event:  9  count:  7\n",
            "Forgetting event:  10  count:  3\n",
            "Forgetting event:  11  count:  1\n",
            "Forgetting event:  12  count:  1\n",
            "Forgetting event:  20  count:  1\n",
            "Forgetting event:  22  count:  1\n",
            "Forgetting event:  24  count:  1\n",
            "Forgetting event:  0  count:  638\n",
            "Forgetting event:  1  count:  1126\n",
            "Forgetting event:  2  count:  1869\n",
            "Forgetting event:  3  count:  2231\n",
            "Forgetting event:  4  count:  2123\n",
            "Forgetting event:  5  count:  1404\n",
            "Forgetting event:  6  count:  712\n",
            "Forgetting event:  7  count:  209\n",
            "Forgetting event:  8  count:  52\n",
            "Forgetting event:  9  count:  7\n",
            "Forgetting event:  10  count:  3\n",
            "Forgetting event:  11  count:  1\n",
            "Forgetting event:  12  count:  1\n",
            "Forgetting event:  20  count:  1\n",
            "Forgetting event:  22  count:  1\n",
            "Forgetting event:  24  count:  1\n",
            "Forgetting event:  0  count:  638\n",
            "Forgetting event:  1  count:  1126\n",
            "Forgetting event:  2  count:  1869\n",
            "Forgetting event:  3  count:  2231\n",
            "Forgetting event:  4  count:  2123\n",
            "Forgetting event:  5  count:  1404\n",
            "Forgetting event:  6  count:  712\n",
            "Forgetting event:  7  count:  209\n",
            "Forgetting event:  8  count:  52\n",
            "Forgetting event:  9  count:  7\n",
            "Forgetting event:  10  count:  3\n",
            "Forgetting event:  11  count:  1\n",
            "Forgetting event:  12  count:  1\n",
            "Forgetting event:  20  count:  1\n",
            "Forgetting event:  22  count:  1\n",
            "Forgetting event:  24  count:  1\n",
            "Forgetting event:  0  count:  638\n",
            "Forgetting event:  1  count:  1126\n",
            "Forgetting event:  2  count:  1869\n",
            "Forgetting event:  3  count:  2231\n",
            "Forgetting event:  4  count:  2123\n",
            "Forgetting event:  5  count:  1404\n",
            "Forgetting event:  6  count:  712\n",
            "Forgetting event:  7  count:  209\n",
            "Forgetting event:  8  count:  52\n",
            "Forgetting event:  9  count:  7\n",
            "Forgetting event:  10  count:  3\n",
            "Forgetting event:  11  count:  1\n",
            "Forgetting event:  12  count:  1\n",
            "Forgetting event:  20  count:  1\n",
            "Forgetting event:  22  count:  1\n",
            "Forgetting event:  24  count:  1\n",
            "Forgetting event:  0  count:  638\n",
            "Forgetting event:  1  count:  1126\n",
            "Forgetting event:  2  count:  1869\n",
            "Forgetting event:  3  count:  2231\n",
            "Forgetting event:  4  count:  2123\n",
            "Forgetting event:  5  count:  1404\n",
            "Forgetting event:  6  count:  712\n",
            "Forgetting event:  7  count:  209\n",
            "Forgetting event:  8  count:  52\n",
            "Forgetting event:  9  count:  7\n",
            "Forgetting event:  10  count:  3\n",
            "Forgetting event:  11  count:  1\n",
            "Forgetting event:  12  count:  1\n",
            "Forgetting event:  20  count:  1\n",
            "Forgetting event:  22  count:  1\n",
            "Forgetting event:  24  count:  1\n",
            "Forgetting event:  0  count:  638\n",
            "Forgetting event:  1  count:  1126\n",
            "Forgetting event:  2  count:  1869\n",
            "Forgetting event:  3  count:  2231\n",
            "Forgetting event:  4  count:  2123\n",
            "Forgetting event:  5  count:  1404\n",
            "Forgetting event:  6  count:  712\n",
            "Forgetting event:  7  count:  209\n",
            "Forgetting event:  8  count:  52\n",
            "Forgetting event:  9  count:  7\n",
            "Forgetting event:  10  count:  3\n",
            "Forgetting event:  11  count:  1\n",
            "Forgetting event:  12  count:  1\n",
            "Forgetting event:  20  count:  1\n",
            "Forgetting event:  22  count:  1\n",
            "Forgetting event:  24  count:  1\n",
            "Forgetting event:  0  count:  638\n",
            "Forgetting event:  1  count:  1126\n",
            "Forgetting event:  2  count:  1869\n",
            "Forgetting event:  3  count:  2231\n",
            "Forgetting event:  4  count:  2123\n",
            "Forgetting event:  5  count:  1404\n",
            "Forgetting event:  6  count:  712\n",
            "Forgetting event:  7  count:  209\n",
            "Forgetting event:  8  count:  52\n",
            "Forgetting event:  9  count:  7\n",
            "Forgetting event:  10  count:  3\n",
            "Forgetting event:  11  count:  1\n",
            "Forgetting event:  12  count:  1\n",
            "Forgetting event:  20  count:  1\n",
            "Forgetting event:  22  count:  1\n",
            "Forgetting event:  24  count:  1\n",
            "Forgetting event:  0  count:  638\n",
            "Forgetting event:  1  count:  1126\n",
            "Forgetting event:  2  count:  1869\n",
            "Forgetting event:  3  count:  2231\n",
            "Forgetting event:  4  count:  2123\n",
            "Forgetting event:  5  count:  1404\n",
            "Forgetting event:  6  count:  712\n",
            "Forgetting event:  7  count:  209\n",
            "Forgetting event:  8  count:  52\n",
            "Forgetting event:  9  count:  7\n",
            "Forgetting event:  10  count:  3\n",
            "Forgetting event:  11  count:  1\n",
            "Forgetting event:  12  count:  1\n",
            "Forgetting event:  20  count:  1\n",
            "Forgetting event:  22  count:  1\n",
            "Forgetting event:  24  count:  1\n",
            "Forgetting event:  0  count:  638\n",
            "Forgetting event:  1  count:  1126\n",
            "Forgetting event:  2  count:  1869\n",
            "Forgetting event:  3  count:  2231\n",
            "Forgetting event:  4  count:  2123\n",
            "Forgetting event:  5  count:  1404\n",
            "Forgetting event:  6  count:  712\n",
            "Forgetting event:  7  count:  209\n",
            "Forgetting event:  8  count:  52\n",
            "Forgetting event:  9  count:  7\n",
            "Forgetting event:  10  count:  3\n",
            "Forgetting event:  11  count:  1\n",
            "Forgetting event:  12  count:  1\n",
            "Forgetting event:  20  count:  1\n",
            "Forgetting event:  22  count:  1\n",
            "Forgetting event:  24  count:  1\n",
            "Forgetting event:  0  count:  638\n",
            "Forgetting event:  1  count:  1126\n",
            "Forgetting event:  2  count:  1869\n",
            "Forgetting event:  3  count:  2231\n",
            "Forgetting event:  4  count:  2123\n",
            "Forgetting event:  5  count:  1404\n",
            "Forgetting event:  6  count:  712\n",
            "Forgetting event:  7  count:  209\n",
            "Forgetting event:  8  count:  52\n",
            "Forgetting event:  9  count:  7\n",
            "Forgetting event:  10  count:  3\n",
            "Forgetting event:  11  count:  1\n",
            "Forgetting event:  12  count:  1\n",
            "Forgetting event:  20  count:  1\n",
            "Forgetting event:  22  count:  1\n",
            "Forgetting event:  24  count:  1\n"
          ]
        }
      ]
    },
    {
      "cell_type": "markdown",
      "source": [
        "Calculate correlation between unique values (this histogram):\n",
        "\n",
        "The first correlation claculation calculated the correlation between the forgetting count for each data point.\n",
        "\n",
        "The below correlation is between the total number of data points forgotten for each forgetting count"
      ],
      "metadata": {
        "id": "vOBNQ4e44CJ6"
      }
    },
    {
      "cell_type": "code",
      "source": [
        "counts_aggregate = []\n",
        "for i in T_aggregate:\n",
        "  unique_T, counts = np.unique(T, return_counts=True)\n",
        "  counts_aggregate.append(counts)\n",
        "\n",
        "pearson_correlation_aggregate = []\n",
        "for i in range(len(counts_aggregate)):\n",
        "  for j in range(len(counts_aggregate)):\n",
        "    if i < j:\n",
        "      forgetting_events_seed1 = np.array(counts_aggregate[i])\n",
        "      forgetting_events_seed2 = np.array(counts_aggregate[j])\n",
        "\n",
        "      mean1 = np.mean(forgetting_events_seed1)\n",
        "      mean2 = np.mean(forgetting_events_seed2)\n",
        "\n",
        "      cov = np.mean((forgetting_events_seed1 - mean1) * (forgetting_events_seed2 - mean2))\n",
        "\n",
        "      std1 = np.std(forgetting_events_seed1)\n",
        "      std2 = np.std(forgetting_events_seed2)\n",
        "\n",
        "      # Compute Pearson correlation\n",
        "      corr = cov / (std1 * std2)\n",
        "\n",
        "      #print(f\"Pearson correlation coefficient: {corr:.4f}\")\n",
        "\n",
        "      pearson_correlation_aggregate.append(corr)\n",
        "average_corr = np.mean(pearson_correlation_aggregate)\n",
        "\n",
        "print(f\"Average Pearson correlation coefficient: {average_corr:.4f}\")\n",
        "\n"
      ],
      "metadata": {
        "colab": {
          "base_uri": "https://localhost:8080/"
        },
        "id": "Mn0tYtZj4ETE",
        "outputId": "413e5942-a146-40c5-85e0-722200c65340"
      },
      "execution_count": null,
      "outputs": [
        {
          "output_type": "stream",
          "name": "stdout",
          "text": [
            "Average Pearson correlation coefficient: 1.0000\n"
          ]
        }
      ]
    },
    {
      "cell_type": "code",
      "source": [
        "events_aggregate = []\n",
        "for i in T_aggregate:\n",
        "  unique_T, counts = np.unique(T, return_counts=True)\n",
        "  events_aggregate.append(unique_T)\n",
        "\n",
        "pearson_correlation_aggregate = []\n",
        "for i in range(len(events_aggregate)):\n",
        "  for j in range(len(events_aggregate)):\n",
        "    if i < j:\n",
        "      forgetting_events_seed1 = np.array(events_aggregate[i])\n",
        "      forgetting_events_seed2 = np.array(events_aggregate[j])\n",
        "\n",
        "      mean1 = np.mean(forgetting_events_seed1)\n",
        "      mean2 = np.mean(forgetting_events_seed2)\n",
        "\n",
        "      cov = np.mean((forgetting_events_seed1 - mean1) * (forgetting_events_seed2 - mean2))\n",
        "\n",
        "      std1 = np.std(forgetting_events_seed1)\n",
        "      std2 = np.std(forgetting_events_seed2)\n",
        "\n",
        "      # Compute Pearson correlation\n",
        "      corr = cov / (std1 * std2)\n",
        "\n",
        "      #print(f\"Pearson correlation coefficient: {corr:.4f}\")\n",
        "\n",
        "      pearson_correlation_aggregate.append(corr)\n",
        "average_corr = np.mean(pearson_correlation_aggregate)\n",
        "\n",
        "print(f\"Average Pearson correlation coefficient: {average_corr:.4f}\")\n",
        "\n"
      ],
      "metadata": {
        "colab": {
          "base_uri": "https://localhost:8080/"
        },
        "id": "EBHd1ZSVI4GV",
        "outputId": "72925dc9-9ab2-44aa-f9bb-27319ef36035"
      },
      "execution_count": null,
      "outputs": [
        {
          "output_type": "stream",
          "name": "stdout",
          "text": [
            "Average Pearson correlation coefficient: 1.0000\n"
          ]
        }
      ]
    },
    {
      "cell_type": "markdown",
      "source": [
        "The forgetting counts (ie. forgotten 1,2,...) also remained the same"
      ],
      "metadata": {
        "id": "Uwx2FWhTQzcE"
      }
    },
    {
      "cell_type": "markdown",
      "source": [
        "# Experiment: Remove unforgettable data points"
      ],
      "metadata": {
        "id": "9-kq7L1n4Itu"
      }
    },
    {
      "cell_type": "markdown",
      "source": [
        "Remove subsets of the data and evaluate the model performance"
      ],
      "metadata": {
        "id": "eFuMlV8gRBJ-"
      }
    },
    {
      "cell_type": "code",
      "source": [
        "# train and test results using all data\n",
        "T, acc, train_accuracies, train_losses = train_and_count_forgetting_events(30)\n",
        "test_accuracy(model)"
      ],
      "metadata": {
        "colab": {
          "base_uri": "https://localhost:8080/"
        },
        "id": "C0OwUatf5Bts",
        "outputId": "3821ae9d-da42-43e9-f7d7-41899d17bc7c"
      },
      "execution_count": null,
      "outputs": [
        {
          "output_type": "stream",
          "name": "stdout",
          "text": [
            "Epoch 1/30, Loss: 0.1391, Accuracy: 4.78%\n",
            "Epoch 2/30, Loss: 0.1162, Accuracy: 8.86%\n",
            "Epoch 3/30, Loss: 0.1007, Accuracy: 12.39%\n",
            "Epoch 4/30, Loss: 0.0831, Accuracy: 17.91%\n",
            "Epoch 5/30, Loss: 0.0656, Accuracy: 26.32%\n",
            "Epoch 6/30, Loss: 0.0514, Accuracy: 35.45%\n",
            "Epoch 7/30, Loss: 0.0411, Accuracy: 43.94%\n",
            "Epoch 8/30, Loss: 0.0356, Accuracy: 49.64%\n",
            "Epoch 9/30, Loss: 0.0306, Accuracy: 54.73%\n",
            "Epoch 10/30, Loss: 0.0262, Accuracy: 61.33%\n",
            "Epoch 11/30, Loss: 0.0240, Accuracy: 64.38%\n",
            "Epoch 12/30, Loss: 0.0221, Accuracy: 67.68%\n",
            "Epoch 13/30, Loss: 0.0209, Accuracy: 70.11%\n",
            "Epoch 14/30, Loss: 0.0199, Accuracy: 71.14%\n",
            "Epoch 15/30, Loss: 0.0194, Accuracy: 72.21%\n",
            "Epoch 16/30, Loss: 0.0189, Accuracy: 73.48%\n",
            "Epoch 17/30, Loss: 0.0186, Accuracy: 73.93%\n",
            "Epoch 18/30, Loss: 0.0181, Accuracy: 75.03%\n",
            "Epoch 19/30, Loss: 0.0178, Accuracy: 76.24%\n",
            "Epoch 20/30, Loss: 0.0182, Accuracy: 76.12%\n",
            "Epoch 21/30, Loss: 0.0178, Accuracy: 77.01%\n",
            "Epoch 22/30, Loss: 0.0174, Accuracy: 77.37%\n",
            "Epoch 23/30, Loss: 0.0167, Accuracy: 78.13%\n",
            "Epoch 24/30, Loss: 0.0168, Accuracy: 78.92%\n",
            "Epoch 25/30, Loss: 0.0165, Accuracy: 79.20%\n",
            "Epoch 26/30, Loss: 0.0168, Accuracy: 79.38%\n",
            "Epoch 27/30, Loss: 0.0167, Accuracy: 80.01%\n",
            "Epoch 28/30, Loss: 0.0166, Accuracy: 80.12%\n",
            "Epoch 29/30, Loss: 0.0165, Accuracy: 80.86%\n",
            "Epoch 30/30, Loss: 0.0160, Accuracy: 81.21%\n",
            "100% Test Accuracy: 6.61%\n",
            "95% Test Accuracy: 65.62%\n",
            "90% Test Accuracy: 93.93%\n",
            "75% Test Accuracy: 100.00%\n"
          ]
        }
      ]
    },
    {
      "cell_type": "code",
      "source": [
        "# Plot Accuracy\n",
        "plt.plot(train_accuracies)\n",
        "plt.title('Training Accuracy for All Data')\n",
        "plt.xlabel('Epoch')\n",
        "plt.ylabel('Accuracy (%)')\n",
        "\n",
        "plt.show()"
      ],
      "metadata": {
        "colab": {
          "base_uri": "https://localhost:8080/",
          "height": 472
        },
        "id": "NteNGa9dUzjs",
        "outputId": "153e56a0-803c-4fd3-c71d-7ff8891f3de3"
      },
      "execution_count": null,
      "outputs": [
        {
          "output_type": "display_data",
          "data": {
            "text/plain": [
              "<Figure size 640x480 with 1 Axes>"
            ],
            "image/png": "[encoded data removed]"
          },
          "metadata": {}
        }
      ]
    },
    {
      "cell_type": "code",
      "source": [
        "# get the indicies of data points that match the filter\n",
        "unforgettable_0 = np.where(T == 0)[0] # data points never forgotten\n",
        "unforgettable_1 = np.where(T <= 1)[0] # data points forgotten 0 or once\n",
        "unforgettable_2 = np.where(T <= 1)[0] # data points forgotten 0 or once\n",
        "\n",
        "forgettable_all = np.where(T > 0)[0] # data forgotten at least once\n",
        "forgettable__5 = np.where(T > 5)[0] # data forgotten more than 5 times\n",
        "unforgettable_0"
      ],
      "metadata": {
        "colab": {
          "base_uri": "https://localhost:8080/"
        },
        "id": "V4MEwfLG5-Pz",
        "outputId": "9f2011a6-180e-433a-91fc-a78677a0eb77"
      },
      "execution_count": null,
      "outputs": [
        {
          "output_type": "execute_result",
          "data": {
            "text/plain": [
              "array([   17,    29,    35,    37,    49,    75,    86,   134,   141,\n",
              "         145,   175,   177,   179,   222,   230,   243,   252,   272,\n",
              "         295,   300,   329,   331,   340,   343,   352,   367,   390,\n",
              "         427,   432,   447,   467,   483,   488,   505,   506,   528,\n",
              "         541,   576,   602,   606,   623,   632,   659,   661,   674,\n",
              "         685,   689,   691,   723,   728,   734,   790,   794,   806,\n",
              "         846,   848,   855,   856,   892,   894,   923,   925,   928,\n",
              "         940,   948,   958,   960,   969,   986,  1012,  1023,  1024,\n",
              "        1028,  1073,  1079,  1130,  1141,  1148,  1170,  1192,  1209,\n",
              "        1216,  1229,  1250,  1284,  1302,  1336,  1348,  1367,  1376,\n",
              "        1386,  1387,  1388,  1427,  1478,  1500,  1522,  1525,  1529,\n",
              "        1535,  1557,  1600,  1603,  1615,  1680,  1691,  1705,  1739,\n",
              "        1743,  1804,  1829,  1846,  1854,  1856,  1891,  1893,  1896,\n",
              "        1943,  1947,  1966,  2012,  2028,  2033,  2046,  2054,  2059,\n",
              "        2109,  2121,  2145,  2157,  2165,  2202,  2209,  2210,  2231,\n",
              "        2236,  2247,  2268,  2285,  2293,  2313,  2332,  2340,  2343,\n",
              "        2351,  2352,  2359,  2370,  2375,  2382,  2404,  2417,  2428,\n",
              "        2442,  2485,  2493,  2508,  2523,  2526,  2554,  2564,  2643,\n",
              "        2654,  2684,  2690,  2716,  2746,  2758,  2772,  2781,  2786,\n",
              "        2798,  2804,  2810,  2822,  2841,  2848,  2883,  2890,  2912,\n",
              "        2933,  2938,  2975,  2978,  2982,  3018,  3030,  3038,  3054,\n",
              "        3084,  3100,  3123,  3175,  3205,  3225,  3231,  3244,  3292,\n",
              "        3309,  3312,  3318,  3325,  3326,  3341,  3363,  3366,  3376,\n",
              "        3388,  3412,  3416,  3418,  3423,  3424,  3471,  3476,  3477,\n",
              "        3484,  3490,  3498,  3505,  3506,  3512,  3524,  3539,  3591,\n",
              "        3633,  3654,  3673,  3698,  3701,  3714,  3716,  3719,  3724,\n",
              "        3764,  3782,  3785,  3806,  3823,  3841,  3866,  3890,  3893,\n",
              "        3903,  3918,  3922,  3974,  3996,  4004,  4034,  4085,  4097,\n",
              "        4104,  4210,  4214,  4227,  4231,  4247,  4257,  4286,  4310,\n",
              "        4314,  4336,  4384,  4409,  4423,  4435,  4439,  4457,  4459,\n",
              "        4463,  4480,  4559,  4565,  4578,  4595,  4603,  4618,  4625,\n",
              "        4626,  4655,  4683,  4689,  4690,  4704,  4707,  4750,  4751,\n",
              "        4800,  4806,  4812,  4823,  4840,  4848,  4851,  4852,  4856,\n",
              "        4870,  4884,  4896,  4910,  4926,  4952,  4969,  5016,  5017,\n",
              "        5062,  5104,  5109,  5120,  5125,  5128,  5159,  5161,  5172,\n",
              "        5187,  5214,  5254,  5264,  5269,  5271,  5275,  5316,  5334,\n",
              "        5335,  5367,  5369,  5382,  5387,  5424,  5439,  5461,  5477,\n",
              "        5492,  5493,  5495,  5536,  5579,  5654,  5660,  5671,  5687,\n",
              "        5735,  5759,  5760,  5764,  5772,  5797,  5799,  5849,  5856,\n",
              "        5860,  5866,  5887,  5893,  5896,  5922,  5945,  5952,  5953,\n",
              "        5984,  6005,  6019,  6029,  6043,  6058,  6081,  6086,  6090,\n",
              "        6112,  6132,  6148,  6170,  6195,  6208,  6223,  6225,  6250,\n",
              "        6261,  6275,  6285,  6289,  6345,  6356,  6371,  6400,  6415,\n",
              "        6416,  6417,  6428,  6442,  6448,  6451,  6464,  6465,  6477,\n",
              "        6492,  6550,  6555,  6558,  6561,  6565,  6585,  6599,  6614,\n",
              "        6627,  6658,  6660,  6676,  6694,  6696,  6724,  6735,  6769,\n",
              "        6771,  6788,  6804,  6807,  6825,  6844,  6860,  6867,  6874,\n",
              "        6876,  6877,  6911,  6918,  6927,  6938,  6942,  6949,  6974,\n",
              "        6988,  6989,  7019,  7023,  7026,  7027,  7037,  7039,  7059,\n",
              "        7065,  7068,  7072,  7111,  7114,  7125,  7131,  7193,  7237,\n",
              "        7243,  7252,  7262,  7282,  7365,  7382,  7404,  7414,  7421,\n",
              "        7460,  7468,  7475,  7485,  7496,  7541,  7557,  7597,  7602,\n",
              "        7606,  7610,  7629,  7642,  7658,  7661,  7668,  7678,  7686,\n",
              "        7702,  7703,  7712,  7713,  7741,  7772,  7785,  7840,  7845,\n",
              "        7859,  7868,  7879,  7888,  7889,  7924,  7948,  7952,  7983,\n",
              "        7997,  8004,  8018,  8028,  8029,  8041,  8060,  8068,  8079,\n",
              "        8085,  8098,  8102,  8115,  8126,  8155,  8156,  8172,  8204,\n",
              "        8292,  8294,  8300,  8361,  8367,  8377,  8424,  8427,  8428,\n",
              "        8429,  8460,  8463,  8534,  8549,  8550,  8556,  8573,  8620,\n",
              "        8656,  8686,  8690,  8702,  8754,  8760,  8771,  8858,  8859,\n",
              "        8870,  8871,  8883,  8904,  8911,  8972,  8984,  8990,  9050,\n",
              "        9060,  9067,  9112,  9115,  9117,  9134,  9157,  9161,  9164,\n",
              "        9167,  9171,  9175,  9222,  9223,  9286,  9288,  9290,  9292,\n",
              "        9305,  9314,  9324,  9346,  9352,  9355,  9360,  9389,  9418,\n",
              "        9419,  9420,  9446,  9484,  9490,  9508,  9530,  9537,  9571,\n",
              "        9585,  9625,  9632,  9648,  9662,  9683,  9690,  9702,  9717,\n",
              "        9723,  9729,  9735,  9747,  9757,  9759,  9763,  9766,  9775,\n",
              "        9830,  9839,  9857,  9868,  9873,  9894,  9920,  9929,  9939,\n",
              "        9941,  9944,  9953,  9963,  9983,  9992,  9993,  9994,  9997,\n",
              "       10038, 10041, 10057, 10063, 10070, 10104, 10108, 10122, 10129,\n",
              "       10159, 10206, 10222, 10245, 10255, 10262, 10263, 10268, 10288,\n",
              "       10317, 10368, 10369, 10370, 10371, 10372, 10373, 10374, 10375,\n",
              "       10376, 10377, 10378])"
            ]
          },
          "metadata": {},
          "execution_count": 142
        }
      ]
    },
    {
      "cell_type": "markdown",
      "source": [
        "Train on only unforgettable data"
      ],
      "metadata": {
        "id": "GXi-N2xGSJe0"
      }
    },
    {
      "cell_type": "code",
      "source": [
        "#Unfrogettable dataset size:\n",
        "len(unforgettable_0)"
      ],
      "metadata": {
        "colab": {
          "base_uri": "https://localhost:8080/"
        },
        "id": "vTWL87wQTvfH",
        "outputId": "7af69e51-03fa-4ef0-dae8-c2c2a7621a97"
      },
      "execution_count": null,
      "outputs": [
        {
          "output_type": "execute_result",
          "data": {
            "text/plain": [
              "651"
            ]
          },
          "metadata": {},
          "execution_count": 143
        }
      ]
    },
    {
      "cell_type": "code",
      "source": [
        "# create new dataset that only includes unforgettable data\n",
        "vectorizer = TfidfVectorizer(max_features=2000)\n",
        "train_features = vectorizer.fit_transform([train_texts[i] for i in unforgettable_0]).toarray()\n",
        "val_features = vectorizer.transform(val_texts).toarray()\n",
        "test_features = vectorizer.transform(test_texts).toarray()\n",
        "\n",
        "# Convert to tensors\n",
        "train_features_tensor = torch.tensor(train_features, dtype=torch.float32)\n",
        "val_features_tensor = torch.tensor(val_features, dtype=torch.float32)\n",
        "test_features_tensor = torch.tensor(test_features, dtype=torch.float32)\n",
        "#train model\n",
        "\n",
        "class IMDBDataset(Dataset):\n",
        "    def __init__(self, features, labels):\n",
        "        self.features = features\n",
        "        self.labels = labels\n",
        "\n",
        "    def __len__(self):\n",
        "        return len(self.features)\n",
        "\n",
        "    def __getitem__(self, idx):\n",
        "        return self.features[idx], self.labels[idx]\n",
        "\n",
        "# Create datasets\n",
        "train_dataset = IMDBDataset(train_features_tensor, train_labels)\n",
        "val_dataset = IMDBDataset(val_features_tensor, val_labels)\n",
        "test_dataset = IMDBDataset(test_features_tensor, test_labels)\n",
        "\n",
        "# Create dataloaders\n",
        "train_loader = DataLoader(train_dataset, batch_size=32, shuffle=False)\n",
        "val_loader = DataLoader(val_dataset, batch_size=32)\n",
        "test_loader = DataLoader(test_dataset, batch_size=32)\n"
      ],
      "metadata": {
        "id": "whjACq7R4Ope"
      },
      "execution_count": null,
      "outputs": []
    },
    {
      "cell_type": "code",
      "source": [
        "T, acc, train_accuracies, train_losses = train_and_count_forgetting_events(30)\n",
        "test_accuracy(model)"
      ],
      "metadata": {
        "colab": {
          "base_uri": "https://localhost:8080/"
        },
        "id": "RWBU9bvt5qYD",
        "outputId": "5dcedcff-ec82-4fd4-d301-8784a1ae3540"
      },
      "execution_count": null,
      "outputs": [
        {
          "output_type": "stream",
          "name": "stdout",
          "text": [
            "Epoch 1/30, Loss: 0.2380, Accuracy: 1.54%\n",
            "Epoch 2/30, Loss: 0.1493, Accuracy: 0.46%\n",
            "Epoch 3/30, Loss: 0.1353, Accuracy: 0.92%\n",
            "Epoch 4/30, Loss: 0.1232, Accuracy: 6.30%\n",
            "Epoch 5/30, Loss: 0.1047, Accuracy: 12.75%\n",
            "Epoch 6/30, Loss: 0.0828, Accuracy: 20.74%\n",
            "Epoch 7/30, Loss: 0.0644, Accuracy: 32.41%\n",
            "Epoch 8/30, Loss: 0.0512, Accuracy: 46.24%\n",
            "Epoch 9/30, Loss: 0.0465, Accuracy: 50.54%\n",
            "Epoch 10/30, Loss: 0.0457, Accuracy: 44.39%\n",
            "Epoch 11/30, Loss: 0.0433, Accuracy: 46.08%\n",
            "Epoch 12/30, Loss: 0.0399, Accuracy: 53.61%\n",
            "Epoch 13/30, Loss: 0.0352, Accuracy: 60.37%\n",
            "Epoch 14/30, Loss: 0.0289, Accuracy: 69.59%\n",
            "Epoch 15/30, Loss: 0.0252, Accuracy: 73.73%\n",
            "Epoch 16/30, Loss: 0.0242, Accuracy: 74.81%\n",
            "Epoch 17/30, Loss: 0.0252, Accuracy: 75.73%\n",
            "Epoch 18/30, Loss: 0.0257, Accuracy: 75.58%\n",
            "Epoch 19/30, Loss: 0.0235, Accuracy: 75.73%\n",
            "Epoch 20/30, Loss: 0.0246, Accuracy: 76.34%\n",
            "Epoch 21/30, Loss: 0.0245, Accuracy: 76.04%\n",
            "Epoch 22/30, Loss: 0.0239, Accuracy: 76.34%\n",
            "Epoch 23/30, Loss: 0.0246, Accuracy: 76.80%\n",
            "Epoch 24/30, Loss: 0.0249, Accuracy: 75.88%\n",
            "Epoch 25/30, Loss: 0.0239, Accuracy: 76.04%\n",
            "Epoch 26/30, Loss: 0.0233, Accuracy: 76.19%\n",
            "Epoch 27/30, Loss: 0.0249, Accuracy: 76.80%\n",
            "Epoch 28/30, Loss: 0.0243, Accuracy: 76.04%\n",
            "Epoch 29/30, Loss: 0.0249, Accuracy: 75.88%\n",
            "Epoch 30/30, Loss: 0.0237, Accuracy: 76.50%\n",
            "100% Test Accuracy: 1.21%\n",
            "95% Test Accuracy: 46.65%\n",
            "90% Test Accuracy: 88.63%\n",
            "75% Test Accuracy: 100.00%\n"
          ]
        }
      ]
    },
    {
      "cell_type": "markdown",
      "source": [
        "Run time was 5.5 seconds"
      ],
      "metadata": {
        "id": "VRupykQ1Tr-u"
      }
    },
    {
      "cell_type": "code",
      "source": [
        "# Proportion of dataset that were forgotten 0, 1, 2, ... times\n",
        "unique_T, counts = np.unique(T, return_counts=True)\n",
        "\n",
        "counts = counts / counts.sum()\n",
        "\n",
        "# Plot histogram of how many points were forgotten 1, 2, ... times\n",
        "plt.bar(unique_T, counts, color='skyblue', edgecolor='black')\n",
        "plt.title('Histogram of Fraction of Dataset Forgotten For Only Unforgettable Data Points',fontsize=16, wrap=True)\n",
        "plt.xlabel('Number Forgetting Events',fontsize=16)\n",
        "plt.ylabel('Fraction of Data Points',fontsize=16)\n",
        "#plt.xticks(unique_T)  # Ensure all unique counts are labeled\n",
        "plt.grid(True)\n",
        "plt.show()\n"
      ],
      "metadata": {
        "colab": {
          "base_uri": "https://localhost:8080/",
          "height": 500
        },
        "id": "T4sLLM7GScJG",
        "outputId": "c0bfba5e-ebbf-47f0-b469-5774b0fc0f4a"
      },
      "execution_count": null,
      "outputs": [
        {
          "output_type": "display_data",
          "data": {
            "text/plain": [
              "<Figure size 640x480 with 1 Axes>"
            ],
            "image/png": "[encoded data removed]"
          },
          "metadata": {}
        }
      ]
    },
    {
      "cell_type": "code",
      "source": [
        "# Plot Accuracy\n",
        "plt.plot(train_accuracies)\n",
        "plt.title('Training Accuracy, Unforgettable Dataset')\n",
        "plt.xlabel('Epoch')\n",
        "plt.ylabel('Accuracy (%)')\n",
        "\n",
        "plt.show()"
      ],
      "metadata": {
        "colab": {
          "base_uri": "https://localhost:8080/",
          "height": 472
        },
        "id": "0qJb54PgSshk",
        "outputId": "14068170-d2ec-4da9-8627-0459b6fac034"
      },
      "execution_count": null,
      "outputs": [
        {
          "output_type": "display_data",
          "data": {
            "text/plain": [
              "<Figure size 640x480 with 1 Axes>"
            ],
            "image/png": "[encoded data removed]"
          },
          "metadata": {}
        }
      ]
    },
    {
      "cell_type": "markdown",
      "source": [
        "All forgettable data"
      ],
      "metadata": {
        "id": "EZgqdI1TS4M7"
      }
    },
    {
      "cell_type": "code",
      "source": [
        "#Unfrogettable dataset size:\n",
        "len(unforgettable_1)"
      ],
      "metadata": {
        "colab": {
          "base_uri": "https://localhost:8080/"
        },
        "id": "i259mnACVd5X",
        "outputId": "d59d347f-3126-4be1-de6e-2ac587fd2a3b"
      },
      "execution_count": null,
      "outputs": [
        {
          "output_type": "execute_result",
          "data": {
            "text/plain": [
              "1755"
            ]
          },
          "metadata": {},
          "execution_count": 149
        }
      ]
    },
    {
      "cell_type": "code",
      "source": [
        "vectorizer = TfidfVectorizer(max_features=2000)\n",
        "train_features = vectorizer.fit_transform([train_texts[i] for i in unforgettable_1]).toarray()\n",
        "val_features = vectorizer.transform(val_texts).toarray()\n",
        "test_features = vectorizer.transform(test_texts).toarray()\n",
        "\n",
        "# Convert to tensors\n",
        "train_features_tensor = torch.tensor(train_features, dtype=torch.float32)\n",
        "val_features_tensor = torch.tensor(val_features, dtype=torch.float32)\n",
        "test_features_tensor = torch.tensor(test_features, dtype=torch.float32)\n",
        "#train model\n",
        "\n",
        "class IMDBDataset(Dataset):\n",
        "    def __init__(self, features, labels):\n",
        "        self.features = features\n",
        "        self.labels = labels\n",
        "\n",
        "    def __len__(self):\n",
        "        return len(self.features)\n",
        "\n",
        "    def __getitem__(self, idx):\n",
        "        return self.features[idx], self.labels[idx]\n",
        "\n",
        "# Create datasets\n",
        "train_dataset = IMDBDataset(train_features_tensor, train_labels)\n",
        "val_dataset = IMDBDataset(val_features_tensor, val_labels)\n",
        "test_dataset = IMDBDataset(test_features_tensor, test_labels)\n",
        "\n",
        "# Create dataloaders\n",
        "train_loader = DataLoader(train_dataset, batch_size=32, shuffle=False)\n",
        "val_loader = DataLoader(val_dataset, batch_size=32)\n",
        "test_loader = DataLoader(test_dataset, batch_size=32)\n"
      ],
      "metadata": {
        "id": "GiIXwvQxS3Ay"
      },
      "execution_count": null,
      "outputs": []
    },
    {
      "cell_type": "code",
      "source": [
        "T, acc, train_accuracies, train_losses = train_and_count_forgetting_events(30)\n",
        "test_accuracy(model)"
      ],
      "metadata": {
        "colab": {
          "base_uri": "https://localhost:8080/"
        },
        "id": "qffQ9PV3Vt23",
        "outputId": "1848a028-cc6c-4cce-e8e3-7b00c3f0a7e4"
      },
      "execution_count": null,
      "outputs": [
        {
          "output_type": "stream",
          "name": "stdout",
          "text": [
            "Epoch 1/30, Loss: 0.1845, Accuracy: 1.54%\n",
            "Epoch 2/30, Loss: 0.1399, Accuracy: 1.08%\n",
            "Epoch 3/30, Loss: 0.1276, Accuracy: 3.25%\n",
            "Epoch 4/30, Loss: 0.1089, Accuracy: 7.69%\n",
            "Epoch 5/30, Loss: 0.0840, Accuracy: 17.44%\n",
            "Epoch 6/30, Loss: 0.0618, Accuracy: 32.19%\n",
            "Epoch 7/30, Loss: 0.0463, Accuracy: 49.29%\n",
            "Epoch 8/30, Loss: 0.0399, Accuracy: 56.07%\n",
            "Epoch 9/30, Loss: 0.0391, Accuracy: 56.81%\n",
            "Epoch 10/30, Loss: 0.0397, Accuracy: 54.30%\n",
            "Epoch 11/30, Loss: 0.0352, Accuracy: 62.39%\n",
            "Epoch 12/30, Loss: 0.0296, Accuracy: 70.71%\n",
            "Epoch 13/30, Loss: 0.0264, Accuracy: 77.89%\n",
            "Epoch 14/30, Loss: 0.0254, Accuracy: 79.32%\n",
            "Epoch 15/30, Loss: 0.0253, Accuracy: 78.40%\n",
            "Epoch 16/30, Loss: 0.0250, Accuracy: 80.23%\n",
            "Epoch 17/30, Loss: 0.0233, Accuracy: 80.63%\n",
            "Epoch 18/30, Loss: 0.0235, Accuracy: 80.91%\n",
            "Epoch 19/30, Loss: 0.0232, Accuracy: 81.31%\n",
            "Epoch 20/30, Loss: 0.0232, Accuracy: 81.31%\n",
            "Epoch 21/30, Loss: 0.0230, Accuracy: 81.48%\n",
            "Epoch 22/30, Loss: 0.0227, Accuracy: 81.48%\n",
            "Epoch 23/30, Loss: 0.0226, Accuracy: 81.54%\n",
            "Epoch 24/30, Loss: 0.0226, Accuracy: 81.65%\n",
            "Epoch 25/30, Loss: 0.0234, Accuracy: 81.82%\n",
            "Epoch 26/30, Loss: 0.0230, Accuracy: 81.82%\n",
            "Epoch 27/30, Loss: 0.0227, Accuracy: 81.60%\n",
            "Epoch 28/30, Loss: 0.0227, Accuracy: 81.20%\n",
            "Epoch 29/30, Loss: 0.0227, Accuracy: 81.71%\n",
            "Epoch 30/30, Loss: 0.0224, Accuracy: 81.25%\n",
            "100% Test Accuracy: 1.21%\n",
            "95% Test Accuracy: 52.36%\n",
            "90% Test Accuracy: 89.80%\n",
            "75% Test Accuracy: 100.00%\n"
          ]
        }
      ]
    },
    {
      "cell_type": "code",
      "source": [
        "# Plot Accuracy\n",
        "plt.plot(train_accuracies)\n",
        "plt.title('Training Accuracy, Dataset: ')\n",
        "plt.xlabel('Epoch')\n",
        "plt.ylabel('Accuracy (%)')\n",
        "\n",
        "plt.show()"
      ],
      "metadata": {
        "colab": {
          "base_uri": "https://localhost:8080/",
          "height": 472
        },
        "id": "rLeeJS24VzJm",
        "outputId": "bb6b58a7-a9f2-4e62-a009-6f5b7c139f58"
      },
      "execution_count": null,
      "outputs": [
        {
          "output_type": "display_data",
          "data": {
            "text/plain": [
              "<Figure size 640x480 with 1 Axes>"
            ],
            "image/png": "[encoded data removed]"
          },
          "metadata": {}
        }
      ]
    },
    {
      "cell_type": "code",
      "source": [
        "len(unforgettable_2)"
      ],
      "metadata": {
        "colab": {
          "base_uri": "https://localhost:8080/"
        },
        "id": "pWvCNfoWRHnQ",
        "outputId": "6cb39cde-a247-426d-d9a4-ca292b4ef487"
      },
      "execution_count": null,
      "outputs": [
        {
          "output_type": "execute_result",
          "data": {
            "text/plain": [
              "1755"
            ]
          },
          "metadata": {},
          "execution_count": 153
        }
      ]
    },
    {
      "cell_type": "code",
      "source": [
        "vectorizer = TfidfVectorizer(max_features=2000)\n",
        "train_features = vectorizer.fit_transform([train_texts[i] for i in unforgettable_2]).toarray()\n",
        "val_features = vectorizer.transform(val_texts).toarray()\n",
        "test_features = vectorizer.transform(test_texts).toarray()\n",
        "\n",
        "# Convert to tensors\n",
        "train_features_tensor = torch.tensor(train_features, dtype=torch.float32)\n",
        "val_features_tensor = torch.tensor(val_features, dtype=torch.float32)\n",
        "test_features_tensor = torch.tensor(test_features, dtype=torch.float32)\n",
        "#train model\n",
        "\n",
        "class IMDBDataset(Dataset):\n",
        "    def __init__(self, features, labels):\n",
        "        self.features = features\n",
        "        self.labels = labels\n",
        "\n",
        "    def __len__(self):\n",
        "        return len(self.features)\n",
        "\n",
        "    def __getitem__(self, idx):\n",
        "        return self.features[idx], self.labels[idx]\n",
        "\n",
        "# Create datasets\n",
        "train_dataset = IMDBDataset(train_features_tensor, train_labels)\n",
        "val_dataset = IMDBDataset(val_features_tensor, val_labels)\n",
        "test_dataset = IMDBDataset(test_features_tensor, test_labels)\n",
        "\n",
        "# Create dataloaders\n",
        "train_loader = DataLoader(train_dataset, batch_size=32, shuffle=False)\n",
        "val_loader = DataLoader(val_dataset, batch_size=32)\n",
        "test_loader = DataLoader(test_dataset, batch_size=32)\n"
      ],
      "metadata": {
        "id": "KgkI24KOWP5L"
      },
      "execution_count": null,
      "outputs": []
    },
    {
      "cell_type": "code",
      "source": [
        "T, acc, train_accuracies, train_losses = train_and_count_forgetting_events(30)\n",
        "test_accuracy(model)"
      ],
      "metadata": {
        "colab": {
          "base_uri": "https://localhost:8080/"
        },
        "id": "BQZiKOd5WTNK",
        "outputId": "f694a675-7bd3-48a2-df43-9d19c4c56311"
      },
      "execution_count": null,
      "outputs": [
        {
          "output_type": "stream",
          "name": "stdout",
          "text": [
            "Epoch 1/30, Loss: 0.1847, Accuracy: 1.54%\n",
            "Epoch 2/30, Loss: 0.1401, Accuracy: 0.74%\n",
            "Epoch 3/30, Loss: 0.1275, Accuracy: 3.42%\n",
            "Epoch 4/30, Loss: 0.1090, Accuracy: 6.21%\n",
            "Epoch 5/30, Loss: 0.0846, Accuracy: 16.52%\n",
            "Epoch 6/30, Loss: 0.0622, Accuracy: 31.00%\n",
            "Epoch 7/30, Loss: 0.0468, Accuracy: 49.12%\n",
            "Epoch 8/30, Loss: 0.0404, Accuracy: 54.87%\n",
            "Epoch 9/30, Loss: 0.0400, Accuracy: 55.73%\n",
            "Epoch 10/30, Loss: 0.0394, Accuracy: 53.28%\n",
            "Epoch 11/30, Loss: 0.0339, Accuracy: 62.45%\n",
            "Epoch 12/30, Loss: 0.0295, Accuracy: 70.43%\n",
            "Epoch 13/30, Loss: 0.0263, Accuracy: 76.58%\n",
            "Epoch 14/30, Loss: 0.0258, Accuracy: 79.72%\n",
            "Epoch 15/30, Loss: 0.0255, Accuracy: 79.94%\n",
            "Epoch 16/30, Loss: 0.0249, Accuracy: 79.49%\n",
            "Epoch 17/30, Loss: 0.0238, Accuracy: 80.63%\n",
            "Epoch 18/30, Loss: 0.0233, Accuracy: 81.20%\n",
            "Epoch 19/30, Loss: 0.0230, Accuracy: 81.42%\n",
            "Epoch 20/30, Loss: 0.0232, Accuracy: 81.37%\n",
            "Epoch 21/30, Loss: 0.0233, Accuracy: 81.71%\n",
            "Epoch 22/30, Loss: 0.0235, Accuracy: 81.65%\n",
            "Epoch 23/30, Loss: 0.0225, Accuracy: 81.42%\n",
            "Epoch 24/30, Loss: 0.0219, Accuracy: 81.60%\n",
            "Epoch 25/30, Loss: 0.0233, Accuracy: 81.60%\n",
            "Epoch 26/30, Loss: 0.0211, Accuracy: 81.82%\n",
            "Epoch 27/30, Loss: 0.0222, Accuracy: 81.71%\n",
            "Epoch 28/30, Loss: 0.0221, Accuracy: 81.65%\n",
            "Epoch 29/30, Loss: 0.0224, Accuracy: 82.34%\n",
            "Epoch 30/30, Loss: 0.0224, Accuracy: 81.88%\n",
            "100% Test Accuracy: 1.21%\n",
            "95% Test Accuracy: 52.36%\n",
            "90% Test Accuracy: 89.80%\n",
            "75% Test Accuracy: 100.00%\n"
          ]
        }
      ]
    },
    {
      "cell_type": "markdown",
      "source": [
        "Run time 18.54 seconds"
      ],
      "metadata": {
        "id": "3sntWl8fWaUl"
      }
    },
    {
      "cell_type": "code",
      "source": [
        "# Plot Accuracy\n",
        "plt.plot(train_accuracies)\n",
        "plt.title('Training Accuracy: Trained on 0,1,2 Forgetting Event Data')\n",
        "plt.xlabel('Epoch')\n",
        "plt.ylabel('Accuracy (%)')\n",
        "\n",
        "plt.show()"
      ],
      "metadata": {
        "colab": {
          "base_uri": "https://localhost:8080/",
          "height": 472
        },
        "id": "SK6rkpktWb8e",
        "outputId": "c72f4359-d4d3-4902-ca02-c7e8e24c4105"
      },
      "execution_count": null,
      "outputs": [
        {
          "output_type": "display_data",
          "data": {
            "text/plain": [
              "<Figure size 640x480 with 1 Axes>"
            ],
            "image/png": "[encoded data removed]"
          },
          "metadata": {}
        }
      ]
    },
    {
      "cell_type": "code",
      "source": [
        "len(forgettable_all)"
      ],
      "metadata": {
        "colab": {
          "base_uri": "https://localhost:8080/"
        },
        "id": "7SnpgTwGWokm",
        "outputId": "36293302-a73e-4a5f-cd33-08a396fb8ecb"
      },
      "execution_count": null,
      "outputs": [
        {
          "output_type": "execute_result",
          "data": {
            "text/plain": [
              "9728"
            ]
          },
          "metadata": {},
          "execution_count": 157
        }
      ]
    },
    {
      "cell_type": "code",
      "source": [
        "vectorizer = TfidfVectorizer(max_features=2000)\n",
        "train_features = vectorizer.fit_transform([train_texts[i] for i in forgettable_all]).toarray()\n",
        "val_features = vectorizer.transform(val_texts).toarray()\n",
        "test_features = vectorizer.transform(test_texts).toarray()\n",
        "\n",
        "# Convert to tensors\n",
        "train_features_tensor = torch.tensor(train_features, dtype=torch.float32)\n",
        "val_features_tensor = torch.tensor(val_features, dtype=torch.float32)\n",
        "test_features_tensor = torch.tensor(test_features, dtype=torch.float32)\n",
        "#train model\n",
        "\n",
        "class IMDBDataset(Dataset):\n",
        "    def __init__(self, features, labels):\n",
        "        self.features = features\n",
        "        self.labels = labels\n",
        "\n",
        "    def __len__(self):\n",
        "        return len(self.features)\n",
        "\n",
        "    def __getitem__(self, idx):\n",
        "        return self.features[idx], self.labels[idx]\n",
        "\n",
        "# Create datasets\n",
        "train_dataset = IMDBDataset(train_features_tensor, train_labels)\n",
        "val_dataset = IMDBDataset(val_features_tensor, val_labels)\n",
        "test_dataset = IMDBDataset(test_features_tensor, test_labels)\n",
        "\n",
        "# Create dataloaders\n",
        "train_loader = DataLoader(train_dataset, batch_size=32, shuffle=False)\n",
        "val_loader = DataLoader(val_dataset, batch_size=32)\n",
        "test_loader = DataLoader(test_dataset, batch_size=32)\n"
      ],
      "metadata": {
        "id": "nVt7qpBGWsIj"
      },
      "execution_count": null,
      "outputs": []
    },
    {
      "cell_type": "code",
      "source": [
        "T, acc, train_accuracies, train_losses = train_and_count_forgetting_events(30)\n",
        "test_accuracy(model)"
      ],
      "metadata": {
        "colab": {
          "base_uri": "https://localhost:8080/"
        },
        "id": "rmM7tQyjWwHe",
        "outputId": "d34c63bb-7198-491f-ba9b-ba13c65f429d"
      },
      "execution_count": null,
      "outputs": [
        {
          "output_type": "stream",
          "name": "stdout",
          "text": [
            "Epoch 1/30, Loss: 0.1506, Accuracy: 0.43%\n",
            "Epoch 2/30, Loss: 0.1399, Accuracy: 0.75%\n",
            "Epoch 3/30, Loss: 0.1335, Accuracy: 1.80%\n",
            "Epoch 4/30, Loss: 0.1213, Accuracy: 4.03%\n",
            "Epoch 5/30, Loss: 0.1046, Accuracy: 7.78%\n",
            "Epoch 6/30, Loss: 0.0859, Accuracy: 13.23%\n",
            "Epoch 7/30, Loss: 0.0698, Accuracy: 21.35%\n",
            "Epoch 8/30, Loss: 0.0565, Accuracy: 29.12%\n",
            "Epoch 9/30, Loss: 0.0479, Accuracy: 35.90%\n",
            "Epoch 10/30, Loss: 0.0412, Accuracy: 41.81%\n",
            "Epoch 11/30, Loss: 0.0358, Accuracy: 47.74%\n",
            "Epoch 12/30, Loss: 0.0323, Accuracy: 51.97%\n",
            "Epoch 13/30, Loss: 0.0290, Accuracy: 56.85%\n",
            "Epoch 14/30, Loss: 0.0271, Accuracy: 60.43%\n",
            "Epoch 15/30, Loss: 0.0246, Accuracy: 63.84%\n",
            "Epoch 16/30, Loss: 0.0234, Accuracy: 66.61%\n",
            "Epoch 17/30, Loss: 0.0218, Accuracy: 69.11%\n",
            "Epoch 18/30, Loss: 0.0215, Accuracy: 70.63%\n",
            "Epoch 19/30, Loss: 0.0201, Accuracy: 71.47%\n",
            "Epoch 20/30, Loss: 0.0206, Accuracy: 73.11%\n",
            "Epoch 21/30, Loss: 0.0198, Accuracy: 73.41%\n",
            "Epoch 22/30, Loss: 0.0196, Accuracy: 74.92%\n",
            "Epoch 23/30, Loss: 0.0195, Accuracy: 74.93%\n",
            "Epoch 24/30, Loss: 0.0195, Accuracy: 74.95%\n",
            "Epoch 25/30, Loss: 0.0187, Accuracy: 77.23%\n",
            "Epoch 26/30, Loss: 0.0188, Accuracy: 77.47%\n",
            "Epoch 27/30, Loss: 0.0184, Accuracy: 78.46%\n",
            "Epoch 28/30, Loss: 0.0194, Accuracy: 78.02%\n",
            "Epoch 29/30, Loss: 0.0190, Accuracy: 78.31%\n",
            "Epoch 30/30, Loss: 0.0188, Accuracy: 79.17%\n",
            "100% Test Accuracy: 2.02%\n",
            "95% Test Accuracy: 60.40%\n",
            "90% Test Accuracy: 92.63%\n",
            "75% Test Accuracy: 100.00%\n"
          ]
        }
      ]
    },
    {
      "cell_type": "markdown",
      "source": [
        "Train time: 1 min 5 seconds"
      ],
      "metadata": {
        "id": "Gp1tIq3kW-qe"
      }
    },
    {
      "cell_type": "code",
      "source": [
        "# Plot Accuracy\n",
        "plt.plot(train_accuracies)\n",
        "plt.title('Training Accuracy: Trained on All Forgettable Data')\n",
        "plt.xlabel('Epoch')\n",
        "plt.ylabel('Accuracy (%)')\n",
        "\n",
        "plt.show()"
      ],
      "metadata": {
        "colab": {
          "base_uri": "https://localhost:8080/",
          "height": 472
        },
        "id": "p7B0cwirW1w0",
        "outputId": "b4da6a03-0feb-4d70-c5a0-8099f3fad8ef"
      },
      "execution_count": null,
      "outputs": [
        {
          "output_type": "display_data",
          "data": {
            "text/plain": [
              "<Figure size 640x480 with 1 Axes>"
            ],
            "image/png": "[encoded data removed]"
          },
          "metadata": {}
        }
      ]
    },
    {
      "cell_type": "code",
      "source": [
        "len(forgettable__5)"
      ],
      "metadata": {
        "colab": {
          "base_uri": "https://localhost:8080/"
        },
        "id": "6LXthbQVXTrP",
        "outputId": "948bb526-bbc9-470c-ef60-639679359ed3"
      },
      "execution_count": null,
      "outputs": [
        {
          "output_type": "execute_result",
          "data": {
            "text/plain": [
              "1019"
            ]
          },
          "metadata": {},
          "execution_count": 162
        }
      ]
    },
    {
      "cell_type": "code",
      "source": [
        "vectorizer = TfidfVectorizer(max_features=2000)\n",
        "train_features = vectorizer.fit_transform([train_texts[i] for i in forgettable__5]).toarray()\n",
        "val_features = vectorizer.transform(val_texts).toarray()\n",
        "test_features = vectorizer.transform(test_texts).toarray()\n",
        "\n",
        "# Convert to tensors\n",
        "train_features_tensor = torch.tensor(train_features, dtype=torch.float32)\n",
        "val_features_tensor = torch.tensor(val_features, dtype=torch.float32)\n",
        "test_features_tensor = torch.tensor(test_features, dtype=torch.float32)\n",
        "#train model\n",
        "\n",
        "class IMDBDataset(Dataset):\n",
        "    def __init__(self, features, labels):\n",
        "        self.features = features\n",
        "        self.labels = labels\n",
        "\n",
        "    def __len__(self):\n",
        "        return len(self.features)\n",
        "\n",
        "    def __getitem__(self, idx):\n",
        "        return self.features[idx], self.labels[idx]\n",
        "\n",
        "# Create datasets\n",
        "train_dataset = IMDBDataset(train_features_tensor, train_labels)\n",
        "val_dataset = IMDBDataset(val_features_tensor, val_labels)\n",
        "test_dataset = IMDBDataset(test_features_tensor, test_labels)\n",
        "\n",
        "# Create dataloaders\n",
        "train_loader = DataLoader(train_dataset, batch_size=32, shuffle=False)\n",
        "val_loader = DataLoader(val_dataset, batch_size=32)\n",
        "test_loader = DataLoader(test_dataset, batch_size=32)\n"
      ],
      "metadata": {
        "id": "mzGL4hfEXUgF"
      },
      "execution_count": null,
      "outputs": []
    },
    {
      "cell_type": "code",
      "source": [
        "T, acc, train_accuracies, train_losses = train_and_count_forgetting_events(30)\n",
        "test_accuracy(model)"
      ],
      "metadata": {
        "colab": {
          "base_uri": "https://localhost:8080/"
        },
        "id": "grLbq0JaXkz7",
        "outputId": "93fc6239-56e3-4f79-fae3-6de13e8a4044"
      },
      "execution_count": null,
      "outputs": [
        {
          "output_type": "stream",
          "name": "stdout",
          "text": [
            "Epoch 1/30, Loss: 0.2074, Accuracy: 0.98%\n",
            "Epoch 2/30, Loss: 0.1434, Accuracy: 0.20%\n",
            "Epoch 3/30, Loss: 0.1313, Accuracy: 1.57%\n",
            "Epoch 4/30, Loss: 0.1187, Accuracy: 5.50%\n",
            "Epoch 5/30, Loss: 0.1009, Accuracy: 11.78%\n",
            "Epoch 6/30, Loss: 0.0811, Accuracy: 20.90%\n",
            "Epoch 7/30, Loss: 0.0631, Accuracy: 28.95%\n",
            "Epoch 8/30, Loss: 0.0503, Accuracy: 34.45%\n",
            "Epoch 9/30, Loss: 0.0407, Accuracy: 43.96%\n",
            "Epoch 10/30, Loss: 0.0339, Accuracy: 48.58%\n",
            "Epoch 11/30, Loss: 0.0348, Accuracy: 52.01%\n",
            "Epoch 12/30, Loss: 0.0247, Accuracy: 63.00%\n",
            "Epoch 13/30, Loss: 0.0163, Accuracy: 81.26%\n",
            "Epoch 14/30, Loss: 0.0118, Accuracy: 90.38%\n",
            "Epoch 15/30, Loss: 0.0104, Accuracy: 91.36%\n",
            "Epoch 16/30, Loss: 0.0099, Accuracy: 92.05%\n",
            "Epoch 17/30, Loss: 0.0098, Accuracy: 92.44%\n",
            "Epoch 18/30, Loss: 0.0098, Accuracy: 92.44%\n",
            "Epoch 19/30, Loss: 0.0104, Accuracy: 92.25%\n",
            "Epoch 20/30, Loss: 0.0090, Accuracy: 92.54%\n",
            "Epoch 21/30, Loss: 0.0088, Accuracy: 92.93%\n",
            "Epoch 22/30, Loss: 0.0082, Accuracy: 93.03%\n",
            "Epoch 23/30, Loss: 0.0074, Accuracy: 93.72%\n",
            "Epoch 24/30, Loss: 0.0082, Accuracy: 93.33%\n",
            "Epoch 25/30, Loss: 0.0075, Accuracy: 93.72%\n",
            "Epoch 26/30, Loss: 0.0077, Accuracy: 93.33%\n",
            "Epoch 27/30, Loss: 0.0078, Accuracy: 93.42%\n",
            "Epoch 28/30, Loss: 0.0078, Accuracy: 93.33%\n",
            "Epoch 29/30, Loss: 0.0075, Accuracy: 93.52%\n",
            "Epoch 30/30, Loss: 0.0077, Accuracy: 93.72%\n",
            "100% Test Accuracy: 1.57%\n",
            "95% Test Accuracy: 50.38%\n",
            "90% Test Accuracy: 91.87%\n",
            "75% Test Accuracy: 100.00%\n"
          ]
        }
      ]
    },
    {
      "cell_type": "code",
      "source": [
        "# Plot Accuracy\n",
        "plt.plot(train_accuracies)\n",
        "plt.title('Training Accuracy: Trained on Data With Forgetting Count > 5')\n",
        "plt.xlabel('Epoch')\n",
        "plt.ylabel('Accuracy (%)')\n",
        "\n",
        "plt.show()"
      ],
      "metadata": {
        "colab": {
          "base_uri": "https://localhost:8080/",
          "height": 472
        },
        "id": "G6GGmd77XYhD",
        "outputId": "c94f6b9a-e422-4584-fb3c-4c910ca9a790"
      },
      "execution_count": null,
      "outputs": [
        {
          "output_type": "display_data",
          "data": {
            "text/plain": [
              "<Figure size 640x480 with 1 Axes>"
            ],
            "image/png": "[encoded data removed]"
          },
          "metadata": {}
        }
      ]
    },
    {
      "cell_type": "markdown",
      "metadata": {
        "id": "bp6Rn6hBy20W"
      },
      "source": [
        "#Experiment: Forgetting by Chance"
      ]
    },
    {
      "cell_type": "code",
      "execution_count": null,
      "metadata": {
        "id": "Yj9hWcpUGSC_"
      },
      "outputs": [],
      "source": [
        "import copy\n",
        "import random"
      ]
    },
    {
      "cell_type": "code",
      "execution_count": null,
      "metadata": {
        "id": "8lhQ2WiKGUUq"
      },
      "outputs": [],
      "source": [
        "#initialize models with the same random weights\n",
        "torch.manual_seed(424)\n",
        "random.seed(424)\n",
        "base_model = Classifier(13848, 71, labels.shape[1])\n",
        "random_update_model = copy.deepcopy(base_model)\n",
        "for param in random_update_model.parameters():\n",
        "  param.requires_grad = False"
      ]
    },
    {
      "cell_type": "code",
      "execution_count": null,
      "metadata": {
        "id": "tpv3yr3IUnx-"
      },
      "outputs": [],
      "source": [
        "def update_shuffled_gradients(base_model, random_update_model, device, lr = 0.01):\n",
        "  parameter_shapes = []\n",
        "  parameter_index_locations = []\n",
        "  total_num_gradients = 0\n",
        "  for param in base_model.parameters():\n",
        "    parameter_shapes.append(param.grad.shape)\n",
        "    parameter_index_locations.append((total_num_gradients, total_num_gradients + torch.numel(param.grad)))\n",
        "    total_num_gradients += torch.numel(param.grad)\n",
        "  gradients = torch.empty(total_num_gradients)\n",
        "  gradients = gradients.to(device)\n",
        "  for param in base_model.parameters():\n",
        "    gradients = torch.cat((gradients, torch.flatten(param.grad)))\n",
        "  random_indices = torch.randperm(total_num_gradients)\n",
        "  gradients = gradients[random_indices]\n",
        "  current_param_index = 0\n",
        "  for param in random_update_model.parameters():\n",
        "    if current_param_index < len(parameter_shapes) - 1:\n",
        "      gradient_data = gradients[parameter_index_locations[current_param_index][0]:\\\n",
        "                                parameter_index_locations[current_param_index][1]]\n",
        "    else:\n",
        "      gradient_data = gradients[parameter_index_locations[current_param_index][0]:]\n",
        "    param -= lr * torch.reshape(gradient_data, parameter_shapes[current_param_index])\n",
        "    current_param_index += 1"
      ]
    },
    {
      "cell_type": "code",
      "execution_count": null,
      "metadata": {
        "id": "6eqi0hXvGZqW"
      },
      "outputs": [],
      "source": [
        "#training function for base_model and random_update_model\n",
        "\n",
        "def train_random_updates(base_model, random_update_model, num_epochs, device):\n",
        "  # Initialize lists to store metrics\n",
        "  base_model_losses = []\n",
        "  base_model_accuracies = []\n",
        "  random_model_accuracies = []\n",
        "\n",
        "  # Move to appropriate device\n",
        "  base_model.to(device)\n",
        "  random_update_model.to(device)\n",
        "\n",
        "  # Define optimizer and loss\n",
        "  criterion = nn.BCEWithLogitsLoss()\n",
        "  optimizer = optim.Adam(base_model.parameters(), lr=0.01)\n",
        "\n",
        "  # Number of training samples\n",
        "  n = len(train_dataset)\n",
        "\n",
        "  # Initialize acc and T arrays\n",
        "  acc_base = np.zeros(n, dtype=int)  # 0 = misclassified, 1 = correctly classified\n",
        "  acc_random = np.zeros(n, dtype=int)\n",
        "  T_base = np.zeros(n, dtype=int)     # count forgetting events\n",
        "  T_random = np.zeros(n, dtype=int)\n",
        "\n",
        "  # Training loop\n",
        "  for epoch in range(num_epochs):\n",
        "      base_model.train()\n",
        "      total_loss = 0\n",
        "      correct_preds_base = 0\n",
        "      correct_preds_random = 0\n",
        "      total_samples = 0\n",
        "\n",
        "      for batch_idx, (features, labels) in enumerate(train_loader):\n",
        "          features, labels = features.to(device), labels.to(device)  # Move to GPU or CPU\n",
        "          batch_size = features.size(0)\n",
        "          batch_start = batch_idx * batch_size\n",
        "          batch_indices = np.arange(batch_start, batch_start + batch_size)\n",
        "\n",
        "          optimizer.zero_grad()\n",
        "          outputs_base = base_model(features)\n",
        "          outputs_random = random_update_model(features)\n",
        "\n",
        "          # Calculate loss\n",
        "          loss = criterion(outputs_base, labels)\n",
        "          loss.backward()\n",
        "          # Update random_update model with shuffled gradients\n",
        "          update_shuffled_gradients(base_model, random_update_model, device)\n",
        "          optimizer.step()\n",
        "\n",
        "          total_loss += loss.item()\n",
        "\n",
        "          # Predictions and misclassification tracking\n",
        "          predicted_base = (torch.sigmoid(outputs_base) > 0.5).int()  # Multi-label classification\n",
        "          predicted_random = (torch.sigmoid(outputs_random) > 0.5).int()\n",
        "          correct_base = (predicted_base == labels).int()\n",
        "          correct_random = (predicted_random == labels).int()\n",
        "\n",
        "          for i, idx in enumerate(batch_indices):\n",
        "              if acc_base[idx] == 1 and correct_base[i].sum().item() < labels.size(1):  # If went from correct -> incorrect\n",
        "                  T_base[idx] += 1\n",
        "              if acc_random[idx] == 1 and correct_random[i].sum().item() < labels.size(1):\n",
        "                  T_random[idx] += 1\n",
        "              acc_base[idx] = int(correct_base[i].sum().item() == labels.size(1))  # 1 if all labels correct, else 0\n",
        "              acc_random[idx] = int(correct_random[i].sum().item() == labels.size(1))\n",
        "\n",
        "          # Calculate accuracy for multi-label classification with a 90% threshold\n",
        "          #correct_preds_batch = (correct_base.sum(dim=1) >= (labels.size(1) * 1)).sum().item()  # At least 90% of labels correct_base\n",
        "          #correct_preds += correct_preds_batch\n",
        "          #total_samples += labels.size(0)\n",
        "\n",
        "          correct_preds_batch_base = (predicted_base == labels).sum(dim = 1)  # For each sample in the batch\n",
        "          correct_preds_batch_random = (predicted_random == labels).sum(dim = 1)\n",
        "\n",
        "          # Check if at least 95% of genres are predicted correctly for each sample\n",
        "          correct_preds_base += (correct_preds_batch_base >= (labels.size(1) * 1)).sum().item()  # At least 90% of genres predicted correctly\n",
        "          correct_preds_random += (correct_preds_batch_random >= (labels.size(1) * 1)).sum().item()\n",
        "\n",
        "          total_samples += labels.size(0)  # Total number of samples in batch (not total genres)\n",
        "\n",
        "      base_model_loss = total_loss / len(train_loader)\n",
        "      base_accuracy = correct_preds_base / total_samples * 100\n",
        "      random_accuracy = correct_preds_random / total_samples * 100\n",
        "\n",
        "      # Append the metrics to lists\n",
        "      base_model_losses.append(base_model_loss)\n",
        "      base_model_accuracies.append(base_accuracy)\n",
        "      random_model_accuracies.append(random_accuracy)\n",
        "\n",
        "      print(f\"Epoch {epoch+1}/{num_epochs}, Loss: {base_model_loss:.4f}, Base Accuracy: {base_accuracy:.2f}%, Random Accuracy: {random_accuracy:.2f}%\")\n",
        "\n",
        "  print(\"Training complete!\")\n",
        "  print(\"Forgetting counts (T_base):\", T_base)\n",
        "  print(\"Forgetting counts (T_random):\", T_random)\n",
        "  print(\"Final classification status (acc_base):\", acc_base)\n",
        "  print(\"Final classification status (acc_random):\", acc_random)\n",
        "  return base_model_losses, base_model_accuracies, random_model_accuracies, T_base, T_random\n"
      ]
    },
    {
      "cell_type": "code",
      "execution_count": null,
      "metadata": {
        "colab": {
          "base_uri": "https://localhost:8080/"
        },
        "id": "7bMewglZoiDs",
        "outputId": "28afb2ba-e186-4868-cdaa-4337e48dcd38"
      },
      "outputs": [
        {
          "output_type": "stream",
          "name": "stdout",
          "text": [
            "Epoch 1/30, Loss: 0.1541, Base Accuracy: 1.20%, Random Accuracy: 0.00%\n",
            "Epoch 2/30, Loss: 0.1232, Base Accuracy: 5.38%, Random Accuracy: 0.00%\n",
            "Epoch 3/30, Loss: 0.1090, Base Accuracy: 8.72%, Random Accuracy: 0.00%\n",
            "Epoch 4/30, Loss: 0.0976, Base Accuracy: 12.11%, Random Accuracy: 0.00%\n",
            "Epoch 5/30, Loss: 0.0871, Base Accuracy: 16.64%, Random Accuracy: 0.00%\n",
            "Epoch 6/30, Loss: 0.0783, Base Accuracy: 21.36%, Random Accuracy: 0.00%\n",
            "Epoch 7/30, Loss: 0.0714, Base Accuracy: 24.44%, Random Accuracy: 0.00%\n",
            "Epoch 8/30, Loss: 0.0660, Base Accuracy: 29.66%, Random Accuracy: 0.00%\n",
            "Epoch 9/30, Loss: 0.0622, Base Accuracy: 33.12%, Random Accuracy: 0.00%\n",
            "Epoch 10/30, Loss: 0.0593, Base Accuracy: 35.46%, Random Accuracy: 0.00%\n",
            "Epoch 11/30, Loss: 0.0565, Base Accuracy: 38.65%, Random Accuracy: 0.00%\n",
            "Epoch 12/30, Loss: 0.0550, Base Accuracy: 40.11%, Random Accuracy: 0.00%\n",
            "Epoch 13/30, Loss: 0.0533, Base Accuracy: 41.75%, Random Accuracy: 0.00%\n",
            "Epoch 14/30, Loss: 0.0526, Base Accuracy: 43.16%, Random Accuracy: 0.00%\n",
            "Epoch 15/30, Loss: 0.0515, Base Accuracy: 43.68%, Random Accuracy: 0.00%\n",
            "Epoch 16/30, Loss: 0.0500, Base Accuracy: 45.83%, Random Accuracy: 0.00%\n",
            "Epoch 17/30, Loss: 0.0495, Base Accuracy: 46.18%, Random Accuracy: 0.00%\n",
            "Epoch 18/30, Loss: 0.0485, Base Accuracy: 47.65%, Random Accuracy: 0.00%\n",
            "Epoch 19/30, Loss: 0.0484, Base Accuracy: 47.63%, Random Accuracy: 0.00%\n",
            "Epoch 20/30, Loss: 0.0476, Base Accuracy: 48.86%, Random Accuracy: 0.00%\n",
            "Epoch 21/30, Loss: 0.0471, Base Accuracy: 49.31%, Random Accuracy: 0.00%\n",
            "Epoch 22/30, Loss: 0.0467, Base Accuracy: 49.87%, Random Accuracy: 0.00%\n",
            "Epoch 23/30, Loss: 0.0467, Base Accuracy: 50.16%, Random Accuracy: 0.00%\n",
            "Epoch 24/30, Loss: 0.0453, Base Accuracy: 51.16%, Random Accuracy: 0.00%\n",
            "Epoch 25/30, Loss: 0.0453, Base Accuracy: 51.75%, Random Accuracy: 0.00%\n",
            "Epoch 26/30, Loss: 0.0449, Base Accuracy: 51.58%, Random Accuracy: 0.00%\n",
            "Epoch 27/30, Loss: 0.0451, Base Accuracy: 52.04%, Random Accuracy: 0.00%\n",
            "Epoch 28/30, Loss: 0.0448, Base Accuracy: 52.44%, Random Accuracy: 0.00%\n",
            "Epoch 29/30, Loss: 0.0443, Base Accuracy: 52.51%, Random Accuracy: 0.00%\n",
            "Epoch 30/30, Loss: 0.0443, Base Accuracy: 52.69%, Random Accuracy: 0.00%\n",
            "Training complete!\n",
            "Forgetting counts (T_base): [0 6 4 ... 0 0 0]\n",
            "Forgetting counts (T_random): [0 0 0 ... 0 0 0]\n",
            "Final classification status (acc_base): [0 0 1 ... 0 0 0]\n",
            "Final classification status (acc_random): [0 0 0 ... 0 0 0]\n"
          ]
        }
      ],
      "source": [
        "base_model_losses, base_model_accuracies, random_model_accuracies, \\\n",
        "T_base, T_random = train_random_updates(base_model, random_update_model, 30, \"cuda\")"
      ]
    },
    {
      "cell_type": "code",
      "source": [
        "max(random_model_accuracies)"
      ],
      "metadata": {
        "colab": {
          "base_uri": "https://localhost:8080/"
        },
        "id": "PGJC4KaRkyjt",
        "outputId": "96e8d0d6-9e12-4c75-d43d-c903a71003c3"
      },
      "execution_count": null,
      "outputs": [
        {
          "output_type": "execute_result",
          "data": {
            "text/plain": [
              "0.0"
            ]
          },
          "metadata": {},
          "execution_count": 19
        }
      ]
    },
    {
      "cell_type": "code",
      "execution_count": null,
      "metadata": {
        "colab": {
          "base_uri": "https://localhost:8080/",
          "height": 476
        },
        "outputId": "37f286d2-af48-43df-a152-423ae80778b0",
        "id": "m9B6VZNduoAp"
      },
      "outputs": [
        {
          "output_type": "display_data",
          "data": {
            "text/plain": [
              "<Figure size 640x480 with 1 Axes>"
            ],
            "image/png": "[encoded data removed]"
          },
          "metadata": {}
        }
      ],
      "source": [
        "# Count how many points were forgotten 0, 1, 2, ... times\n",
        "unique_T_base, counts_base = np.unique(T_base, return_counts=True)\n",
        "\n",
        "# Plot histogram of how many points were forgotten 1, 2, ... times\n",
        "#plt.figure(figsize=(8, 5))\n",
        "plt.bar(unique_T_base, counts_base, color='mediumturquoise', edgecolor='black')\n",
        "plt.title('Histogram of Number Forgetting Events for Base Model',fontsize=12, wrap=True)\n",
        "plt.xlabel('Forgetting Events',fontsize=12)\n",
        "plt.ylabel('Number of Data Points',fontsize=12)\n",
        "#plt.xticks(unique_T_base)  # Ensure all unique counts_base are labeled\n",
        "plt.grid(True)\n",
        "plt.show()\n"
      ]
    },
    {
      "cell_type": "code",
      "execution_count": null,
      "metadata": {
        "colab": {
          "base_uri": "https://localhost:8080/",
          "height": 476
        },
        "outputId": "38ae00eb-41c9-4a50-fc3e-aa676f4e2621",
        "id": "SfbHiX_6w-X1"
      },
      "outputs": [
        {
          "output_type": "display_data",
          "data": {
            "text/plain": [
              "<Figure size 640x480 with 1 Axes>"
            ],
            "image/png": "[encoded data removed]"
          },
          "metadata": {}
        }
      ],
      "source": [
        "# Count how many points were forgotten 0, 1, 2, ... times\n",
        "unique_T_random, counts_random = np.unique(T_random, return_counts=True)\n",
        "\n",
        "# Plot histogram of how many points were forgotten 1, 2, ... times\n",
        "#plt.figure(figsize=(8, 5))\n",
        "plt.bar(unique_T_random, counts_random, color='orange', edgecolor='black')\n",
        "plt.title('Histogram of Number Forgetting Events for Random Update Model',fontsize=12, wrap=True)\n",
        "plt.xlabel('Forgetting Events',fontsize=12)\n",
        "plt.ylabel('Number of Data Points',fontsize=12)\n",
        "plt.xlim(0, 25)\n",
        "#plt.xticks(unique_T_random)  # Ensure all unique counts_random are labeled\n",
        "plt.grid(True)\n",
        "plt.show()\n"
      ]
    },
    {
      "cell_type": "markdown",
      "metadata": {
        "id": "2yNb3M7kzTjF"
      },
      "source": [
        "# Experiment: visual inspection"
      ]
    },
    {
      "cell_type": "code",
      "execution_count": null,
      "metadata": {
        "colab": {
          "base_uri": "https://localhost:8080/"
        },
        "id": "MJFWDaQnmy2X",
        "outputId": "d34d9635-e21b-49c2-fc8a-ea57a9a1a2c3"
      },
      "outputs": [
        {
          "name": "stdout",
          "output_type": "stream",
          "text": [
            "['atmospheric', 'cult', 'gothic', 'horror', 'murder']\n"
          ]
        }
      ],
      "source": [
        "genre_columns = df.columns[4:]\n",
        "\n",
        "first_row_labels = df.iloc[0, 4:]  # Extract as a pandas Series\n",
        "\n",
        "# Get column names where the value is 1\n",
        "selected_genres = genre_columns[first_row_labels == 1].tolist()\n",
        "\n",
        "print(selected_genres)\n"
      ]
    },
    {
      "cell_type": "markdown",
      "metadata": {
        "id": "ntMh8FSdtqb0"
      },
      "source": [
        "## Check single datapoint by index, predicted label vs true label"
      ]
    },
    {
      "cell_type": "code",
      "execution_count": null,
      "metadata": {
        "id": "uymeyi8xI1MV"
      },
      "outputs": [],
      "source": [
        "def predict(index):\n",
        "  device = torch.device(\"cuda\" if torch.cuda.is_available() else \"cpu\")\n",
        "\n",
        "  # Index of data point\n",
        "  index = i\n",
        "\n",
        "  # Get the text input and output\n",
        "  sample_text = df.iloc[index]['plot_synopsis']\n",
        "  actual_labels = df.iloc[index, 4:].values  # Extract actual genre labels\n",
        "\n",
        "  sample_vector = vectorizer.transform([sample_text]).toarray()\n",
        "  sample_tensor = torch.tensor(sample_vector, dtype=torch.float32)\n",
        "\n",
        "  sample_tensor = sample_tensor.to(device) # set the data point to GPU\n",
        "\n",
        "  model.eval()\n",
        "  with torch.no_grad():\n",
        "      predicted_output = model(sample_tensor)\n",
        "\n",
        "  # Correct predictions\n",
        "  predicted_labels = (predicted_output.cpu().numpy() > 0.5).astype(int)[0]  # Move to CPU before using numpy\n",
        "\n",
        "  # Index the predicted genres\n",
        "  genre_columns = df.columns[4:]  # Get genre column names\n",
        "  actual_genres = genre_columns[actual_labels == 1].tolist()\n",
        "  predicted_genres = genre_columns[predicted_labels == 1].tolist()\n",
        "\n",
        "  print(\"\\ntext input:\", sample_text)\n",
        "  print(\"actual genres---\", actual_genres)\n",
        "  print(\"predicted genres\", predicted_genres)\n"
      ]
    },
    {
      "cell_type": "code",
      "execution_count": null,
      "metadata": {
        "id": "W6liConzTMJA"
      },
      "outputs": [],
      "source": [
        "predict(0)"
      ]
    },
    {
      "cell_type": "markdown",
      "metadata": {
        "id": "1dbj768Xt2kv"
      },
      "source": [
        "## Print out first 100 predictions/true labels"
      ]
    },
    {
      "cell_type": "markdown",
      "metadata": {
        "id": "aBXzWpI45JmG"
      },
      "source": [
        "## Most forgotten example:\n",
        "The training loop was run for 10 epochs, so the max possible number of forgetting events is 10."
      ]
    },
    {
      "cell_type": "code",
      "execution_count": null,
      "metadata": {
        "id": "52iyn5_y4eV3"
      },
      "outputs": [],
      "source": [
        "# Find the indices of the most and least forgotten samples\n",
        "most_forgotten = np.argmax(T)\n",
        "least_forgotten = np.argmin(T)\n",
        "\n",
        "# Print out the most forgotten and least forgotten examples\n",
        "print(\"Most forgotten example:\")\n",
        "predict(most_forgotten)\n",
        "\n",
        "print(\"Least forgotten example: \")\n",
        "predict(least_forgotten)\n",
        "\n"
      ]
    },
    {
      "cell_type": "markdown",
      "metadata": {
        "id": "Qs4jsCSx4nKw"
      },
      "source": [
        "### Prediction for most forgotten example:\n",
        "- very few data points were forgotten this many times, as seen in the graph in the training section"
      ]
    },
    {
      "cell_type": "markdown",
      "metadata": {
        "id": "iLsydj1y4th4"
      },
      "source": [
        "### Prediction for least forgotten example:"
      ]
    },
    {
      "cell_type": "markdown",
      "metadata": {
        "id": "HWOCrkCK6Nsa"
      },
      "source": [
        "Explore more data points that were forgotten 9 times."
      ]
    },
    {
      "cell_type": "markdown",
      "metadata": {
        "id": "QynkesqO7LrF"
      },
      "source": [
        "Explore more data points that were forgotten 8 times."
      ]
    },
    {
      "cell_type": "code",
      "execution_count": null,
      "metadata": {
        "id": "V0Qwdeyl7JC_"
      },
      "outputs": [],
      "source": [
        "# Get all indices where T is equal to the maximum and minimum values\n",
        "idx = np.where(T == 8)[0]  # Indices with the maximum forgetting events\n",
        "\n",
        "count = 0\n",
        "# Print out the most forgotten and least forgotten examples\n",
        "print(\"Most Forgotten Examples:\")\n",
        "for idx in most_forgotten_idx:\n",
        "    print(\"Index \", idx, \"Forget count \", T[idx])\n",
        "    count += 1\n",
        "    if count > 5:\n",
        "      break\n",
        "\n"
      ]
    },
    {
      "cell_type": "markdown",
      "metadata": {
        "id": "u8aiEXv07dhb"
      },
      "source": [
        "3 exmaples forgotten 5 times:"
      ]
    },
    {
      "cell_type": "code",
      "execution_count": null,
      "metadata": {
        "id": "aGYJJsz-7bTG"
      },
      "outputs": [],
      "source": [
        "# Get all indices where T is equal to the maximum and minimum values\n",
        "idx = np.where(T == 5)[0]\n",
        "\n",
        "count = 0\n",
        "# Print out the most forgotten and least forgotten examples\n",
        "print(\"Most Forgotten Examples:\")\n",
        "for idx in most_forgotten_idx:\n",
        "    print(\"Index \", idx, \"Forget count \", T[idx])\n",
        "    count += 1\n",
        "    if count > 5:\n",
        "      break\n",
        "\n"
      ]
    },
    {
      "cell_type": "code",
      "execution_count": null,
      "metadata": {
        "id": "0mi4K_oG7fGz"
      },
      "outputs": [],
      "source": [
        "for i in [3819,8160,9923]:\n",
        "\n",
        "  predict(i)\n"
      ]
    },
    {
      "cell_type": "markdown",
      "metadata": {
        "id": "eXFY355R7vzf"
      },
      "source": [
        "Inspect some examples that were never forgotten:"
      ]
    },
    {
      "cell_type": "code",
      "execution_count": null,
      "metadata": {
        "id": "Z0sWMX1B7wYb"
      },
      "outputs": [],
      "source": [
        "# Get all indices where T is equal to the maximum and minimum values\n",
        "idx = np.where(T == 0)[0]  # Indices with the maximum forgetting events\n",
        "\n",
        "count = 0\n",
        "# Print out the most forgotten and least forgotten examples\n",
        "print(\"Most Forgotten Examples:\")\n",
        "for idx in most_forgotten_idx:\n",
        "    print(\"Index \", idx, \"Forget count \", T[idx])\n",
        "    count += 1\n",
        "    if count > 5:\n",
        "      break\n",
        "\n"
      ]
    },
    {
      "cell_type": "markdown",
      "metadata": {
        "id": "i10mH0hF3ke_"
      },
      "source": [
        "# Experiment: Graphs for Visualizing Metrics"
      ]
    },
    {
      "cell_type": "code",
      "execution_count": null,
      "metadata": {
        "id": "IH6LzlKv792z"
      },
      "outputs": [],
      "source": [
        "for num_forgets in range(T.max() + 1):\n",
        "  print(f\"One example was forgotten {num_forgets} times: {np.isin(num_forgets, T)}\")"
      ]
    },
    {
      "cell_type": "code",
      "execution_count": null,
      "metadata": {
        "id": "rs0tZ5V05TZ-"
      },
      "outputs": [],
      "source": [
        "#Graph avg description length vs num forgetting events\n",
        "num_forgets_set = [0, 1, 2, 3, 4, 5, 7, 9, 10]\n",
        "\n",
        "def get_avg_length_forgets(num_forgets_set):\n",
        "  avg_synopsis_length = []\n",
        "  for num_forgets in num_forgets_set:\n",
        "    id_movies = np.where(T == num_forgets)[0]\n",
        "    movies_synopses = df.loc[id_movies, \"plot_synopsis\"]\n",
        "    movies_synopsis_length = movies_synopses.str.split(\" \").str.len()\n",
        "    avg_synopsis_length.append(np.mean(movies_synopsis_length))\n",
        "  return avg_synopsis_length\n",
        "\n",
        "get_avg_length_forgets(num_forgets_set)"
      ]
    },
    {
      "cell_type": "code",
      "execution_count": null,
      "metadata": {
        "id": "4XTRub-fHK8k"
      },
      "outputs": [],
      "source": [
        "plt.figure()\n",
        "plt.bar(num_forgets_set, get_avg_length_forgets(num_forgets_set))\n",
        "plt.title(\"Avg Num Words vs. Num Forgetting Events\")\n",
        "plt.xlabel(\"Number of forgetting events\")\n",
        "plt.ylabel(\"Avg Num Words\")\n",
        "plt.xticks(num_forgets_set)\n",
        "plt.grid(True)\n",
        "plt.show()"
      ]
    },
    {
      "cell_type": "code",
      "execution_count": null,
      "metadata": {
        "id": "4cHzC0fcG-Em"
      },
      "outputs": [],
      "source": [
        "from wordcloud import WordCloud\n",
        "import matplotlib.pyplot as plt\n",
        "\n",
        "wordcloud_args = dict(\n",
        "    width=1000,\n",
        "    height=800,\n",
        "    background_color='white',\n",
        "    min_font_size=10\n",
        ")\n",
        "\n",
        "def plotWordCloud(dictionary, **kwargs):\n",
        "    wordcloud = WordCloud(**kwargs)\n",
        "    wordcloud.generate_from_frequencies(dictionary)\n",
        "    plt.figure(figsize=(10, 8))\n",
        "    plt.imshow(wordcloud, interpolation=\"bilinear\")\n",
        "    plt.axis(\"off\")\n",
        "    plt.show()\n",
        "\n",
        "# Number of examples to use\n",
        "num_examples = 30\n",
        "\n",
        "# Function to get a 5-word snippet from a synopsis\n",
        "def get_five_word_snippet(text):\n",
        "    words = text.split()\n",
        "    if len(words) < 5:\n",
        "        return text.strip()\n",
        "    return \" \".join(words[:5])\n",
        "\n",
        "# Most forgotten\n",
        "most_idxs = np.argsort(-T)[:num_examples]\n",
        "most_dict = {}\n",
        "for idx in most_idxs:\n",
        "    snippet = get_five_word_snippet(df.loc[idx, \"plot_synopsis\"])\n",
        "    if snippet in most_dict:\n",
        "        snippet += f\" ({idx})\"  # Ensure uniqueness if duplicate snippet\n",
        "    most_dict[snippet] = T[idx]\n",
        "\n",
        "print(\"🔴 Word Cloud for MOST Forgotten Examples\")\n",
        "plotWordCloud(most_dict, **wordcloud_args)\n",
        "\n",
        "# Least forgotten (invert size: smallest T should be largest)\n",
        "least_idxs = np.argsort(T)[:num_examples]\n",
        "least_dict = {}\n",
        "for i, idx in enumerate(least_idxs):\n",
        "    snippet = get_five_word_snippet(df.loc[idx, \"plot_synopsis\"])\n",
        "    if snippet in least_dict:\n",
        "        snippet += f\" ({idx})\"\n",
        "    least_dict[snippet] = num_examples - i  # Inverse rank for size\n",
        "\n",
        "print(\"🟢 Word Cloud for LEAST Forgotten Examples\")\n",
        "plotWordCloud(least_dict, **wordcloud_args)"
      ]
    },
    {
      "cell_type": "code",
      "execution_count": null,
      "metadata": {
        "id": "DCFa3ez4JKp0"
      },
      "outputs": [],
      "source": [
        "# ----------------------------\n",
        "# PMI Word Analysis for Most vs Least Forgotten Examples\n",
        "# ----------------------------\n",
        "from collections import Counter\n",
        "import re\n",
        "import math\n",
        "from sklearn.feature_extraction.text import CountVectorizer\n",
        "\n",
        "# Helper: get tokens from text\n",
        "def tokenize(text):\n",
        "    return [word.lower() for word in re.findall(r'\\w+', text) if len(word) > 2]\n",
        "\n",
        "# Get top indices\n",
        "num_examples = 50\n",
        "most_forgotten_idxs = np.argsort(-T)[:num_examples]\n",
        "least_forgotten_idxs = np.argsort(T)[:num_examples]\n",
        "\n",
        "# Create DataFrame with labels\n",
        "df_pmi = pd.DataFrame({\n",
        "    'text': df['plot_synopsis'],\n",
        "    'label': ['forgotten' if i in most_forgotten_idxs else 'retained' if i in least_forgotten_idxs else None for i in range(len(df))]\n",
        "})\n",
        "df_pmi = df_pmi[df_pmi['label'].notnull()]\n",
        "\n",
        "# Tokenize text\n",
        "df_pmi['tokens'] = df_pmi['text'].apply(tokenize)\n",
        "\n",
        "# Count word frequencies\n",
        "def count_words(token_lists):\n",
        "    counter = Counter()\n",
        "    for tokens in token_lists:\n",
        "        counter.update(tokens)\n",
        "    return counter\n",
        "\n",
        "forgotten_counts = count_words(df_pmi[df_pmi['label'] == 'forgotten']['tokens'])\n",
        "retained_counts = count_words(df_pmi[df_pmi['label'] == 'retained']['tokens'])\n",
        "total_counts = forgotten_counts + retained_counts\n",
        "N = len(df_pmi)\n",
        "\n",
        "# PMI Calculation\n",
        "def compute_pmi(word, label, label_counts, total_counts, N_label, N_total):\n",
        "    px = N_label / N_total\n",
        "    py = total_counts[word] / N_total\n",
        "    pxy = label_counts[word] / N_total\n",
        "    if pxy == 0 or px == 0 or py == 0:\n",
        "        return 0\n",
        "    return math.log(pxy / (px * py))\n",
        "\n",
        "# Total number of samples per class\n",
        "N_forgotten = len(df_pmi[df_pmi['label'] == 'forgotten'])\n",
        "N_retained = len(df_pmi[df_pmi['label'] == 'retained'])\n",
        "\n",
        "# Compute PMI for top words in each group\n",
        "top_words = set(list(forgotten_counts.keys()) + list(retained_counts.keys()))\n",
        "pmi_forgotten = {}\n",
        "pmi_retained = {}\n",
        "\n",
        "for word in top_words:\n",
        "    pmi_forgotten[word] = compute_pmi(word, 'forgotten', forgotten_counts, total_counts, N_forgotten, N)\n",
        "    pmi_retained[word] = compute_pmi(word, 'retained', retained_counts, total_counts, N_retained, N)\n",
        "\n",
        "# Get top 50 PMI words\n",
        "top50_forgotten_pmi = dict(sorted(pmi_forgotten.items(), key=lambda x: x[1], reverse=True)[:50])\n",
        "top50_retained_pmi = dict(sorted(pmi_retained.items(), key=lambda x: x[1], reverse=True)[:50])\n",
        "\n",
        "# Plot\n",
        "print(\"🔴 Words Most Predictive of FORGOTTEN Examples (Top PMI)\")\n",
        "plotWordCloud(top50_forgotten_pmi, **wordcloud_args)\n",
        "\n",
        "print(\"🟢 Words Most Predictive of RETAINED Examples (Top PMI)\")\n",
        "plotWordCloud(top50_retained_pmi, **wordcloud_args)\n"
      ]
    },
    {
      "cell_type": "code",
      "execution_count": null,
      "metadata": {
        "id": "_5MDZdL9J7p8"
      },
      "outputs": [],
      "source": [
        "# check the current python version\n",
        "import sys\n",
        "print(sys.version)"
      ]
    },
    {
      "cell_type": "code",
      "execution_count": null,
      "metadata": {
        "id": "3ve2Y5zfRt5K"
      },
      "outputs": [],
      "source": [
        "# installing useful libraries\n",
        "!pip install folium\n",
        "!pip install tqdm\n",
        "!pip install numpy\n",
        "!pip install pandas\n",
        "!pip install nltk\n",
        "!pip install scikit-learn\n",
        "!pip install scipy\n",
        "!pip install geopy\n",
        "!pip install tabulate\n",
        "!pip install textblob\n",
        "!pip install spacy\n",
        "!python -m spacy download en_core_web_sm"
      ]
    },
    {
      "cell_type": "code",
      "execution_count": null,
      "metadata": {
        "id": "dGNB0ys5U03j"
      },
      "outputs": [],
      "source": [
        "import re\n",
        "import nltk\n",
        "import math\n",
        "from collections import Counter\n",
        "from nltk.chunk import RegexpParser\n",
        "from nltk.corpus import stopwords\n",
        "from nltk.stem import WordNetLemmatizer, PorterStemmer\n",
        "from nltk.tokenize import wordpunct_tokenize\n",
        "from nltk import pos_tag\n",
        "\n",
        "# Download necessary NLTK resources\n",
        "nltk.download(\"vader_lexicon\")\n",
        "nltk.download(\"stopwords\")\n",
        "nltk.download(\"averaged_perceptron_tagger_eng\")\n",
        "nltk.download(\"wordnet\")\n",
        "nltk.download(\"punkt\")\n",
        "\n",
        "# Define assignment-style grammar\n",
        "grammar = r\"\"\"\n",
        "  NP: {<DT|PP\\$>?<JJ>*<NN>}   # chunk: determiner/possessive + adjectives + noun\n",
        "\"\"\"\n",
        "chunker = RegexpParser(grammar)\n",
        "\n",
        "# Text processing tools\n",
        "lemmatizer = WordNetLemmatizer()\n",
        "stemmer = PorterStemmer()\n",
        "stopword_list = set(stopwords.words(\"english\"))\n",
        "\n",
        "# Normalize and filter words\n",
        "def normalize(word):\n",
        "    word = word.lower()\n",
        "    word = stemmer.stem(word)\n",
        "    word = lemmatizer.lemmatize(word)\n",
        "    return word\n",
        "\n",
        "def acceptable(word):\n",
        "    return len(word) > 2 and word.lower() not in stopword_list\n",
        "\n",
        "# Phrase extractor using safe pos_tag with lang='eng'\n",
        "def extract_np_phrases(text):\n",
        "    tokens = wordpunct_tokenize(text)\n",
        "    tagged = pos_tag(tokens, lang='eng')  # ← THIS avoids JSON/Pickle issues\n",
        "    tree = chunker.parse(tagged)\n",
        "    phrases = []\n",
        "    for subtree in tree.subtrees(lambda t: t.label() == 'NP'):\n",
        "        phrase = \" \".join(normalize(w) for w, t in subtree.leaves() if acceptable(w))\n",
        "        if len(phrase.split()) > 1:\n",
        "            phrases.append(phrase)\n",
        "    return phrases\n",
        "\n",
        "# Label examples (top 50 forgotten and retained)\n",
        "df_pmi_phrases = pd.DataFrame({\n",
        "    'text': df['plot_synopsis'],\n",
        "    'label': ['forgotten' if i in most_forgotten_idxs else 'retained' if i in least_forgotten_idxs else None for i in range(len(df))]\n",
        "})\n",
        "df_pmi_phrases = df_pmi_phrases[df_pmi_phrases['label'].notnull()]\n",
        "\n",
        "# Extract noun phrases from synopses\n",
        "df_pmi_phrases['phrases'] = df_pmi_phrases['text'].apply(extract_np_phrases)\n",
        "\n",
        "# Count phrase frequencies\n",
        "def count_phrases(phrases_series):\n",
        "    counter = Counter()\n",
        "    for phrases in phrases_series:\n",
        "        counter.update(phrases)\n",
        "    return counter\n",
        "\n",
        "phrases_forgotten = count_phrases(df_pmi_phrases[df_pmi_phrases['label'] == 'forgotten']['phrases'])\n",
        "phrases_retained = count_phrases(df_pmi_phrases[df_pmi_phrases['label'] == 'retained']['phrases'])\n",
        "phrases_total = phrases_forgotten + phrases_retained\n",
        "\n",
        "# PMI function\n",
        "def compute_pmi(phrase, label, label_counts, total_counts, N_label, N_total):\n",
        "    px = N_label / N_total\n",
        "    py = total_counts[phrase] / N_total\n",
        "    pxy = label_counts[phrase] / N_total\n",
        "    if px == 0 or py == 0:\n",
        "        return 0\n",
        "    if pxy == 0:\n",
        "        return math.log((pxy + 0.0001) / (px * py))\n",
        "    return math.log(pxy / (px * py))\n",
        "\n",
        "# PMI calculations\n",
        "N_total = len(df_pmi_phrases)\n",
        "N_forgotten = sum(df_pmi_phrases['label'] == 'forgotten')\n",
        "N_retained = sum(df_pmi_phrases['label'] == 'retained')\n",
        "all_phrases = set(list(phrases_forgotten.keys()) + list(phrases_retained.keys()))\n",
        "\n",
        "pmi_forgotten = {}\n",
        "pmi_retained = {}\n",
        "\n",
        "for phrase in all_phrases:\n",
        "    pmi_forgotten[phrase] = compute_pmi(phrase, 'forgotten', phrases_forgotten, phrases_total, N_forgotten, N_total)\n",
        "    pmi_retained[phrase] = compute_pmi(phrase, 'retained', phrases_retained, phrases_total, N_retained, N_total)\n",
        "\n",
        "# Select top 50 PMI phrases\n",
        "top50_forgotten_phrases = dict(sorted(pmi_forgotten.items(), key=lambda x: x[1], reverse=True)[:50])\n",
        "top50_retained_phrases = dict(sorted(pmi_retained.items(), key=lambda x: x[1], reverse=True)[:50])\n",
        "\n",
        "# Plot word clouds\n",
        "print(\"🔴 Noun Phrases Most Predictive of FORGOTTEN Examples (PMI)\")\n",
        "plotWordCloud(top50_forgotten_phrases, **wordcloud_args)\n",
        "\n",
        "print(\"🟢 Noun Phrases Most Predictive of RETAINED Examples (PMI)\")\n",
        "plotWordCloud(top50_retained_phrases, **wordcloud_args)\n"
      ]
    }
  ],
  "metadata": {
    "accelerator": "GPU",
    "colab": {
      "gpuType": "T4",
      "provenance": [],
      "toc_visible": true
    },
    "kernelspec": {
      "display_name": "Python 3",
      "name": "python3"
    },
    "language_info": {
      "name": "python"
    }
  },
  "nbformat": 4,
  "nbformat_minor": 0
}